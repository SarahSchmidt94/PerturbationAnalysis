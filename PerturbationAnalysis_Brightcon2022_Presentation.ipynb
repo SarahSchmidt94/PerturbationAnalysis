{
 "cells": [
  {
   "cell_type": "markdown",
   "id": "40b72272",
   "metadata": {},
   "source": [
    "# Perturbation Analysis in Brightway2"
   ]
  },
  {
   "cell_type": "markdown",
   "id": "07ac3723",
   "metadata": {},
   "source": [
    "**Sarah Schmidt & David Laner**  \n",
    "Center for Resource Management and Solid Waste Engineering  \n",
    "University of Kassel - Faculty for Civil and Environmental Engineering  \n",
    "\n",
    "*September 2022*"
   ]
  },
  {
   "cell_type": "markdown",
   "id": "b33419e7",
   "metadata": {
    "toc": true
   },
   "source": [
    "<h1>Table of Contents<span class=\"tocSkip\"></span></h1>\n",
    "<div class=\"toc\"><ul class=\"toc-item\"><li><span><a href=\"#1.-Setup\" data-toc-modified-id=\"1.-Setup-1\">1. Setup</a></span></li><li><span><a href=\"#2.-Case-study\" data-toc-modified-id=\"2.-Case-study-2\">2. Case study</a></span><ul class=\"toc-item\"><li><span><a href=\"#2.1-LCA\" data-toc-modified-id=\"2.1-LCA-2.1\">2.1 LCA</a></span><ul class=\"toc-item\"><li><span><a href=\"#2.1.1-Functional-Unit\" data-toc-modified-id=\"2.1.1-Functional-Unit-2.1.1\">2.1.1 Functional Unit</a></span></li><li><span><a href=\"#2.1.2-LCIA-Methods\" data-toc-modified-id=\"2.1.2-LCIA-Methods-2.1.2\">2.1.2 LCIA Methods</a></span></li><li><span><a href=\"#2.1.3-Calculation\" data-toc-modified-id=\"2.1.3-Calculation-2.1.3\">2.1.3 Calculation</a></span></li></ul></li></ul></li><li><span><a href=\"#3.-Perturbation-Analysis\" data-toc-modified-id=\"3.-Perturbation-Analysis-3\">3. Perturbation Analysis</a></span><ul class=\"toc-item\"><li><span><a href=\"#3.1-Select-parameters-to-be-considered-in-the-perturbation-analysis\" data-toc-modified-id=\"3.1-Select-parameters-to-be-considered-in-the-perturbation-analysis-3.1\">3.1 Select parameters to be considered in the perturbation analysis</a></span></li><li><span><a href=\"#3.2-Prepare-Input-Data\" data-toc-modified-id=\"3.2-Prepare-Input-Data-3.2\">3.2 Prepare Input Data</a></span></li><li><span><a href=\"#3.3-Perform-Perturbation-Analysis\" data-toc-modified-id=\"3.3-Perform-Perturbation-Analysis-3.3\">3.3 Perform Perturbation Analysis</a></span></li><li><span><a href=\"#3.4-Calculate-Sensitivity-Indicators\" data-toc-modified-id=\"3.4-Calculate-Sensitivity-Indicators-3.4\">3.4 Calculate Sensitivity Indicators</a></span></li><li><span><a href=\"#3.5-Illustrate-Results\" data-toc-modified-id=\"3.5-Illustrate-Results-3.5\">3.5 Illustrate Results</a></span></li></ul></li><li><span><a href=\"#4.-Extended-Case-Study\" data-toc-modified-id=\"4.-Extended-Case-Study-4\">4. Extended Case Study</a></span><ul class=\"toc-item\"><li><span><a href=\"#4.1-Select-parameters-to-be-considered-in-the-perturbation-analysis\" data-toc-modified-id=\"4.1-Select-parameters-to-be-considered-in-the-perturbation-analysis-4.1\">4.1 Select parameters to be considered in the perturbation analysis</a></span></li><li><span><a href=\"#4.2-Prepare-Input-Data\" data-toc-modified-id=\"4.2-Prepare-Input-Data-4.2\">4.2 Prepare Input Data</a></span><ul class=\"toc-item\"><li><span><a href=\"#4.2.1-Check-for-duplicates\" data-toc-modified-id=\"4.2.1-Check-for-duplicates-4.2.1\">4.2.1 Check for duplicates</a></span></li><li><span><a href=\"#4.2.2-Check-for-loops\" data-toc-modified-id=\"4.2.2-Check-for-loops-4.2.2\">4.2.2 Check for loops</a></span></li><li><span><a href=\"#4.2.3-Check-for-zeros\" data-toc-modified-id=\"4.2.3-Check-for-zeros-4.2.3\">4.2.3 Check for zeros</a></span></li><li><span><a href=\"#4.2.4-Prepare-DataFrame\" data-toc-modified-id=\"4.2.4-Prepare-DataFrame-4.2.4\">4.2.4 Prepare DataFrame</a></span></li></ul></li><li><span><a href=\"#4.3-Perform-Perturbation-Analysis\" data-toc-modified-id=\"4.3-Perform-Perturbation-Analysis-4.3\">4.3 Perform Perturbation Analysis</a></span></li><li><span><a href=\"#4.4-Calculate-Sensitivity-Indicators\" data-toc-modified-id=\"4.4-Calculate-Sensitivity-Indicators-4.4\">4.4 Calculate Sensitivity Indicators</a></span></li><li><span><a href=\"#4.5-Illustrate-Results\" data-toc-modified-id=\"4.5-Illustrate-Results-4.5\">4.5 Illustrate Results</a></span></li></ul></li></ul></div>"
   ]
  },
  {
   "cell_type": "markdown",
   "id": "d465e17b",
   "metadata": {},
   "source": [
    "## 1. Setup"
   ]
  },
  {
   "cell_type": "code",
   "execution_count": 1,
   "id": "90abe916",
   "metadata": {},
   "outputs": [],
   "source": [
    "import pandas as pd\n",
    "import brightway2 as bw\n",
    "from brightway2 import *\n",
    "import perturbation_analysis as pa"
   ]
  },
  {
   "cell_type": "code",
   "execution_count": 2,
   "id": "23bdd21e",
   "metadata": {},
   "outputs": [],
   "source": [
    "projects.set_current(\"Perturbation_Analysis_2209\") #a new project will be created if it does not exist already"
   ]
  },
  {
   "cell_type": "code",
   "execution_count": 3,
   "id": "e00152af",
   "metadata": {},
   "outputs": [],
   "source": [
    "pd.set_option('display.max_rows', 10)"
   ]
  },
  {
   "cell_type": "markdown",
   "id": "6acf746a",
   "metadata": {},
   "source": [
    "**Import LCIA methods and elementary flows**"
   ]
  },
  {
   "cell_type": "code",
   "execution_count": 4,
   "id": "edd52611",
   "metadata": {
    "scrolled": false
   },
   "outputs": [
    {
     "name": "stdout",
     "output_type": "stream",
     "text": [
      "Biosphere database already present!!! No setup is needed\n"
     ]
    }
   ],
   "source": [
    "bw.bw2setup() #creates the database \"biosphere 3\""
   ]
  },
  {
   "cell_type": "code",
   "execution_count": 5,
   "id": "90155aa1",
   "metadata": {},
   "outputs": [],
   "source": [
    "biosphere=bw.Database('biosphere3')"
   ]
  },
  {
   "cell_type": "markdown",
   "id": "7374c6ae",
   "metadata": {},
   "source": [
    "**Import of ecoinvent**"
   ]
  },
  {
   "cell_type": "code",
   "execution_count": 6,
   "id": "cb089f01",
   "metadata": {},
   "outputs": [
    {
     "name": "stdout",
     "output_type": "stream",
     "text": [
      "Database has already been imported.\n"
     ]
    }
   ],
   "source": [
    "if 'ecoinvent 3.7.1_cutoff_ecoSpold02' in bw.databases:\n",
    "    print(\"Database has already been imported.\")\n",
    "    ei371 = bw.Database('ecoinvent 3.7.1_cutoff_ecoSpold02')\n",
    "else:\n",
    "    # mind that the ecoinvent file must be unzipped; then: path to the datasets subfolder\n",
    "    fpei371cut = r\"C:\\Users\\SarahSchmidt\\Desktop\\Databases\\ecoinvent\\ecoinvent 3.7.1_cutoff_ecoSpold02\\datasets\"\n",
    "    # the \"r\" makes sure that the path is read as a string - especially useful when you have spaces in your string\n",
    "    ei371cut = bw.SingleOutputEcospold2Importer(fpei371cut, 'ecoinvent 3.7.1_cutoff_ecoSpold02')\n",
    "    ei371cut\n",
    "    ei371cut.apply_strategies()\n",
    "    ei371cut.statistics()\n",
    "    ei371=ei371cut.write_database()"
   ]
  },
  {
   "cell_type": "markdown",
   "id": "d7e13a98",
   "metadata": {},
   "source": [
    "## 2. Case study"
   ]
  },
  {
   "cell_type": "markdown",
   "id": "c81e46cd",
   "metadata": {},
   "source": [
    "An activity is created and exchanges are added to this activity."
   ]
  },
  {
   "cell_type": "code",
   "execution_count": 7,
   "id": "d56dc8be",
   "metadata": {},
   "outputs": [
    {
     "name": "stdout",
     "output_type": "stream",
     "text": [
      "Activity is already existing.\n"
     ]
    }
   ],
   "source": [
    "try:\n",
    "    baking_banana_bread = [act for act in ei371 if 'bakingbananabread' == act['code']][0]\n",
    "    print(\"Activity is already existing.\")\n",
    "except IndexError:\n",
    "    baking_banana_bread = ei371.new_activity(code = 'bakingbananabread', name = \"baking banana bread\", unit = \"unit\", loc=\"DE\")\n",
    "    baking_banana_bread.save()"
   ]
  },
  {
   "cell_type": "code",
   "execution_count": 8,
   "id": "9d402d14",
   "metadata": {},
   "outputs": [],
   "source": [
    "baking_banana_bread.exchanges().delete()\n",
    "\n",
    "baking_banana_bread.new_exchange(input=baking_banana_bread.key,amount=1,unit=\"unit\",type='production').save() \n",
    "baking_banana_bread.save()\n",
    "\n",
    "#ingredients imported from Sri Lanka\n",
    "bananas = [act for act in ei371 if act['name']=='banana production' and 'RoW' in act['location']][0]\n",
    "baking_banana_bread.new_exchange(input=bananas.key,amount=0.4,unit=\"kilogram\",type='technosphere').save() \n",
    "baking_banana_bread.save()\n",
    "\n",
    "coconut_oil = [act for act in ei371 if act['name']=='coconut oil production, crude' and 'RoW' in act['location']][0]\n",
    "baking_banana_bread.new_exchange(input=coconut_oil.key,amount=0.9*0.075,unit=\"kilogram\",type='technosphere').save() \n",
    "baking_banana_bread.save()\n",
    "\n",
    "transport_LKA_GE = [act for act in ei371 if act['name']=='transport, freight, sea, container ship' and 'GLO' in act['location']][0]\n",
    "baking_banana_bread.new_exchange(input=transport_LKA_GE.key,amount=0.001*(0.4+0.075*0.9)*8000,unit=\"ton kilometer\",type='technosphere').save()\n",
    "baking_banana_bread.save()\n",
    "\n",
    "\n",
    "#ingredients imported from California\n",
    "almonds = [act for act in ei371 if act['name']=='almond production' and 'RoW' in act['location']][0]\n",
    "baking_banana_bread.new_exchange(input=almonds.key,amount=0.05,unit=\"kilogram\",type='technosphere').save()\n",
    "baking_banana_bread.save()\n",
    "\n",
    "transport_CA_GE = [act for act in ei371 if act['name']=='transport, freight, aircraft, belly-freight, long haul' and 'GLO' in act['location']][0]\n",
    "baking_banana_bread.new_exchange(input=transport_CA_GE.key,amount=0.001*0.05*9000,unit=\"ton kilometer\",type='technosphere').save()\n",
    "baking_banana_bread.save()\n",
    "\n",
    "\n",
    "# ingredients from Germany\n",
    "flour = [act for act in ei371 if act['name']=='market for wheat flour' and 'RoW' in act['location']][0]\n",
    "baking_banana_bread.new_exchange(input=flour.key,amount=0.245,unit=\"kilogram\",type='technosphere').save() \n",
    "baking_banana_bread.save()\n",
    "\n",
    "sugar = [act for act in ei371 if act['name']=='sugar beet production' and 'DE' in act['location']][0]\n",
    "baking_banana_bread.new_exchange(input=sugar.key,amount=0.075,unit=\"kilogram\",type='technosphere').save() \n",
    "baking_banana_bread.save()\n",
    "\n",
    "milk = [act for act in ei371 if act['name']=='milk production, from cow' and 'RoW' in act['location']][0]\n",
    "baking_banana_bread.new_exchange(input=milk.key,amount=0.06,unit=\"kilogram\",type='technosphere').save() \n",
    "baking_banana_bread.save()\n",
    "\n",
    "baking_powder = [act for act in ei371 if act['name']=='ammonium carbonate production' and 'RoW' in act['location']][0]\n",
    "baking_banana_bread.new_exchange(input=baking_powder.key,amount=0.005,unit=\"kilogram\",type='technosphere').save() \n",
    "baking_banana_bread.save()\n",
    "\n",
    "salt = [act for act in ei371 if act['name']=='salt production from seawater, evaporation pond' and 'GLO' in act['location']][0]\n",
    "baking_banana_bread.new_exchange(input=salt.key,amount=0.003,unit=\"kilogram\",type='technosphere').save() \n",
    "baking_banana_bread.save()\n",
    "\n",
    "transport_GE = [act for act in ei371 if act['name']=='market for transport, freight, lorry 16-32 metric ton, EURO5' and 'RER' in act['location']][0]\n",
    "baking_banana_bread.new_exchange(input=transport_GE.key,amount=0.001*(0.245+0.075+0.06+0.005+0.003)*50,unit=\"ton kilometer\",type='technosphere').save() \n",
    "baking_banana_bread.save()\n",
    "\n",
    "\n",
    "#electricity for baking\n",
    "electricity = [act for act in ei371 if act['name']=='market for electricity, medium voltage' and 'DE' in act['location']][0]\n",
    "baking_banana_bread.new_exchange(input=electricity.key,amount=1,unit=\"kilowatt hour\",type='technosphere').save()\n",
    "baking_banana_bread.save()"
   ]
  },
  {
   "cell_type": "markdown",
   "id": "de59c526",
   "metadata": {},
   "source": [
    "### 2.1 LCA"
   ]
  },
  {
   "cell_type": "markdown",
   "id": "017a8958",
   "metadata": {},
   "source": [
    "#### 2.1.1 Functional Unit"
   ]
  },
  {
   "cell_type": "code",
   "execution_count": 9,
   "id": "9bdcb9a4",
   "metadata": {},
   "outputs": [
    {
     "data": {
      "text/plain": [
       "{'baking banana bread' (unit, GLO, None): 1}"
      ]
     },
     "execution_count": 9,
     "metadata": {},
     "output_type": "execute_result"
    }
   ],
   "source": [
    "functional_unit = {baking_banana_bread:1}\n",
    "functional_unit"
   ]
  },
  {
   "cell_type": "markdown",
   "id": "22db052b",
   "metadata": {},
   "source": [
    "#### 2.1.2 LCIA Methods"
   ]
  },
  {
   "cell_type": "code",
   "execution_count": 10,
   "id": "d8540984",
   "metadata": {},
   "outputs": [],
   "source": [
    "import LCIA_methods_JRC"
   ]
  },
  {
   "cell_type": "code",
   "execution_count": 11,
   "id": "09911e8a",
   "metadata": {},
   "outputs": [],
   "source": [
    "LCIA_methods=LCIA_methods_JRC.LCIA_methods #list containing 16 LCIA methods recommended by JRC\n",
    "#LCIA_methods"
   ]
  },
  {
   "cell_type": "code",
   "execution_count": 12,
   "id": "f08a92e6",
   "metadata": {},
   "outputs": [],
   "source": [
    "LCIA_method_names=LCIA_methods_JRC.LCIA_method_names # short names of the impact categories assessed \n",
    "                                                        # by each of the methods"
   ]
  },
  {
   "cell_type": "code",
   "execution_count": 13,
   "id": "cd8b90d4",
   "metadata": {},
   "outputs": [],
   "source": [
    "units =[bw.methods.get(method)['unit'] for method in LCIA_methods]"
   ]
  },
  {
   "cell_type": "markdown",
   "id": "c9aa522f",
   "metadata": {},
   "source": [
    "#### 2.1.3 Calculation"
   ]
  },
  {
   "cell_type": "code",
   "execution_count": 14,
   "id": "c8dfaf89",
   "metadata": {},
   "outputs": [],
   "source": [
    "bw.calculation_setups['multiLCA'] = {'inv': [functional_unit], 'ia': LCIA_methods}"
   ]
  },
  {
   "cell_type": "code",
   "execution_count": 15,
   "id": "f8e60bde",
   "metadata": {},
   "outputs": [],
   "source": [
    "baking_banana_bread_MultiLCA = bw.MultiLCA('multiLCA')"
   ]
  },
  {
   "cell_type": "code",
   "execution_count": 16,
   "id": "09a2f0d2",
   "metadata": {},
   "outputs": [
    {
     "data": {
      "text/html": [
       "<div>\n",
       "<style scoped>\n",
       "    .dataframe tbody tr th:only-of-type {\n",
       "        vertical-align: middle;\n",
       "    }\n",
       "\n",
       "    .dataframe tbody tr th {\n",
       "        vertical-align: top;\n",
       "    }\n",
       "\n",
       "    .dataframe thead th {\n",
       "        text-align: right;\n",
       "    }\n",
       "</style>\n",
       "<table border=\"1\" class=\"dataframe\">\n",
       "  <thead>\n",
       "    <tr style=\"text-align: right;\">\n",
       "      <th></th>\n",
       "      <th>baking banana bread</th>\n",
       "      <th>unit</th>\n",
       "    </tr>\n",
       "  </thead>\n",
       "  <tbody>\n",
       "    <tr>\n",
       "      <th>GW</th>\n",
       "      <td>1.951724e+00</td>\n",
       "      <td>kg CO2-Eq</td>\n",
       "    </tr>\n",
       "    <tr>\n",
       "      <th>OD</th>\n",
       "      <td>1.141967e-07</td>\n",
       "      <td>kg CFC-11.</td>\n",
       "    </tr>\n",
       "    <tr>\n",
       "      <th>HTc</th>\n",
       "      <td>5.377118e-08</td>\n",
       "      <td>CTUh</td>\n",
       "    </tr>\n",
       "    <tr>\n",
       "      <th>HTnc</th>\n",
       "      <td>4.181930e-06</td>\n",
       "      <td>CTUh</td>\n",
       "    </tr>\n",
       "    <tr>\n",
       "      <th>PM</th>\n",
       "      <td>1.166042e-07</td>\n",
       "      <td>disease i.</td>\n",
       "    </tr>\n",
       "    <tr>\n",
       "      <th>...</th>\n",
       "      <td>...</td>\n",
       "      <td>...</td>\n",
       "    </tr>\n",
       "    <tr>\n",
       "      <th>ET</th>\n",
       "      <td>1.213538e+01</td>\n",
       "      <td>CTU</td>\n",
       "    </tr>\n",
       "    <tr>\n",
       "      <th>LU</th>\n",
       "      <td>5.495187e+02</td>\n",
       "      <td>points</td>\n",
       "    </tr>\n",
       "    <tr>\n",
       "      <th>RDw</th>\n",
       "      <td>1.580517e+01</td>\n",
       "      <td>m3 water-.</td>\n",
       "    </tr>\n",
       "    <tr>\n",
       "      <th>RDm</th>\n",
       "      <td>9.375785e-06</td>\n",
       "      <td>kg Sb-Eq</td>\n",
       "    </tr>\n",
       "    <tr>\n",
       "      <th>RDf</th>\n",
       "      <td>1.926355e+01</td>\n",
       "      <td>megajoule</td>\n",
       "    </tr>\n",
       "  </tbody>\n",
       "</table>\n",
       "<p>16 rows × 2 columns</p>\n",
       "</div>"
      ],
      "text/plain": [
       "      baking banana bread        unit\n",
       "GW           1.951724e+00   kg CO2-Eq\n",
       "OD           1.141967e-07  kg CFC-11.\n",
       "HTc          5.377118e-08        CTUh\n",
       "HTnc         4.181930e-06        CTUh\n",
       "PM           1.166042e-07  disease i.\n",
       "...                   ...         ...\n",
       "ET           1.213538e+01         CTU\n",
       "LU           5.495187e+02      points\n",
       "RDw          1.580517e+01  m3 water-.\n",
       "RDm          9.375785e-06    kg Sb-Eq\n",
       "RDf          1.926355e+01   megajoule\n",
       "\n",
       "[16 rows x 2 columns]"
      ]
     },
     "execution_count": 16,
     "metadata": {},
     "output_type": "execute_result"
    }
   ],
   "source": [
    "df_impact = pd.DataFrame(data = baking_banana_bread_MultiLCA.results.transpose(), index = LCIA_method_names,\n",
    "                        columns=['baking banana bread'])\n",
    "df_impact['unit']=units\n",
    "df_impact"
   ]
  },
  {
   "cell_type": "markdown",
   "id": "d69cf05d",
   "metadata": {},
   "source": [
    "## 3. Perturbation Analysis"
   ]
  },
  {
   "cell_type": "markdown",
   "id": "64eaacf7",
   "metadata": {},
   "source": [
    "### 3.1 Select parameters to be considered in the perturbation analysis"
   ]
  },
  {
   "attachments": {
    "Step1.png": {
     "image/png": "[encoded data removed]"
    }
   },
   "cell_type": "markdown",
   "id": "ee272391",
   "metadata": {},
   "source": [
    "![Step1.png](attachment:Step1.png)"
   ]
  },
  {
   "cell_type": "markdown",
   "id": "c387c433",
   "metadata": {},
   "source": [
    "The function *\"select_parameters_by_activity_list\"* takes a list with activities as an input and returns a list with all input exchanges of the named activities. This function might be applied if for example all exchanges in the foreground system shall be considered in the perturbation analysis."
   ]
  },
  {
   "cell_type": "markdown",
   "id": "ddb3d4f8",
   "metadata": {},
   "source": [
    "* **arguments:**  \n",
    "   * activity_list: list of activities to be considered\n",
    "   * exc_type: \"technosphere\", \"biosphere\" or \"all\" (default: all)\n",
    "       \n",
    "* **returns:** list of all exchanges of the activities included in the activity list matching the given exchange type"
   ]
  },
  {
   "cell_type": "code",
   "execution_count": 17,
   "id": "ea8db8a3",
   "metadata": {},
   "outputs": [
    {
     "data": {
      "text/plain": [
       "[Exchange: 0.4 kilogram 'banana production' (kilogram, RoW, None) to 'baking banana bread' (unit, GLO, None)>,\n",
       " Exchange: 0.0675 kilogram 'coconut oil production, crude' (kilogram, RoW, None) to 'baking banana bread' (unit, GLO, None)>,\n",
       " Exchange: 3.74 ton kilometer 'transport, freight, sea, container ship' (ton kilometer, GLO, None) to 'baking banana bread' (unit, GLO, None)>,\n",
       " Exchange: 0.05 kilogram 'almond production' (kilogram, RoW, None) to 'baking banana bread' (unit, GLO, None)>,\n",
       " Exchange: 0.45 ton kilometer 'transport, freight, aircraft, belly-freight, long haul' (ton kilometer, GLO, None) to 'baking banana bread' (unit, GLO, None)>,\n",
       " Exchange: 0.245 kilogram 'market for wheat flour' (kilogram, RoW, None) to 'baking banana bread' (unit, GLO, None)>,\n",
       " Exchange: 0.075 kilogram 'sugar beet production' (kilogram, DE, None) to 'baking banana bread' (unit, GLO, None)>,\n",
       " Exchange: 0.06 kilogram 'milk production, from cow' (kilogram, RoW, None) to 'baking banana bread' (unit, GLO, None)>,\n",
       " Exchange: 0.005 kilogram 'ammonium carbonate production' (kilogram, RoW, None) to 'baking banana bread' (unit, GLO, None)>,\n",
       " Exchange: 0.003 kilogram 'salt production from seawater, evaporation pond' (kilogram, GLO, None) to 'baking banana bread' (unit, GLO, None)>,\n",
       " Exchange: 0.0194 ton kilometer 'market for transport, freight, lorry 16-32 metric ton, EURO5' (ton kilometer, RER, None) to 'baking banana bread' (unit, GLO, None)>,\n",
       " Exchange: 1 kilowatt hour 'market for electricity, medium voltage' (kilowatt hour, DE, None) to 'baking banana bread' (unit, GLO, None)>]"
      ]
     },
     "execution_count": 17,
     "metadata": {},
     "output_type": "execute_result"
    }
   ],
   "source": [
    "param_list=pa.select_parameters_by_activity_list([baking_banana_bread])\n",
    "param_list"
   ]
  },
  {
   "cell_type": "markdown",
   "id": "7825910d",
   "metadata": {},
   "source": [
    "### 3.2 Prepare Input Data"
   ]
  },
  {
   "attachments": {
    "Step2.png": {
     "image/png": "[encoded data removed]"
    }
   },
   "cell_type": "markdown",
   "id": "a72d58ed",
   "metadata": {},
   "source": [
    "![Step2.png](attachment:Step2.png)"
   ]
  },
  {
   "cell_type": "markdown",
   "id": "8c2dd917",
   "metadata": {},
   "source": [
    "*parameters_to_dataframe* creates a DataFrame that will be used as an input for performing the perturbation analysis. The exchanges considered in the DataFrame can be categorized by key words in activity names or exchange input names, by exchange types or by exchange input locations."
   ]
  },
  {
   "cell_type": "markdown",
   "id": "57091222",
   "metadata": {},
   "source": [
    "* **arguments:**  \n",
    "   * parameter_list: list of exchanges to be considered\n",
    "   * category_type: None, \"activity\", \"input\", \"location\" or \"type\" (default: None)\n",
    "   * category_dict: A dictionary assigning categories (values) to key words (keys). Needs to be defined in case *category_type* is \"activity\", \"input\" or \"location\". (default: None)\n",
    "       \n",
    "* **returns:** list of all exchanges of the activities included in the activity list matching the given exchange type"
   ]
  },
  {
   "cell_type": "code",
   "execution_count": 33,
   "id": "ad36e422",
   "metadata": {},
   "outputs": [
    {
     "data": {
      "text/html": [
       "<div>\n",
       "<style scoped>\n",
       "    .dataframe tbody tr th:only-of-type {\n",
       "        vertical-align: middle;\n",
       "    }\n",
       "\n",
       "    .dataframe tbody tr th {\n",
       "        vertical-align: top;\n",
       "    }\n",
       "\n",
       "    .dataframe thead th {\n",
       "        text-align: right;\n",
       "    }\n",
       "</style>\n",
       "<table border=\"1\" class=\"dataframe\">\n",
       "  <thead>\n",
       "    <tr style=\"text-align: right;\">\n",
       "      <th></th>\n",
       "      <th>from</th>\n",
       "      <th>from - code</th>\n",
       "      <th>from - location</th>\n",
       "      <th>to</th>\n",
       "      <th>to - code</th>\n",
       "      <th>type</th>\n",
       "      <th>category</th>\n",
       "      <th>default amount</th>\n",
       "      <th>run0</th>\n",
       "      <th>run1</th>\n",
       "      <th>run2</th>\n",
       "      <th>run3</th>\n",
       "      <th>run4</th>\n",
       "      <th>run5</th>\n",
       "      <th>run6</th>\n",
       "      <th>run7</th>\n",
       "      <th>run8</th>\n",
       "      <th>run9</th>\n",
       "      <th>run10</th>\n",
       "      <th>run11</th>\n",
       "    </tr>\n",
       "  </thead>\n",
       "  <tbody>\n",
       "    <tr>\n",
       "      <th>0</th>\n",
       "      <td>banana production</td>\n",
       "      <td>92e64f27d7f015e878d4ef2976742738</td>\n",
       "      <td>RoW</td>\n",
       "      <td>baking banana bread</td>\n",
       "      <td>bakingbananabread</td>\n",
       "      <td>technosphere</td>\n",
       "      <td>ingredients</td>\n",
       "      <td>0.4000</td>\n",
       "      <td>0.4040</td>\n",
       "      <td>0.400000</td>\n",
       "      <td>0.4000</td>\n",
       "      <td>0.4000</td>\n",
       "      <td>0.4000</td>\n",
       "      <td>0.4000</td>\n",
       "      <td>0.4000</td>\n",
       "      <td>0.4000</td>\n",
       "      <td>0.40000</td>\n",
       "      <td>0.40000</td>\n",
       "      <td>0.400000</td>\n",
       "      <td>0.4000</td>\n",
       "    </tr>\n",
       "    <tr>\n",
       "      <th>1</th>\n",
       "      <td>coconut oil production, crude</td>\n",
       "      <td>e7e518b52017a50bbbbac1098c11f5f5</td>\n",
       "      <td>RoW</td>\n",
       "      <td>baking banana bread</td>\n",
       "      <td>bakingbananabread</td>\n",
       "      <td>technosphere</td>\n",
       "      <td>ingredients</td>\n",
       "      <td>0.0675</td>\n",
       "      <td>0.0675</td>\n",
       "      <td>0.068175</td>\n",
       "      <td>0.0675</td>\n",
       "      <td>0.0675</td>\n",
       "      <td>0.0675</td>\n",
       "      <td>0.0675</td>\n",
       "      <td>0.0675</td>\n",
       "      <td>0.0675</td>\n",
       "      <td>0.06750</td>\n",
       "      <td>0.06750</td>\n",
       "      <td>0.067500</td>\n",
       "      <td>0.0675</td>\n",
       "    </tr>\n",
       "    <tr>\n",
       "      <th>2</th>\n",
       "      <td>transport, freight, sea, container ship</td>\n",
       "      <td>b7f36fd38fb9f8ab7ec687bd658b36aa</td>\n",
       "      <td>GLO</td>\n",
       "      <td>baking banana bread</td>\n",
       "      <td>bakingbananabread</td>\n",
       "      <td>technosphere</td>\n",
       "      <td>transport</td>\n",
       "      <td>3.7400</td>\n",
       "      <td>3.7400</td>\n",
       "      <td>3.740000</td>\n",
       "      <td>3.7774</td>\n",
       "      <td>3.7400</td>\n",
       "      <td>3.7400</td>\n",
       "      <td>3.7400</td>\n",
       "      <td>3.7400</td>\n",
       "      <td>3.7400</td>\n",
       "      <td>3.74000</td>\n",
       "      <td>3.74000</td>\n",
       "      <td>3.740000</td>\n",
       "      <td>3.7400</td>\n",
       "    </tr>\n",
       "    <tr>\n",
       "      <th>3</th>\n",
       "      <td>almond production</td>\n",
       "      <td>a9b66be975b737b12705f3366d31bd1e</td>\n",
       "      <td>RoW</td>\n",
       "      <td>baking banana bread</td>\n",
       "      <td>bakingbananabread</td>\n",
       "      <td>technosphere</td>\n",
       "      <td>ingredients</td>\n",
       "      <td>0.0500</td>\n",
       "      <td>0.0500</td>\n",
       "      <td>0.050000</td>\n",
       "      <td>0.0500</td>\n",
       "      <td>0.0505</td>\n",
       "      <td>0.0500</td>\n",
       "      <td>0.0500</td>\n",
       "      <td>0.0500</td>\n",
       "      <td>0.0500</td>\n",
       "      <td>0.05000</td>\n",
       "      <td>0.05000</td>\n",
       "      <td>0.050000</td>\n",
       "      <td>0.0500</td>\n",
       "    </tr>\n",
       "    <tr>\n",
       "      <th>4</th>\n",
       "      <td>transport, freight, aircraft, belly-freight, l...</td>\n",
       "      <td>034bbdcaaf672de1e7a1fe4c26372892</td>\n",
       "      <td>GLO</td>\n",
       "      <td>baking banana bread</td>\n",
       "      <td>bakingbananabread</td>\n",
       "      <td>technosphere</td>\n",
       "      <td>transport</td>\n",
       "      <td>0.4500</td>\n",
       "      <td>0.4500</td>\n",
       "      <td>0.450000</td>\n",
       "      <td>0.4500</td>\n",
       "      <td>0.4500</td>\n",
       "      <td>0.4545</td>\n",
       "      <td>0.4500</td>\n",
       "      <td>0.4500</td>\n",
       "      <td>0.4500</td>\n",
       "      <td>0.45000</td>\n",
       "      <td>0.45000</td>\n",
       "      <td>0.450000</td>\n",
       "      <td>0.4500</td>\n",
       "    </tr>\n",
       "    <tr>\n",
       "      <th>...</th>\n",
       "      <td>...</td>\n",
       "      <td>...</td>\n",
       "      <td>...</td>\n",
       "      <td>...</td>\n",
       "      <td>...</td>\n",
       "      <td>...</td>\n",
       "      <td>...</td>\n",
       "      <td>...</td>\n",
       "      <td>...</td>\n",
       "      <td>...</td>\n",
       "      <td>...</td>\n",
       "      <td>...</td>\n",
       "      <td>...</td>\n",
       "      <td>...</td>\n",
       "      <td>...</td>\n",
       "      <td>...</td>\n",
       "      <td>...</td>\n",
       "      <td>...</td>\n",
       "      <td>...</td>\n",
       "      <td>...</td>\n",
       "    </tr>\n",
       "    <tr>\n",
       "      <th>7</th>\n",
       "      <td>milk production, from cow</td>\n",
       "      <td>30983ca593f5379869b9b7e3f6ccbf65</td>\n",
       "      <td>RoW</td>\n",
       "      <td>baking banana bread</td>\n",
       "      <td>bakingbananabread</td>\n",
       "      <td>technosphere</td>\n",
       "      <td>ingredients</td>\n",
       "      <td>0.0600</td>\n",
       "      <td>0.0600</td>\n",
       "      <td>0.060000</td>\n",
       "      <td>0.0600</td>\n",
       "      <td>0.0600</td>\n",
       "      <td>0.0600</td>\n",
       "      <td>0.0600</td>\n",
       "      <td>0.0600</td>\n",
       "      <td>0.0606</td>\n",
       "      <td>0.06000</td>\n",
       "      <td>0.06000</td>\n",
       "      <td>0.060000</td>\n",
       "      <td>0.0600</td>\n",
       "    </tr>\n",
       "    <tr>\n",
       "      <th>8</th>\n",
       "      <td>ammonium carbonate production</td>\n",
       "      <td>6b71ff189f73e7c5db8f43df84354641</td>\n",
       "      <td>RoW</td>\n",
       "      <td>baking banana bread</td>\n",
       "      <td>bakingbananabread</td>\n",
       "      <td>technosphere</td>\n",
       "      <td>ingredients</td>\n",
       "      <td>0.0050</td>\n",
       "      <td>0.0050</td>\n",
       "      <td>0.005000</td>\n",
       "      <td>0.0050</td>\n",
       "      <td>0.0050</td>\n",
       "      <td>0.0050</td>\n",
       "      <td>0.0050</td>\n",
       "      <td>0.0050</td>\n",
       "      <td>0.0050</td>\n",
       "      <td>0.00505</td>\n",
       "      <td>0.00500</td>\n",
       "      <td>0.005000</td>\n",
       "      <td>0.0050</td>\n",
       "    </tr>\n",
       "    <tr>\n",
       "      <th>9</th>\n",
       "      <td>salt production from seawater, evaporation pond</td>\n",
       "      <td>845aac68817ec25b85464aef8b7b86ac</td>\n",
       "      <td>GLO</td>\n",
       "      <td>baking banana bread</td>\n",
       "      <td>bakingbananabread</td>\n",
       "      <td>technosphere</td>\n",
       "      <td>ingredients</td>\n",
       "      <td>0.0030</td>\n",
       "      <td>0.0030</td>\n",
       "      <td>0.003000</td>\n",
       "      <td>0.0030</td>\n",
       "      <td>0.0030</td>\n",
       "      <td>0.0030</td>\n",
       "      <td>0.0030</td>\n",
       "      <td>0.0030</td>\n",
       "      <td>0.0030</td>\n",
       "      <td>0.00300</td>\n",
       "      <td>0.00303</td>\n",
       "      <td>0.003000</td>\n",
       "      <td>0.0030</td>\n",
       "    </tr>\n",
       "    <tr>\n",
       "      <th>10</th>\n",
       "      <td>market for transport, freight, lorry 16-32 met...</td>\n",
       "      <td>8ceab4319b3eb21ad7adb89accd4465b</td>\n",
       "      <td>RER</td>\n",
       "      <td>baking banana bread</td>\n",
       "      <td>bakingbananabread</td>\n",
       "      <td>technosphere</td>\n",
       "      <td>transport</td>\n",
       "      <td>0.0194</td>\n",
       "      <td>0.0194</td>\n",
       "      <td>0.019400</td>\n",
       "      <td>0.0194</td>\n",
       "      <td>0.0194</td>\n",
       "      <td>0.0194</td>\n",
       "      <td>0.0194</td>\n",
       "      <td>0.0194</td>\n",
       "      <td>0.0194</td>\n",
       "      <td>0.01940</td>\n",
       "      <td>0.01940</td>\n",
       "      <td>0.019594</td>\n",
       "      <td>0.0194</td>\n",
       "    </tr>\n",
       "    <tr>\n",
       "      <th>11</th>\n",
       "      <td>market for electricity, medium voltage</td>\n",
       "      <td>d20464840573665d431297c62b3cab90</td>\n",
       "      <td>DE</td>\n",
       "      <td>baking banana bread</td>\n",
       "      <td>bakingbananabread</td>\n",
       "      <td>technosphere</td>\n",
       "      <td>energy</td>\n",
       "      <td>1.0000</td>\n",
       "      <td>1.0000</td>\n",
       "      <td>1.000000</td>\n",
       "      <td>1.0000</td>\n",
       "      <td>1.0000</td>\n",
       "      <td>1.0000</td>\n",
       "      <td>1.0000</td>\n",
       "      <td>1.0000</td>\n",
       "      <td>1.0000</td>\n",
       "      <td>1.00000</td>\n",
       "      <td>1.00000</td>\n",
       "      <td>1.000000</td>\n",
       "      <td>1.0100</td>\n",
       "    </tr>\n",
       "  </tbody>\n",
       "</table>\n",
       "<p>12 rows × 20 columns</p>\n",
       "</div>"
      ],
      "text/plain": [
       "                                                 from  \\\n",
       "0                                   banana production   \n",
       "1                       coconut oil production, crude   \n",
       "2             transport, freight, sea, container ship   \n",
       "3                                   almond production   \n",
       "4   transport, freight, aircraft, belly-freight, l...   \n",
       "..                                                ...   \n",
       "7                           milk production, from cow   \n",
       "8                       ammonium carbonate production   \n",
       "9     salt production from seawater, evaporation pond   \n",
       "10  market for transport, freight, lorry 16-32 met...   \n",
       "11             market for electricity, medium voltage   \n",
       "\n",
       "                         from - code from - location                   to  \\\n",
       "0   92e64f27d7f015e878d4ef2976742738             RoW  baking banana bread   \n",
       "1   e7e518b52017a50bbbbac1098c11f5f5             RoW  baking banana bread   \n",
       "2   b7f36fd38fb9f8ab7ec687bd658b36aa             GLO  baking banana bread   \n",
       "3   a9b66be975b737b12705f3366d31bd1e             RoW  baking banana bread   \n",
       "4   034bbdcaaf672de1e7a1fe4c26372892             GLO  baking banana bread   \n",
       "..                               ...             ...                  ...   \n",
       "7   30983ca593f5379869b9b7e3f6ccbf65             RoW  baking banana bread   \n",
       "8   6b71ff189f73e7c5db8f43df84354641             RoW  baking banana bread   \n",
       "9   845aac68817ec25b85464aef8b7b86ac             GLO  baking banana bread   \n",
       "10  8ceab4319b3eb21ad7adb89accd4465b             RER  baking banana bread   \n",
       "11  d20464840573665d431297c62b3cab90              DE  baking banana bread   \n",
       "\n",
       "            to - code          type     category  default amount    run0  \\\n",
       "0   bakingbananabread  technosphere  ingredients          0.4000  0.4040   \n",
       "1   bakingbananabread  technosphere  ingredients          0.0675  0.0675   \n",
       "2   bakingbananabread  technosphere    transport          3.7400  3.7400   \n",
       "3   bakingbananabread  technosphere  ingredients          0.0500  0.0500   \n",
       "4   bakingbananabread  technosphere    transport          0.4500  0.4500   \n",
       "..                ...           ...          ...             ...     ...   \n",
       "7   bakingbananabread  technosphere  ingredients          0.0600  0.0600   \n",
       "8   bakingbananabread  technosphere  ingredients          0.0050  0.0050   \n",
       "9   bakingbananabread  technosphere  ingredients          0.0030  0.0030   \n",
       "10  bakingbananabread  technosphere    transport          0.0194  0.0194   \n",
       "11  bakingbananabread  technosphere       energy          1.0000  1.0000   \n",
       "\n",
       "        run1    run2    run3    run4    run5    run6    run7     run8  \\\n",
       "0   0.400000  0.4000  0.4000  0.4000  0.4000  0.4000  0.4000  0.40000   \n",
       "1   0.068175  0.0675  0.0675  0.0675  0.0675  0.0675  0.0675  0.06750   \n",
       "2   3.740000  3.7774  3.7400  3.7400  3.7400  3.7400  3.7400  3.74000   \n",
       "3   0.050000  0.0500  0.0505  0.0500  0.0500  0.0500  0.0500  0.05000   \n",
       "4   0.450000  0.4500  0.4500  0.4545  0.4500  0.4500  0.4500  0.45000   \n",
       "..       ...     ...     ...     ...     ...     ...     ...      ...   \n",
       "7   0.060000  0.0600  0.0600  0.0600  0.0600  0.0600  0.0606  0.06000   \n",
       "8   0.005000  0.0050  0.0050  0.0050  0.0050  0.0050  0.0050  0.00505   \n",
       "9   0.003000  0.0030  0.0030  0.0030  0.0030  0.0030  0.0030  0.00300   \n",
       "10  0.019400  0.0194  0.0194  0.0194  0.0194  0.0194  0.0194  0.01940   \n",
       "11  1.000000  1.0000  1.0000  1.0000  1.0000  1.0000  1.0000  1.00000   \n",
       "\n",
       "       run9     run10   run11  \n",
       "0   0.40000  0.400000  0.4000  \n",
       "1   0.06750  0.067500  0.0675  \n",
       "2   3.74000  3.740000  3.7400  \n",
       "3   0.05000  0.050000  0.0500  \n",
       "4   0.45000  0.450000  0.4500  \n",
       "..      ...       ...     ...  \n",
       "7   0.06000  0.060000  0.0600  \n",
       "8   0.00500  0.005000  0.0050  \n",
       "9   0.00303  0.003000  0.0030  \n",
       "10  0.01940  0.019594  0.0194  \n",
       "11  1.00000  1.000000  1.0100  \n",
       "\n",
       "[12 rows x 20 columns]"
      ]
     },
     "execution_count": 33,
     "metadata": {},
     "output_type": "execute_result"
    }
   ],
   "source": [
    "perturb_input=pa.parameters_to_dataframe(param_list,category_type='input',\n",
    "                                    category_dict={'banana':'ingredients',\n",
    "                                                   'coconut':'ingredients',\n",
    "                                                   'almond':'ingredients',\n",
    "                                                   'milk':'ingredients',\n",
    "                                                   'flour':'ingredients',\n",
    "                                                   'sugar':'ingredients',\n",
    "                                                   'carbonate':'ingredients',\n",
    "                                                   'salt':'ingredients',\n",
    "                                                   'transport':'transport',\n",
    "                                                   'electricity':'energy'})\n",
    "perturb_input"
   ]
  },
  {
   "cell_type": "code",
   "execution_count": 34,
   "id": "69510fb8",
   "metadata": {},
   "outputs": [
    {
     "data": {
      "text/plain": [
       "ingredients    8\n",
       "transport      3\n",
       "energy         1\n",
       "Name: category, dtype: int64"
      ]
     },
     "execution_count": 34,
     "metadata": {},
     "output_type": "execute_result"
    }
   ],
   "source": [
    "perturb_input['category'].value_counts()"
   ]
  },
  {
   "cell_type": "markdown",
   "id": "abe08a54",
   "metadata": {},
   "source": [
    "### 3.3 Perform Perturbation Analysis"
   ]
  },
  {
   "attachments": {
    "Step3.png": {
     "image/png": "[encoded data removed]"
    }
   },
   "cell_type": "markdown",
   "id": "bca258df",
   "metadata": {},
   "source": [
    "![Step3.png](attachment:Step3.png)"
   ]
  },
  {
   "cell_type": "markdown",
   "id": "69a5896e",
   "metadata": {},
   "source": [
    "* **arguments:**  \n",
    "   * functional unit: {activity : amount}\n",
    "   * LCIA methods: list containing at least one bw.methods-item\n",
    "   * perturb_input: dataframe containing input data for the perturbation analysis (output of the function *parameters_to_dataframe*)\n",
    "   * database_name: name of the database used\n",
    "       \n",
    "* **returns:** \n",
    "    * results of the reproduced LCA calculations for an incremental increase of each parameter individually (columns: methods, indices: runs of the LCA calculation (\"default\" refers to the default LCA results, \"run-i\" refers to the reproduced calculation for an incremental increase of parameter i --> cf. index in *perturb_input*)\n",
    "\n",
    "The caluclation is performed using *presamples*. (cf. https://presamples.readthedocs.io/en/latest/use_with_bw2.html, Lesage et al. 2018: https://doi.org/10.1007/s11367-018-1444-x)"
   ]
  },
  {
   "cell_type": "code",
   "execution_count": 35,
   "id": "3c6793f2",
   "metadata": {},
   "outputs": [
    {
     "name": "stdout",
     "output_type": "stream",
     "text": [
      "--- 9.47 seconds ---\n"
     ]
    },
    {
     "data": {
      "text/html": [
       "<div>\n",
       "<style scoped>\n",
       "    .dataframe tbody tr th:only-of-type {\n",
       "        vertical-align: middle;\n",
       "    }\n",
       "\n",
       "    .dataframe tbody tr th {\n",
       "        vertical-align: top;\n",
       "    }\n",
       "\n",
       "    .dataframe thead th {\n",
       "        text-align: right;\n",
       "    }\n",
       "</style>\n",
       "<table border=\"1\" class=\"dataframe\">\n",
       "  <thead>\n",
       "    <tr style=\"text-align: right;\">\n",
       "      <th></th>\n",
       "      <th>('ILCD 2.0 2018 midpoint no LT', 'climate change', 'climate change total')</th>\n",
       "      <th>('ILCD 2.0 2018 midpoint no LT', 'human health', 'ozone layer depletion')</th>\n",
       "      <th>('ILCD 2.0 2018 midpoint no LT', 'human health', 'carcinogenic effects')</th>\n",
       "      <th>('ILCD 2.0 2018 midpoint no LT', 'human health', 'non-carcinogenic effects')</th>\n",
       "      <th>('ILCD 2.0 2018 midpoint no LT', 'human health', 'respiratory effects, inorganics')</th>\n",
       "      <th>('ILCD 2.0 2018 midpoint no LT', 'human health', 'ionising radiation')</th>\n",
       "      <th>('ILCD 2.0 2018 midpoint no LT', 'human health', 'photochemical ozone creation')</th>\n",
       "      <th>('ILCD 2.0 2018 midpoint no LT', 'ecosystem quality', 'freshwater and terrestrial acidification')</th>\n",
       "      <th>('ILCD 2.0 2018 midpoint no LT', 'ecosystem quality', 'terrestrial eutrophication')</th>\n",
       "      <th>('ILCD 2.0 2018 midpoint no LT', 'ecosystem quality', 'freshwater eutrophication')</th>\n",
       "      <th>('ILCD 2.0 2018 midpoint no LT', 'ecosystem quality', 'marine eutrophication')</th>\n",
       "      <th>('ILCD 2.0 2018 midpoint no LT', 'ecosystem quality', 'freshwater ecotoxicity')</th>\n",
       "      <th>('ILCD 2.0 2018 midpoint no LT', 'resources', 'land use')</th>\n",
       "      <th>('ILCD 2.0 2018 midpoint no LT', 'resources', 'dissipated water')</th>\n",
       "      <th>('ILCD 2.0 2018 midpoint no LT', 'resources', 'minerals and metals')</th>\n",
       "      <th>('ILCD 2.0 2018 midpoint no LT', 'resources', 'fossils')</th>\n",
       "    </tr>\n",
       "  </thead>\n",
       "  <tbody>\n",
       "    <tr>\n",
       "      <th>default</th>\n",
       "      <td>1.951724</td>\n",
       "      <td>1.141967e-07</td>\n",
       "      <td>5.377118e-08</td>\n",
       "      <td>0.000004</td>\n",
       "      <td>1.166042e-07</td>\n",
       "      <td>0.056156</td>\n",
       "      <td>0.005865</td>\n",
       "      <td>0.018368</td>\n",
       "      <td>0.072797</td>\n",
       "      <td>0.000309</td>\n",
       "      <td>0.009860</td>\n",
       "      <td>12.135384</td>\n",
       "      <td>549.518718</td>\n",
       "      <td>15.805165</td>\n",
       "      <td>0.000009</td>\n",
       "      <td>19.263551</td>\n",
       "    </tr>\n",
       "    <tr>\n",
       "      <th>run0</th>\n",
       "      <td>1.952307</td>\n",
       "      <td>1.142225e-07</td>\n",
       "      <td>5.379344e-08</td>\n",
       "      <td>0.000004</td>\n",
       "      <td>1.166642e-07</td>\n",
       "      <td>0.056168</td>\n",
       "      <td>0.005866</td>\n",
       "      <td>0.018377</td>\n",
       "      <td>0.072833</td>\n",
       "      <td>0.000309</td>\n",
       "      <td>0.009869</td>\n",
       "      <td>12.135802</td>\n",
       "      <td>549.668163</td>\n",
       "      <td>15.833363</td>\n",
       "      <td>0.000009</td>\n",
       "      <td>19.267552</td>\n",
       "    </tr>\n",
       "    <tr>\n",
       "      <th>run1</th>\n",
       "      <td>1.953513</td>\n",
       "      <td>1.142874e-07</td>\n",
       "      <td>5.387623e-08</td>\n",
       "      <td>0.000004</td>\n",
       "      <td>1.168105e-07</td>\n",
       "      <td>0.056191</td>\n",
       "      <td>0.005873</td>\n",
       "      <td>0.018391</td>\n",
       "      <td>0.072891</td>\n",
       "      <td>0.000310</td>\n",
       "      <td>0.009886</td>\n",
       "      <td>12.185409</td>\n",
       "      <td>549.998627</td>\n",
       "      <td>15.819340</td>\n",
       "      <td>0.000009</td>\n",
       "      <td>19.275622</td>\n",
       "    </tr>\n",
       "    <tr>\n",
       "      <th>run2</th>\n",
       "      <td>1.952075</td>\n",
       "      <td>1.142674e-07</td>\n",
       "      <td>5.378160e-08</td>\n",
       "      <td>0.000004</td>\n",
       "      <td>1.166147e-07</td>\n",
       "      <td>0.056176</td>\n",
       "      <td>0.005873</td>\n",
       "      <td>0.018380</td>\n",
       "      <td>0.072828</td>\n",
       "      <td>0.000309</td>\n",
       "      <td>0.009863</td>\n",
       "      <td>12.135554</td>\n",
       "      <td>549.519061</td>\n",
       "      <td>15.805178</td>\n",
       "      <td>0.000009</td>\n",
       "      <td>19.268021</td>\n",
       "    </tr>\n",
       "    <tr>\n",
       "      <th>run3</th>\n",
       "      <td>1.952540</td>\n",
       "      <td>1.142518e-07</td>\n",
       "      <td>5.379704e-08</td>\n",
       "      <td>0.000004</td>\n",
       "      <td>1.166906e-07</td>\n",
       "      <td>0.056175</td>\n",
       "      <td>0.005868</td>\n",
       "      <td>0.018382</td>\n",
       "      <td>0.072853</td>\n",
       "      <td>0.000309</td>\n",
       "      <td>0.009866</td>\n",
       "      <td>12.187272</td>\n",
       "      <td>549.737129</td>\n",
       "      <td>15.853185</td>\n",
       "      <td>0.000009</td>\n",
       "      <td>19.271286</td>\n",
       "    </tr>\n",
       "    <tr>\n",
       "      <th>...</th>\n",
       "      <td>...</td>\n",
       "      <td>...</td>\n",
       "      <td>...</td>\n",
       "      <td>...</td>\n",
       "      <td>...</td>\n",
       "      <td>...</td>\n",
       "      <td>...</td>\n",
       "      <td>...</td>\n",
       "      <td>...</td>\n",
       "      <td>...</td>\n",
       "      <td>...</td>\n",
       "      <td>...</td>\n",
       "      <td>...</td>\n",
       "      <td>...</td>\n",
       "      <td>...</td>\n",
       "      <td>...</td>\n",
       "    </tr>\n",
       "    <tr>\n",
       "      <th>run7</th>\n",
       "      <td>1.957587</td>\n",
       "      <td>1.143495e-07</td>\n",
       "      <td>5.390031e-08</td>\n",
       "      <td>0.000004</td>\n",
       "      <td>1.170427e-07</td>\n",
       "      <td>0.056225</td>\n",
       "      <td>0.005875</td>\n",
       "      <td>0.018429</td>\n",
       "      <td>0.073053</td>\n",
       "      <td>0.000310</td>\n",
       "      <td>0.009885</td>\n",
       "      <td>12.146921</td>\n",
       "      <td>553.089547</td>\n",
       "      <td>15.811071</td>\n",
       "      <td>0.000009</td>\n",
       "      <td>19.286283</td>\n",
       "    </tr>\n",
       "    <tr>\n",
       "      <th>run8</th>\n",
       "      <td>1.951835</td>\n",
       "      <td>1.142006e-07</td>\n",
       "      <td>5.377315e-08</td>\n",
       "      <td>0.000004</td>\n",
       "      <td>1.166087e-07</td>\n",
       "      <td>0.056158</td>\n",
       "      <td>0.005865</td>\n",
       "      <td>0.018369</td>\n",
       "      <td>0.072798</td>\n",
       "      <td>0.000309</td>\n",
       "      <td>0.009860</td>\n",
       "      <td>12.135436</td>\n",
       "      <td>549.519175</td>\n",
       "      <td>15.805240</td>\n",
       "      <td>0.000009</td>\n",
       "      <td>19.264913</td>\n",
       "    </tr>\n",
       "    <tr>\n",
       "      <th>run9</th>\n",
       "      <td>1.951724</td>\n",
       "      <td>1.141967e-07</td>\n",
       "      <td>5.377118e-08</td>\n",
       "      <td>0.000004</td>\n",
       "      <td>1.166042e-07</td>\n",
       "      <td>0.056156</td>\n",
       "      <td>0.005865</td>\n",
       "      <td>0.018368</td>\n",
       "      <td>0.072797</td>\n",
       "      <td>0.000309</td>\n",
       "      <td>0.009860</td>\n",
       "      <td>12.135384</td>\n",
       "      <td>549.518718</td>\n",
       "      <td>15.840728</td>\n",
       "      <td>0.000009</td>\n",
       "      <td>19.263552</td>\n",
       "    </tr>\n",
       "    <tr>\n",
       "      <th>run10</th>\n",
       "      <td>1.951756</td>\n",
       "      <td>1.142040e-07</td>\n",
       "      <td>5.377181e-08</td>\n",
       "      <td>0.000004</td>\n",
       "      <td>1.166064e-07</td>\n",
       "      <td>0.056158</td>\n",
       "      <td>0.005865</td>\n",
       "      <td>0.018368</td>\n",
       "      <td>0.072797</td>\n",
       "      <td>0.000309</td>\n",
       "      <td>0.009860</td>\n",
       "      <td>12.135469</td>\n",
       "      <td>549.519209</td>\n",
       "      <td>15.805167</td>\n",
       "      <td>0.000009</td>\n",
       "      <td>19.264040</td>\n",
       "    </tr>\n",
       "    <tr>\n",
       "      <th>run11</th>\n",
       "      <td>1.957561</td>\n",
       "      <td>1.143430e-07</td>\n",
       "      <td>5.383542e-08</td>\n",
       "      <td>0.000004</td>\n",
       "      <td>1.166440e-07</td>\n",
       "      <td>0.056397</td>\n",
       "      <td>0.005872</td>\n",
       "      <td>0.018381</td>\n",
       "      <td>0.072826</td>\n",
       "      <td>0.000310</td>\n",
       "      <td>0.009862</td>\n",
       "      <td>12.136777</td>\n",
       "      <td>549.540445</td>\n",
       "      <td>15.806086</td>\n",
       "      <td>0.000009</td>\n",
       "      <td>19.359422</td>\n",
       "    </tr>\n",
       "  </tbody>\n",
       "</table>\n",
       "<p>13 rows × 16 columns</p>\n",
       "</div>"
      ],
      "text/plain": [
       "         ('ILCD 2.0 2018 midpoint no LT', 'climate change', 'climate change total')  \\\n",
       "default                                           1.951724                            \n",
       "run0                                              1.952307                            \n",
       "run1                                              1.953513                            \n",
       "run2                                              1.952075                            \n",
       "run3                                              1.952540                            \n",
       "...                                                    ...                            \n",
       "run7                                              1.957587                            \n",
       "run8                                              1.951835                            \n",
       "run9                                              1.951724                            \n",
       "run10                                             1.951756                            \n",
       "run11                                             1.957561                            \n",
       "\n",
       "         ('ILCD 2.0 2018 midpoint no LT', 'human health', 'ozone layer depletion')  \\\n",
       "default                                       1.141967e-07                           \n",
       "run0                                          1.142225e-07                           \n",
       "run1                                          1.142874e-07                           \n",
       "run2                                          1.142674e-07                           \n",
       "run3                                          1.142518e-07                           \n",
       "...                                                    ...                           \n",
       "run7                                          1.143495e-07                           \n",
       "run8                                          1.142006e-07                           \n",
       "run9                                          1.141967e-07                           \n",
       "run10                                         1.142040e-07                           \n",
       "run11                                         1.143430e-07                           \n",
       "\n",
       "         ('ILCD 2.0 2018 midpoint no LT', 'human health', 'carcinogenic effects')  \\\n",
       "default                                       5.377118e-08                          \n",
       "run0                                          5.379344e-08                          \n",
       "run1                                          5.387623e-08                          \n",
       "run2                                          5.378160e-08                          \n",
       "run3                                          5.379704e-08                          \n",
       "...                                                    ...                          \n",
       "run7                                          5.390031e-08                          \n",
       "run8                                          5.377315e-08                          \n",
       "run9                                          5.377118e-08                          \n",
       "run10                                         5.377181e-08                          \n",
       "run11                                         5.383542e-08                          \n",
       "\n",
       "         ('ILCD 2.0 2018 midpoint no LT', 'human health', 'non-carcinogenic effects')  \\\n",
       "default                                           0.000004                              \n",
       "run0                                              0.000004                              \n",
       "run1                                              0.000004                              \n",
       "run2                                              0.000004                              \n",
       "run3                                              0.000004                              \n",
       "...                                                    ...                              \n",
       "run7                                              0.000004                              \n",
       "run8                                              0.000004                              \n",
       "run9                                              0.000004                              \n",
       "run10                                             0.000004                              \n",
       "run11                                             0.000004                              \n",
       "\n",
       "         ('ILCD 2.0 2018 midpoint no LT', 'human health', 'respiratory effects, inorganics')  \\\n",
       "default                                       1.166042e-07                                     \n",
       "run0                                          1.166642e-07                                     \n",
       "run1                                          1.168105e-07                                     \n",
       "run2                                          1.166147e-07                                     \n",
       "run3                                          1.166906e-07                                     \n",
       "...                                                    ...                                     \n",
       "run7                                          1.170427e-07                                     \n",
       "run8                                          1.166087e-07                                     \n",
       "run9                                          1.166042e-07                                     \n",
       "run10                                         1.166064e-07                                     \n",
       "run11                                         1.166440e-07                                     \n",
       "\n",
       "         ('ILCD 2.0 2018 midpoint no LT', 'human health', 'ionising radiation')  \\\n",
       "default                                           0.056156                        \n",
       "run0                                              0.056168                        \n",
       "run1                                              0.056191                        \n",
       "run2                                              0.056176                        \n",
       "run3                                              0.056175                        \n",
       "...                                                    ...                        \n",
       "run7                                              0.056225                        \n",
       "run8                                              0.056158                        \n",
       "run9                                              0.056156                        \n",
       "run10                                             0.056158                        \n",
       "run11                                             0.056397                        \n",
       "\n",
       "         ('ILCD 2.0 2018 midpoint no LT', 'human health', 'photochemical ozone creation')  \\\n",
       "default                                           0.005865                                  \n",
       "run0                                              0.005866                                  \n",
       "run1                                              0.005873                                  \n",
       "run2                                              0.005873                                  \n",
       "run3                                              0.005868                                  \n",
       "...                                                    ...                                  \n",
       "run7                                              0.005875                                  \n",
       "run8                                              0.005865                                  \n",
       "run9                                              0.005865                                  \n",
       "run10                                             0.005865                                  \n",
       "run11                                             0.005872                                  \n",
       "\n",
       "         ('ILCD 2.0 2018 midpoint no LT', 'ecosystem quality', 'freshwater and terrestrial acidification')  \\\n",
       "default                                           0.018368                                                   \n",
       "run0                                              0.018377                                                   \n",
       "run1                                              0.018391                                                   \n",
       "run2                                              0.018380                                                   \n",
       "run3                                              0.018382                                                   \n",
       "...                                                    ...                                                   \n",
       "run7                                              0.018429                                                   \n",
       "run8                                              0.018369                                                   \n",
       "run9                                              0.018368                                                   \n",
       "run10                                             0.018368                                                   \n",
       "run11                                             0.018381                                                   \n",
       "\n",
       "         ('ILCD 2.0 2018 midpoint no LT', 'ecosystem quality', 'terrestrial eutrophication')  \\\n",
       "default                                           0.072797                                     \n",
       "run0                                              0.072833                                     \n",
       "run1                                              0.072891                                     \n",
       "run2                                              0.072828                                     \n",
       "run3                                              0.072853                                     \n",
       "...                                                    ...                                     \n",
       "run7                                              0.073053                                     \n",
       "run8                                              0.072798                                     \n",
       "run9                                              0.072797                                     \n",
       "run10                                             0.072797                                     \n",
       "run11                                             0.072826                                     \n",
       "\n",
       "         ('ILCD 2.0 2018 midpoint no LT', 'ecosystem quality', 'freshwater eutrophication')  \\\n",
       "default                                           0.000309                                    \n",
       "run0                                              0.000309                                    \n",
       "run1                                              0.000310                                    \n",
       "run2                                              0.000309                                    \n",
       "run3                                              0.000309                                    \n",
       "...                                                    ...                                    \n",
       "run7                                              0.000310                                    \n",
       "run8                                              0.000309                                    \n",
       "run9                                              0.000309                                    \n",
       "run10                                             0.000309                                    \n",
       "run11                                             0.000310                                    \n",
       "\n",
       "         ('ILCD 2.0 2018 midpoint no LT', 'ecosystem quality', 'marine eutrophication')  \\\n",
       "default                                           0.009860                                \n",
       "run0                                              0.009869                                \n",
       "run1                                              0.009886                                \n",
       "run2                                              0.009863                                \n",
       "run3                                              0.009866                                \n",
       "...                                                    ...                                \n",
       "run7                                              0.009885                                \n",
       "run8                                              0.009860                                \n",
       "run9                                              0.009860                                \n",
       "run10                                             0.009860                                \n",
       "run11                                             0.009862                                \n",
       "\n",
       "         ('ILCD 2.0 2018 midpoint no LT', 'ecosystem quality', 'freshwater ecotoxicity')  \\\n",
       "default                                          12.135384                                 \n",
       "run0                                             12.135802                                 \n",
       "run1                                             12.185409                                 \n",
       "run2                                             12.135554                                 \n",
       "run3                                             12.187272                                 \n",
       "...                                                    ...                                 \n",
       "run7                                             12.146921                                 \n",
       "run8                                             12.135436                                 \n",
       "run9                                             12.135384                                 \n",
       "run10                                            12.135469                                 \n",
       "run11                                            12.136777                                 \n",
       "\n",
       "         ('ILCD 2.0 2018 midpoint no LT', 'resources', 'land use')  \\\n",
       "default                                         549.518718           \n",
       "run0                                            549.668163           \n",
       "run1                                            549.998627           \n",
       "run2                                            549.519061           \n",
       "run3                                            549.737129           \n",
       "...                                                    ...           \n",
       "run7                                            553.089547           \n",
       "run8                                            549.519175           \n",
       "run9                                            549.518718           \n",
       "run10                                           549.519209           \n",
       "run11                                           549.540445           \n",
       "\n",
       "         ('ILCD 2.0 2018 midpoint no LT', 'resources', 'dissipated water')  \\\n",
       "default                                          15.805165                   \n",
       "run0                                             15.833363                   \n",
       "run1                                             15.819340                   \n",
       "run2                                             15.805178                   \n",
       "run3                                             15.853185                   \n",
       "...                                                    ...                   \n",
       "run7                                             15.811071                   \n",
       "run8                                             15.805240                   \n",
       "run9                                             15.840728                   \n",
       "run10                                            15.805167                   \n",
       "run11                                            15.806086                   \n",
       "\n",
       "         ('ILCD 2.0 2018 midpoint no LT', 'resources', 'minerals and metals')  \\\n",
       "default                                           0.000009                      \n",
       "run0                                              0.000009                      \n",
       "run1                                              0.000009                      \n",
       "run2                                              0.000009                      \n",
       "run3                                              0.000009                      \n",
       "...                                                    ...                      \n",
       "run7                                              0.000009                      \n",
       "run8                                              0.000009                      \n",
       "run9                                              0.000009                      \n",
       "run10                                             0.000009                      \n",
       "run11                                             0.000009                      \n",
       "\n",
       "         ('ILCD 2.0 2018 midpoint no LT', 'resources', 'fossils')  \n",
       "default                                          19.263551         \n",
       "run0                                             19.267552         \n",
       "run1                                             19.275622         \n",
       "run2                                             19.268021         \n",
       "run3                                             19.271286         \n",
       "...                                                    ...         \n",
       "run7                                             19.286283         \n",
       "run8                                             19.264913         \n",
       "run9                                             19.263552         \n",
       "run10                                            19.264040         \n",
       "run11                                            19.359422         \n",
       "\n",
       "[13 rows x 16 columns]"
      ]
     },
     "execution_count": 35,
     "metadata": {},
     "output_type": "execute_result"
    }
   ],
   "source": [
    "results=pa.perform_perturbation_analysis(functional_unit,LCIA_methods,perturb_input,'ecoinvent 3.7.1_cutoff_ecoSpold02')\n",
    "results"
   ]
  },
  {
   "cell_type": "markdown",
   "id": "4c2952bd",
   "metadata": {},
   "source": [
    "### 3.4 Calculate Sensitivity Indicators"
   ]
  },
  {
   "attachments": {
    "Step4.png": {
     "image/png": "[encoded data removed]"
    }
   },
   "cell_type": "markdown",
   "id": "caefc715",
   "metadata": {},
   "source": [
    "![Step4.png](attachment:Step4.png)"
   ]
  },
  {
   "attachments": {
    "image.png": {
     "image/png": "[encoded data removed]"
    }
   },
   "cell_type": "markdown",
   "id": "bbed71af",
   "metadata": {},
   "source": [
    "The results of the perturbation analysis are evaluated by means of the sensitivity coefficient SC (cf. Equation 1) and sensitivity ratio (cf. Equation 2) which are calculated as the ratio between (relative) changes of LCA results and (relative) changes of parameter values compared to the initial system (Clavreul et al. 2012, Bisinella et al. 2016). For example, a sensitivity ratio of 0.5 implies that an increase of the parameter value by 10% results in an increase of LCA scores by 5%.\n",
    "\n",
    "![image.png](attachment:image.png)"
   ]
  },
  {
   "cell_type": "markdown",
   "id": "024a5fee",
   "metadata": {},
   "source": [
    "* **arguments:**  \n",
    "   * LCIA methods: list containing at least on bw.methods-item\n",
    "   * perturb_input: dataframe containing input data for the perturbation analysis (output of the function *parameters_to_dataframe*)\n",
    "   * perturb_results: output of *perform_perturbation_analysis*\n",
    "       \n",
    "* **returns:** \n",
    "    * DataFrame containing sensitivity ratios per parameter and impact category"
   ]
  },
  {
   "cell_type": "code",
   "execution_count": 36,
   "id": "a3845e75",
   "metadata": {},
   "outputs": [
    {
     "data": {
      "text/html": [
       "<div>\n",
       "<style scoped>\n",
       "    .dataframe tbody tr th:only-of-type {\n",
       "        vertical-align: middle;\n",
       "    }\n",
       "\n",
       "    .dataframe tbody tr th {\n",
       "        vertical-align: top;\n",
       "    }\n",
       "\n",
       "    .dataframe thead th {\n",
       "        text-align: right;\n",
       "    }\n",
       "</style>\n",
       "<table border=\"1\" class=\"dataframe\">\n",
       "  <thead>\n",
       "    <tr style=\"text-align: right;\">\n",
       "      <th></th>\n",
       "      <th>from</th>\n",
       "      <th>from - code</th>\n",
       "      <th>from - location</th>\n",
       "      <th>to</th>\n",
       "      <th>to - code</th>\n",
       "      <th>type</th>\n",
       "      <th>category</th>\n",
       "      <th>('ILCD 2.0 2018 midpoint no LT', 'climate change', 'climate change total')</th>\n",
       "      <th>('ILCD 2.0 2018 midpoint no LT', 'human health', 'ozone layer depletion')</th>\n",
       "      <th>('ILCD 2.0 2018 midpoint no LT', 'human health', 'carcinogenic effects')</th>\n",
       "      <th>...</th>\n",
       "      <th>('ILCD 2.0 2018 midpoint no LT', 'human health', 'photochemical ozone creation')</th>\n",
       "      <th>('ILCD 2.0 2018 midpoint no LT', 'ecosystem quality', 'freshwater and terrestrial acidification')</th>\n",
       "      <th>('ILCD 2.0 2018 midpoint no LT', 'ecosystem quality', 'terrestrial eutrophication')</th>\n",
       "      <th>('ILCD 2.0 2018 midpoint no LT', 'ecosystem quality', 'freshwater eutrophication')</th>\n",
       "      <th>('ILCD 2.0 2018 midpoint no LT', 'ecosystem quality', 'marine eutrophication')</th>\n",
       "      <th>('ILCD 2.0 2018 midpoint no LT', 'ecosystem quality', 'freshwater ecotoxicity')</th>\n",
       "      <th>('ILCD 2.0 2018 midpoint no LT', 'resources', 'land use')</th>\n",
       "      <th>('ILCD 2.0 2018 midpoint no LT', 'resources', 'dissipated water')</th>\n",
       "      <th>('ILCD 2.0 2018 midpoint no LT', 'resources', 'minerals and metals')</th>\n",
       "      <th>('ILCD 2.0 2018 midpoint no LT', 'resources', 'fossils')</th>\n",
       "    </tr>\n",
       "  </thead>\n",
       "  <tbody>\n",
       "    <tr>\n",
       "      <th>0</th>\n",
       "      <td>banana production</td>\n",
       "      <td>92e64f27d7f015e878d4ef2976742738</td>\n",
       "      <td>RoW</td>\n",
       "      <td>baking banana bread</td>\n",
       "      <td>bakingbananabread</td>\n",
       "      <td>technosphere</td>\n",
       "      <td>ingredients</td>\n",
       "      <td>2.984533e-02</td>\n",
       "      <td>2.259082e-02</td>\n",
       "      <td>0.041403</td>\n",
       "      <td>...</td>\n",
       "      <td>2.706575e-02</td>\n",
       "      <td>4.589531e-02</td>\n",
       "      <td>4.885008e-02</td>\n",
       "      <td>3.617287e-02</td>\n",
       "      <td>8.916888e-02</td>\n",
       "      <td>3.444380e-03</td>\n",
       "      <td>2.719549e-02</td>\n",
       "      <td>0.178407</td>\n",
       "      <td>0.051294</td>\n",
       "      <td>0.020769</td>\n",
       "    </tr>\n",
       "    <tr>\n",
       "      <th>1</th>\n",
       "      <td>coconut oil production, crude</td>\n",
       "      <td>e7e518b52017a50bbbbac1098c11f5f5</td>\n",
       "      <td>RoW</td>\n",
       "      <td>baking banana bread</td>\n",
       "      <td>bakingbananabread</td>\n",
       "      <td>technosphere</td>\n",
       "      <td>ingredients</td>\n",
       "      <td>9.167795e-02</td>\n",
       "      <td>7.942895e-02</td>\n",
       "      <td>0.195368</td>\n",
       "      <td>...</td>\n",
       "      <td>1.405806e-01</td>\n",
       "      <td>1.241247e-01</td>\n",
       "      <td>1.293329e-01</td>\n",
       "      <td>7.173957e-02</td>\n",
       "      <td>2.650026e-01</td>\n",
       "      <td>4.122262e-01</td>\n",
       "      <td>8.733256e-02</td>\n",
       "      <td>0.089686</td>\n",
       "      <td>0.186455</td>\n",
       "      <td>0.062660</td>\n",
       "    </tr>\n",
       "    <tr>\n",
       "      <th>2</th>\n",
       "      <td>transport, freight, sea, container ship</td>\n",
       "      <td>b7f36fd38fb9f8ab7ec687bd658b36aa</td>\n",
       "      <td>GLO</td>\n",
       "      <td>baking banana bread</td>\n",
       "      <td>bakingbananabread</td>\n",
       "      <td>technosphere</td>\n",
       "      <td>transport</td>\n",
       "      <td>1.796610e-02</td>\n",
       "      <td>6.187630e-02</td>\n",
       "      <td>0.019390</td>\n",
       "      <td>...</td>\n",
       "      <td>1.379483e-01</td>\n",
       "      <td>6.223921e-02</td>\n",
       "      <td>4.295322e-02</td>\n",
       "      <td>4.074090e-04</td>\n",
       "      <td>2.853735e-02</td>\n",
       "      <td>1.403524e-03</td>\n",
       "      <td>6.236591e-05</td>\n",
       "      <td>0.000081</td>\n",
       "      <td>0.004788</td>\n",
       "      <td>0.023201</td>\n",
       "    </tr>\n",
       "    <tr>\n",
       "      <th>3</th>\n",
       "      <td>almond production</td>\n",
       "      <td>a9b66be975b737b12705f3366d31bd1e</td>\n",
       "      <td>RoW</td>\n",
       "      <td>baking banana bread</td>\n",
       "      <td>bakingbananabread</td>\n",
       "      <td>technosphere</td>\n",
       "      <td>ingredients</td>\n",
       "      <td>4.179415e-02</td>\n",
       "      <td>4.824466e-02</td>\n",
       "      <td>0.048100</td>\n",
       "      <td>...</td>\n",
       "      <td>6.191054e-02</td>\n",
       "      <td>7.418282e-02</td>\n",
       "      <td>7.621443e-02</td>\n",
       "      <td>2.471367e-02</td>\n",
       "      <td>5.993813e-02</td>\n",
       "      <td>4.275761e-01</td>\n",
       "      <td>3.974587e-02</td>\n",
       "      <td>0.303822</td>\n",
       "      <td>0.127361</td>\n",
       "      <td>0.040152</td>\n",
       "    </tr>\n",
       "    <tr>\n",
       "      <th>4</th>\n",
       "      <td>transport, freight, aircraft, belly-freight, l...</td>\n",
       "      <td>034bbdcaaf672de1e7a1fe4c26372892</td>\n",
       "      <td>GLO</td>\n",
       "      <td>baking banana bread</td>\n",
       "      <td>bakingbananabread</td>\n",
       "      <td>technosphere</td>\n",
       "      <td>transport</td>\n",
       "      <td>9.526501e-02</td>\n",
       "      <td>3.693611e-01</td>\n",
       "      <td>0.010674</td>\n",
       "      <td>...</td>\n",
       "      <td>1.773095e-01</td>\n",
       "      <td>5.420808e-02</td>\n",
       "      <td>5.561715e-02</td>\n",
       "      <td>9.059324e-04</td>\n",
       "      <td>3.748677e-02</td>\n",
       "      <td>3.476789e-03</td>\n",
       "      <td>2.099211e-04</td>\n",
       "      <td>0.000232</td>\n",
       "      <td>0.004290</td>\n",
       "      <td>0.133723</td>\n",
       "    </tr>\n",
       "    <tr>\n",
       "      <th>...</th>\n",
       "      <td>...</td>\n",
       "      <td>...</td>\n",
       "      <td>...</td>\n",
       "      <td>...</td>\n",
       "      <td>...</td>\n",
       "      <td>...</td>\n",
       "      <td>...</td>\n",
       "      <td>...</td>\n",
       "      <td>...</td>\n",
       "      <td>...</td>\n",
       "      <td>...</td>\n",
       "      <td>...</td>\n",
       "      <td>...</td>\n",
       "      <td>...</td>\n",
       "      <td>...</td>\n",
       "      <td>...</td>\n",
       "      <td>...</td>\n",
       "      <td>...</td>\n",
       "      <td>...</td>\n",
       "      <td>...</td>\n",
       "      <td>...</td>\n",
       "    </tr>\n",
       "    <tr>\n",
       "      <th>7</th>\n",
       "      <td>milk production, from cow</td>\n",
       "      <td>30983ca593f5379869b9b7e3f6ccbf65</td>\n",
       "      <td>RoW</td>\n",
       "      <td>baking banana bread</td>\n",
       "      <td>bakingbananabread</td>\n",
       "      <td>technosphere</td>\n",
       "      <td>ingredients</td>\n",
       "      <td>3.003952e-01</td>\n",
       "      <td>1.338037e-01</td>\n",
       "      <td>0.240155</td>\n",
       "      <td>...</td>\n",
       "      <td>1.673730e-01</td>\n",
       "      <td>3.312978e-01</td>\n",
       "      <td>3.514685e-01</td>\n",
       "      <td>1.876280e-01</td>\n",
       "      <td>2.548325e-01</td>\n",
       "      <td>9.507444e-02</td>\n",
       "      <td>6.498101e-01</td>\n",
       "      <td>0.037369</td>\n",
       "      <td>0.275071</td>\n",
       "      <td>0.118005</td>\n",
       "    </tr>\n",
       "    <tr>\n",
       "      <th>8</th>\n",
       "      <td>ammonium carbonate production</td>\n",
       "      <td>6b71ff189f73e7c5db8f43df84354641</td>\n",
       "      <td>RoW</td>\n",
       "      <td>baking banana bread</td>\n",
       "      <td>bakingbananabread</td>\n",
       "      <td>technosphere</td>\n",
       "      <td>ingredients</td>\n",
       "      <td>5.682070e-03</td>\n",
       "      <td>3.380427e-03</td>\n",
       "      <td>0.003674</td>\n",
       "      <td>...</td>\n",
       "      <td>3.684341e-03</td>\n",
       "      <td>2.564871e-03</td>\n",
       "      <td>1.616045e-03</td>\n",
       "      <td>9.826037e-04</td>\n",
       "      <td>4.422378e-03</td>\n",
       "      <td>4.279242e-04</td>\n",
       "      <td>8.302165e-05</td>\n",
       "      <td>0.000474</td>\n",
       "      <td>0.013365</td>\n",
       "      <td>0.007069</td>\n",
       "    </tr>\n",
       "    <tr>\n",
       "      <th>9</th>\n",
       "      <td>salt production from seawater, evaporation pond</td>\n",
       "      <td>845aac68817ec25b85464aef8b7b86ac</td>\n",
       "      <td>GLO</td>\n",
       "      <td>baking banana bread</td>\n",
       "      <td>bakingbananabread</td>\n",
       "      <td>technosphere</td>\n",
       "      <td>ingredients</td>\n",
       "      <td>8.287994e-07</td>\n",
       "      <td>6.781031e-07</td>\n",
       "      <td>0.000009</td>\n",
       "      <td>...</td>\n",
       "      <td>8.778685e-07</td>\n",
       "      <td>3.982120e-07</td>\n",
       "      <td>2.092164e-07</td>\n",
       "      <td>2.738045e-07</td>\n",
       "      <td>1.440581e-07</td>\n",
       "      <td>4.484516e-07</td>\n",
       "      <td>1.282116e-08</td>\n",
       "      <td>0.225006</td>\n",
       "      <td>0.000002</td>\n",
       "      <td>0.000001</td>\n",
       "    </tr>\n",
       "    <tr>\n",
       "      <th>10</th>\n",
       "      <td>market for transport, freight, lorry 16-32 met...</td>\n",
       "      <td>8ceab4319b3eb21ad7adb89accd4465b</td>\n",
       "      <td>RER</td>\n",
       "      <td>baking banana bread</td>\n",
       "      <td>bakingbananabread</td>\n",
       "      <td>technosphere</td>\n",
       "      <td>transport</td>\n",
       "      <td>1.650687e-03</td>\n",
       "      <td>6.402034e-03</td>\n",
       "      <td>0.001178</td>\n",
       "      <td>...</td>\n",
       "      <td>2.244177e-03</td>\n",
       "      <td>7.015637e-04</td>\n",
       "      <td>5.916251e-04</td>\n",
       "      <td>7.668095e-05</td>\n",
       "      <td>3.966379e-04</td>\n",
       "      <td>7.042002e-04</td>\n",
       "      <td>8.922494e-05</td>\n",
       "      <td>0.000014</td>\n",
       "      <td>0.001202</td>\n",
       "      <td>0.002536</td>\n",
       "    </tr>\n",
       "    <tr>\n",
       "      <th>11</th>\n",
       "      <td>market for electricity, medium voltage</td>\n",
       "      <td>d20464840573665d431297c62b3cab90</td>\n",
       "      <td>DE</td>\n",
       "      <td>baking banana bread</td>\n",
       "      <td>bakingbananabread</td>\n",
       "      <td>technosphere</td>\n",
       "      <td>energy</td>\n",
       "      <td>2.990439e-01</td>\n",
       "      <td>1.281251e-01</td>\n",
       "      <td>0.119472</td>\n",
       "      <td>...</td>\n",
       "      <td>1.233121e-01</td>\n",
       "      <td>6.868806e-02</td>\n",
       "      <td>4.022271e-02</td>\n",
       "      <td>2.914231e-01</td>\n",
       "      <td>2.408005e-02</td>\n",
       "      <td>1.147825e-02</td>\n",
       "      <td>3.953821e-03</td>\n",
       "      <td>0.005827</td>\n",
       "      <td>0.118352</td>\n",
       "      <td>0.497677</td>\n",
       "    </tr>\n",
       "  </tbody>\n",
       "</table>\n",
       "<p>12 rows × 23 columns</p>\n",
       "</div>"
      ],
      "text/plain": [
       "                                                 from  \\\n",
       "0                                   banana production   \n",
       "1                       coconut oil production, crude   \n",
       "2             transport, freight, sea, container ship   \n",
       "3                                   almond production   \n",
       "4   transport, freight, aircraft, belly-freight, l...   \n",
       "..                                                ...   \n",
       "7                           milk production, from cow   \n",
       "8                       ammonium carbonate production   \n",
       "9     salt production from seawater, evaporation pond   \n",
       "10  market for transport, freight, lorry 16-32 met...   \n",
       "11             market for electricity, medium voltage   \n",
       "\n",
       "                         from - code from - location                   to  \\\n",
       "0   92e64f27d7f015e878d4ef2976742738             RoW  baking banana bread   \n",
       "1   e7e518b52017a50bbbbac1098c11f5f5             RoW  baking banana bread   \n",
       "2   b7f36fd38fb9f8ab7ec687bd658b36aa             GLO  baking banana bread   \n",
       "3   a9b66be975b737b12705f3366d31bd1e             RoW  baking banana bread   \n",
       "4   034bbdcaaf672de1e7a1fe4c26372892             GLO  baking banana bread   \n",
       "..                               ...             ...                  ...   \n",
       "7   30983ca593f5379869b9b7e3f6ccbf65             RoW  baking banana bread   \n",
       "8   6b71ff189f73e7c5db8f43df84354641             RoW  baking banana bread   \n",
       "9   845aac68817ec25b85464aef8b7b86ac             GLO  baking banana bread   \n",
       "10  8ceab4319b3eb21ad7adb89accd4465b             RER  baking banana bread   \n",
       "11  d20464840573665d431297c62b3cab90              DE  baking banana bread   \n",
       "\n",
       "            to - code          type     category  \\\n",
       "0   bakingbananabread  technosphere  ingredients   \n",
       "1   bakingbananabread  technosphere  ingredients   \n",
       "2   bakingbananabread  technosphere    transport   \n",
       "3   bakingbananabread  technosphere  ingredients   \n",
       "4   bakingbananabread  technosphere    transport   \n",
       "..                ...           ...          ...   \n",
       "7   bakingbananabread  technosphere  ingredients   \n",
       "8   bakingbananabread  technosphere  ingredients   \n",
       "9   bakingbananabread  technosphere  ingredients   \n",
       "10  bakingbananabread  technosphere    transport   \n",
       "11  bakingbananabread  technosphere       energy   \n",
       "\n",
       "    ('ILCD 2.0 2018 midpoint no LT', 'climate change', 'climate change total')  \\\n",
       "0                                        2.984533e-02                            \n",
       "1                                        9.167795e-02                            \n",
       "2                                        1.796610e-02                            \n",
       "3                                        4.179415e-02                            \n",
       "4                                        9.526501e-02                            \n",
       "..                                                ...                            \n",
       "7                                        3.003952e-01                            \n",
       "8                                        5.682070e-03                            \n",
       "9                                        8.287994e-07                            \n",
       "10                                       1.650687e-03                            \n",
       "11                                       2.990439e-01                            \n",
       "\n",
       "    ('ILCD 2.0 2018 midpoint no LT', 'human health', 'ozone layer depletion')  \\\n",
       "0                                        2.259082e-02                           \n",
       "1                                        7.942895e-02                           \n",
       "2                                        6.187630e-02                           \n",
       "3                                        4.824466e-02                           \n",
       "4                                        3.693611e-01                           \n",
       "..                                                ...                           \n",
       "7                                        1.338037e-01                           \n",
       "8                                        3.380427e-03                           \n",
       "9                                        6.781031e-07                           \n",
       "10                                       6.402034e-03                           \n",
       "11                                       1.281251e-01                           \n",
       "\n",
       "    ('ILCD 2.0 2018 midpoint no LT', 'human health', 'carcinogenic effects')  \\\n",
       "0                                            0.041403                          \n",
       "1                                            0.195368                          \n",
       "2                                            0.019390                          \n",
       "3                                            0.048100                          \n",
       "4                                            0.010674                          \n",
       "..                                                ...                          \n",
       "7                                            0.240155                          \n",
       "8                                            0.003674                          \n",
       "9                                            0.000009                          \n",
       "10                                           0.001178                          \n",
       "11                                           0.119472                          \n",
       "\n",
       "    ...  \\\n",
       "0   ...   \n",
       "1   ...   \n",
       "2   ...   \n",
       "3   ...   \n",
       "4   ...   \n",
       "..  ...   \n",
       "7   ...   \n",
       "8   ...   \n",
       "9   ...   \n",
       "10  ...   \n",
       "11  ...   \n",
       "\n",
       "    ('ILCD 2.0 2018 midpoint no LT', 'human health', 'photochemical ozone creation')  \\\n",
       "0                                        2.706575e-02                                  \n",
       "1                                        1.405806e-01                                  \n",
       "2                                        1.379483e-01                                  \n",
       "3                                        6.191054e-02                                  \n",
       "4                                        1.773095e-01                                  \n",
       "..                                                ...                                  \n",
       "7                                        1.673730e-01                                  \n",
       "8                                        3.684341e-03                                  \n",
       "9                                        8.778685e-07                                  \n",
       "10                                       2.244177e-03                                  \n",
       "11                                       1.233121e-01                                  \n",
       "\n",
       "    ('ILCD 2.0 2018 midpoint no LT', 'ecosystem quality', 'freshwater and terrestrial acidification')  \\\n",
       "0                                        4.589531e-02                                                   \n",
       "1                                        1.241247e-01                                                   \n",
       "2                                        6.223921e-02                                                   \n",
       "3                                        7.418282e-02                                                   \n",
       "4                                        5.420808e-02                                                   \n",
       "..                                                ...                                                   \n",
       "7                                        3.312978e-01                                                   \n",
       "8                                        2.564871e-03                                                   \n",
       "9                                        3.982120e-07                                                   \n",
       "10                                       7.015637e-04                                                   \n",
       "11                                       6.868806e-02                                                   \n",
       "\n",
       "    ('ILCD 2.0 2018 midpoint no LT', 'ecosystem quality', 'terrestrial eutrophication')  \\\n",
       "0                                        4.885008e-02                                     \n",
       "1                                        1.293329e-01                                     \n",
       "2                                        4.295322e-02                                     \n",
       "3                                        7.621443e-02                                     \n",
       "4                                        5.561715e-02                                     \n",
       "..                                                ...                                     \n",
       "7                                        3.514685e-01                                     \n",
       "8                                        1.616045e-03                                     \n",
       "9                                        2.092164e-07                                     \n",
       "10                                       5.916251e-04                                     \n",
       "11                                       4.022271e-02                                     \n",
       "\n",
       "    ('ILCD 2.0 2018 midpoint no LT', 'ecosystem quality', 'freshwater eutrophication')  \\\n",
       "0                                        3.617287e-02                                    \n",
       "1                                        7.173957e-02                                    \n",
       "2                                        4.074090e-04                                    \n",
       "3                                        2.471367e-02                                    \n",
       "4                                        9.059324e-04                                    \n",
       "..                                                ...                                    \n",
       "7                                        1.876280e-01                                    \n",
       "8                                        9.826037e-04                                    \n",
       "9                                        2.738045e-07                                    \n",
       "10                                       7.668095e-05                                    \n",
       "11                                       2.914231e-01                                    \n",
       "\n",
       "    ('ILCD 2.0 2018 midpoint no LT', 'ecosystem quality', 'marine eutrophication')  \\\n",
       "0                                        8.916888e-02                                \n",
       "1                                        2.650026e-01                                \n",
       "2                                        2.853735e-02                                \n",
       "3                                        5.993813e-02                                \n",
       "4                                        3.748677e-02                                \n",
       "..                                                ...                                \n",
       "7                                        2.548325e-01                                \n",
       "8                                        4.422378e-03                                \n",
       "9                                        1.440581e-07                                \n",
       "10                                       3.966379e-04                                \n",
       "11                                       2.408005e-02                                \n",
       "\n",
       "    ('ILCD 2.0 2018 midpoint no LT', 'ecosystem quality', 'freshwater ecotoxicity')  \\\n",
       "0                                        3.444380e-03                                 \n",
       "1                                        4.122262e-01                                 \n",
       "2                                        1.403524e-03                                 \n",
       "3                                        4.275761e-01                                 \n",
       "4                                        3.476789e-03                                 \n",
       "..                                                ...                                 \n",
       "7                                        9.507444e-02                                 \n",
       "8                                        4.279242e-04                                 \n",
       "9                                        4.484516e-07                                 \n",
       "10                                       7.042002e-04                                 \n",
       "11                                       1.147825e-02                                 \n",
       "\n",
       "    ('ILCD 2.0 2018 midpoint no LT', 'resources', 'land use')  \\\n",
       "0                                        2.719549e-02           \n",
       "1                                        8.733256e-02           \n",
       "2                                        6.236591e-05           \n",
       "3                                        3.974587e-02           \n",
       "4                                        2.099211e-04           \n",
       "..                                                ...           \n",
       "7                                        6.498101e-01           \n",
       "8                                        8.302165e-05           \n",
       "9                                        1.282116e-08           \n",
       "10                                       8.922494e-05           \n",
       "11                                       3.953821e-03           \n",
       "\n",
       "    ('ILCD 2.0 2018 midpoint no LT', 'resources', 'dissipated water')  \\\n",
       "0                                            0.178407                   \n",
       "1                                            0.089686                   \n",
       "2                                            0.000081                   \n",
       "3                                            0.303822                   \n",
       "4                                            0.000232                   \n",
       "..                                                ...                   \n",
       "7                                            0.037369                   \n",
       "8                                            0.000474                   \n",
       "9                                            0.225006                   \n",
       "10                                           0.000014                   \n",
       "11                                           0.005827                   \n",
       "\n",
       "    ('ILCD 2.0 2018 midpoint no LT', 'resources', 'minerals and metals')  \\\n",
       "0                                            0.051294                      \n",
       "1                                            0.186455                      \n",
       "2                                            0.004788                      \n",
       "3                                            0.127361                      \n",
       "4                                            0.004290                      \n",
       "..                                                ...                      \n",
       "7                                            0.275071                      \n",
       "8                                            0.013365                      \n",
       "9                                            0.000002                      \n",
       "10                                           0.001202                      \n",
       "11                                           0.118352                      \n",
       "\n",
       "    ('ILCD 2.0 2018 midpoint no LT', 'resources', 'fossils')  \n",
       "0                                            0.020769         \n",
       "1                                            0.062660         \n",
       "2                                            0.023201         \n",
       "3                                            0.040152         \n",
       "4                                            0.133723         \n",
       "..                                                ...         \n",
       "7                                            0.118005         \n",
       "8                                            0.007069         \n",
       "9                                            0.000001         \n",
       "10                                           0.002536         \n",
       "11                                           0.497677         \n",
       "\n",
       "[12 rows x 23 columns]"
      ]
     },
     "execution_count": 36,
     "metadata": {},
     "output_type": "execute_result"
    }
   ],
   "source": [
    "sensitivity_ratio_df=pa.calculate_sensitivity_ratios(LCIA_methods,perturb_results=results, perturb_input=perturb_input)\n",
    "sensitivity_ratio_df"
   ]
  },
  {
   "cell_type": "markdown",
   "id": "57c30bfd",
   "metadata": {},
   "source": [
    "### 3.5 Illustrate Results"
   ]
  },
  {
   "attachments": {
    "Step5.png": {
     "image/png": "[encoded data removed]"
    }
   },
   "cell_type": "markdown",
   "id": "a7c84c18",
   "metadata": {},
   "source": [
    "![Step5.png](attachment:Step5.png)"
   ]
  },
  {
   "cell_type": "markdown",
   "id": "79e9898a",
   "metadata": {},
   "source": [
    "If the sensitivity of LCA scores is assessed only for a small numbers of parameters, the results can be illustrated one by one:"
   ]
  },
  {
   "cell_type": "code",
   "execution_count": 37,
   "id": "d38de034",
   "metadata": {},
   "outputs": [
    {
     "data": {
      "application/vnd.plotly.v1+json": {
       "config": {
        "plotlyServerURL": "https://plot.ly"
       },
       "data": [
        {
         "alignmentgroup": "True",
         "hovertemplate": "Category=ingredients<br>Impact Category=GW<br>Sensitivity Ratio [%]=%{x}<br>Exchange=%{y}<extra></extra>",
         "legendgroup": "ingredients",
         "marker": {
          "color": "#1F77B4",
          "pattern": {
           "shape": ""
          }
         },
         "name": "ingredients",
         "offsetgroup": "ingredients",
         "orientation": "h",
         "showlegend": true,
         "textposition": "auto",
         "type": "bar",
         "x": [
          2.9845329791937054,
          9.167794881551332,
          4.179415086618477,
          11.412759886655985,
          0.25511570529227895,
          30.039519244862884,
          0.5682070207744132,
          8.287993539627124e-05
         ],
         "xaxis": "x",
         "y": [
          "FROM:banana production, TO:baking banana bread",
          "FROM:coconut oil production, crude, TO:baking banana bread",
          "FROM:almond production, TO:baking banana bread",
          "FROM:market for wheat flour, TO:baking banana bread",
          "FROM:sugar beet production, TO:baking banana bread",
          "FROM:milk production, from cow, TO:baking banana bread",
          "FROM:ammonium carbonate production, TO:baking banana bread",
          "FROM:salt production from seawater, evaporation pond, TO:baking banana bread"
         ],
         "yaxis": "y"
        },
        {
         "alignmentgroup": "True",
         "hovertemplate": "Category=transport<br>Impact Category=GW<br>Sensitivity Ratio [%]=%{x}<br>Exchange=%{y}<extra></extra>",
         "legendgroup": "transport",
         "marker": {
          "color": "#FF7F0E",
          "pattern": {
           "shape": ""
          }
         },
         "name": "transport",
         "offsetgroup": "transport",
         "orientation": "h",
         "showlegend": true,
         "textposition": "auto",
         "type": "bar",
         "x": [
          1.7966098258951915,
          9.526501188098807,
          0.16506873571111677
         ],
         "xaxis": "x",
         "y": [
          "FROM:transport, freight, sea, container ship, TO:baking banana bread",
          "FROM:transport, freight, aircraft, belly-freight, long haul, TO:baking banana bread",
          "FROM:market for transport, freight, lorry 16-32 metric ton, EURO5, TO:baking banana bread"
         ],
         "yaxis": "y"
        },
        {
         "alignmentgroup": "True",
         "hovertemplate": "Category=energy<br>Impact Category=GW<br>Sensitivity Ratio [%]=%{x}<br>Exchange=%{y}<extra></extra>",
         "legendgroup": "energy",
         "marker": {
          "color": "#2CA02C",
          "pattern": {
           "shape": ""
          }
         },
         "name": "energy",
         "offsetgroup": "energy",
         "orientation": "h",
         "showlegend": true,
         "textposition": "auto",
         "type": "bar",
         "x": [
          29.904392565450927
         ],
         "xaxis": "x",
         "y": [
          "FROM:market for electricity, medium voltage, TO:baking banana bread"
         ],
         "yaxis": "y"
        }
       ],
       "frames": [
        {
         "data": [
          {
           "alignmentgroup": "True",
           "hovertemplate": "Category=ingredients<br>Impact Category=GW<br>Sensitivity Ratio [%]=%{x}<br>Exchange=%{y}<extra></extra>",
           "legendgroup": "ingredients",
           "marker": {
            "color": "#1F77B4",
            "pattern": {
             "shape": ""
            }
           },
           "name": "ingredients",
           "offsetgroup": "ingredients",
           "orientation": "h",
           "showlegend": true,
           "textposition": "auto",
           "type": "bar",
           "x": [
            2.9845329791937054,
            9.167794881551332,
            4.179415086618477,
            11.412759886655985,
            0.25511570529227895,
            30.039519244862884,
            0.5682070207744132,
            8.287993539627124e-05
           ],
           "xaxis": "x",
           "y": [
            "FROM:banana production, TO:baking banana bread",
            "FROM:coconut oil production, crude, TO:baking banana bread",
            "FROM:almond production, TO:baking banana bread",
            "FROM:market for wheat flour, TO:baking banana bread",
            "FROM:sugar beet production, TO:baking banana bread",
            "FROM:milk production, from cow, TO:baking banana bread",
            "FROM:ammonium carbonate production, TO:baking banana bread",
            "FROM:salt production from seawater, evaporation pond, TO:baking banana bread"
           ],
           "yaxis": "y"
          },
          {
           "alignmentgroup": "True",
           "hovertemplate": "Category=transport<br>Impact Category=GW<br>Sensitivity Ratio [%]=%{x}<br>Exchange=%{y}<extra></extra>",
           "legendgroup": "transport",
           "marker": {
            "color": "#FF7F0E",
            "pattern": {
             "shape": ""
            }
           },
           "name": "transport",
           "offsetgroup": "transport",
           "orientation": "h",
           "showlegend": true,
           "textposition": "auto",
           "type": "bar",
           "x": [
            1.7966098258951915,
            9.526501188098807,
            0.16506873571111677
           ],
           "xaxis": "x",
           "y": [
            "FROM:transport, freight, sea, container ship, TO:baking banana bread",
            "FROM:transport, freight, aircraft, belly-freight, long haul, TO:baking banana bread",
            "FROM:market for transport, freight, lorry 16-32 metric ton, EURO5, TO:baking banana bread"
           ],
           "yaxis": "y"
          },
          {
           "alignmentgroup": "True",
           "hovertemplate": "Category=energy<br>Impact Category=GW<br>Sensitivity Ratio [%]=%{x}<br>Exchange=%{y}<extra></extra>",
           "legendgroup": "energy",
           "marker": {
            "color": "#2CA02C",
            "pattern": {
             "shape": ""
            }
           },
           "name": "energy",
           "offsetgroup": "energy",
           "orientation": "h",
           "showlegend": true,
           "textposition": "auto",
           "type": "bar",
           "x": [
            29.904392565450927
           ],
           "xaxis": "x",
           "y": [
            "FROM:market for electricity, medium voltage, TO:baking banana bread"
           ],
           "yaxis": "y"
          }
         ],
         "name": "GW"
        },
        {
         "data": [
          {
           "alignmentgroup": "True",
           "hovertemplate": "Category=ingredients<br>Impact Category=OD<br>Sensitivity Ratio [%]=%{x}<br>Exchange=%{y}<extra></extra>",
           "legendgroup": "ingredients",
           "marker": {
            "color": "#1F77B4",
            "pattern": {
             "shape": ""
            }
           },
           "name": "ingredients",
           "offsetgroup": "ingredients",
           "orientation": "h",
           "showlegend": true,
           "textposition": "auto",
           "type": "bar",
           "x": [
            2.259081949530292,
            7.942894843975852,
            4.824465622376016,
            14.35859531034033,
            0.3200232191171401,
            13.380367833116702,
            0.33804267185145104,
            6.781030906875932e-05
           ],
           "xaxis": "x",
           "y": [
            "FROM:banana production, TO:baking banana bread",
            "FROM:coconut oil production, crude, TO:baking banana bread",
            "FROM:almond production, TO:baking banana bread",
            "FROM:market for wheat flour, TO:baking banana bread",
            "FROM:sugar beet production, TO:baking banana bread",
            "FROM:milk production, from cow, TO:baking banana bread",
            "FROM:ammonium carbonate production, TO:baking banana bread",
            "FROM:salt production from seawater, evaporation pond, TO:baking banana bread"
           ],
           "yaxis": "y"
          },
          {
           "alignmentgroup": "True",
           "hovertemplate": "Category=transport<br>Impact Category=OD<br>Sensitivity Ratio [%]=%{x}<br>Exchange=%{y}<extra></extra>",
           "legendgroup": "transport",
           "marker": {
            "color": "#FF7F0E",
            "pattern": {
             "shape": ""
            }
           },
           "name": "transport",
           "offsetgroup": "transport",
           "orientation": "h",
           "showlegend": true,
           "textposition": "auto",
           "type": "bar",
           "x": [
            6.187629894556855,
            36.93611258705116,
            0.6402033822269068
           ],
           "xaxis": "x",
           "y": [
            "FROM:transport, freight, sea, container ship, TO:baking banana bread",
            "FROM:transport, freight, aircraft, belly-freight, long haul, TO:baking banana bread",
            "FROM:market for transport, freight, lorry 16-32 metric ton, EURO5, TO:baking banana bread"
           ],
           "yaxis": "y"
          },
          {
           "alignmentgroup": "True",
           "hovertemplate": "Category=energy<br>Impact Category=OD<br>Sensitivity Ratio [%]=%{x}<br>Exchange=%{y}<extra></extra>",
           "legendgroup": "energy",
           "marker": {
            "color": "#2CA02C",
            "pattern": {
             "shape": ""
            }
           },
           "name": "energy",
           "offsetgroup": "energy",
           "orientation": "h",
           "showlegend": true,
           "textposition": "auto",
           "type": "bar",
           "x": [
            12.812514875702613
           ],
           "xaxis": "x",
           "y": [
            "FROM:market for electricity, medium voltage, TO:baking banana bread"
           ],
           "yaxis": "y"
          }
         ],
         "name": "OD"
        },
        {
         "data": [
          {
           "alignmentgroup": "True",
           "hovertemplate": "Category=ingredients<br>Impact Category=HTc<br>Sensitivity Ratio [%]=%{x}<br>Exchange=%{y}<extra></extra>",
           "legendgroup": "ingredients",
           "marker": {
            "color": "#1F77B4",
            "pattern": {
             "shape": ""
            }
           },
           "name": "ingredients",
           "offsetgroup": "ingredients",
           "orientation": "h",
           "showlegend": true,
           "textposition": "auto",
           "type": "bar",
           "x": [
            4.140348124820548,
            19.53683726015287,
            4.809973723999699,
            31.67714196972745,
            0.3804746852244277,
            24.015537505488144,
            0.36741898807369894,
            0.0008537712777376429
           ],
           "xaxis": "x",
           "y": [
            "FROM:banana production, TO:baking banana bread",
            "FROM:coconut oil production, crude, TO:baking banana bread",
            "FROM:almond production, TO:baking banana bread",
            "FROM:market for wheat flour, TO:baking banana bread",
            "FROM:sugar beet production, TO:baking banana bread",
            "FROM:milk production, from cow, TO:baking banana bread",
            "FROM:ammonium carbonate production, TO:baking banana bread",
            "FROM:salt production from seawater, evaporation pond, TO:baking banana bread"
           ],
           "yaxis": "y"
          },
          {
           "alignmentgroup": "True",
           "hovertemplate": "Category=transport<br>Impact Category=HTc<br>Sensitivity Ratio [%]=%{x}<br>Exchange=%{y}<extra></extra>",
           "legendgroup": "transport",
           "marker": {
            "color": "#FF7F0E",
            "pattern": {
             "shape": ""
            }
           },
           "name": "transport",
           "offsetgroup": "transport",
           "orientation": "h",
           "showlegend": true,
           "textposition": "auto",
           "type": "bar",
           "x": [
            1.938984465014199,
            1.067364997151302,
            0.11784995649450497
           ],
           "xaxis": "x",
           "y": [
            "FROM:transport, freight, sea, container ship, TO:baking banana bread",
            "FROM:transport, freight, aircraft, belly-freight, long haul, TO:baking banana bread",
            "FROM:market for transport, freight, lorry 16-32 metric ton, EURO5, TO:baking banana bread"
           ],
           "yaxis": "y"
          },
          {
           "alignmentgroup": "True",
           "hovertemplate": "Category=energy<br>Impact Category=HTc<br>Sensitivity Ratio [%]=%{x}<br>Exchange=%{y}<extra></extra>",
           "legendgroup": "energy",
           "marker": {
            "color": "#2CA02C",
            "pattern": {
             "shape": ""
            }
           },
           "name": "energy",
           "offsetgroup": "energy",
           "orientation": "h",
           "showlegend": true,
           "textposition": "auto",
           "type": "bar",
           "x": [
            11.947214551448777
           ],
           "xaxis": "x",
           "y": [
            "FROM:market for electricity, medium voltage, TO:baking banana bread"
           ],
           "yaxis": "y"
          }
         ],
         "name": "HTc"
        },
        {
         "data": [
          {
           "alignmentgroup": "True",
           "hovertemplate": "Category=ingredients<br>Impact Category=HTnc<br>Sensitivity Ratio [%]=%{x}<br>Exchange=%{y}<extra></extra>",
           "legendgroup": "ingredients",
           "marker": {
            "color": "#1F77B4",
            "pattern": {
             "shape": ""
            }
           },
           "name": "ingredients",
           "offsetgroup": "ingredients",
           "orientation": "h",
           "showlegend": true,
           "textposition": "auto",
           "type": "bar",
           "x": [
            -1.2346424105363452,
            4.678022416239316,
            91.97606620283571,
            2.9628881036581483,
            0.22839119916748274,
            -0.11852058467939268,
            0.016782247024652266,
            5.075013969257595e-06
           ],
           "xaxis": "x",
           "y": [
            "FROM:banana production, TO:baking banana bread",
            "FROM:coconut oil production, crude, TO:baking banana bread",
            "FROM:almond production, TO:baking banana bread",
            "FROM:market for wheat flour, TO:baking banana bread",
            "FROM:sugar beet production, TO:baking banana bread",
            "FROM:milk production, from cow, TO:baking banana bread",
            "FROM:ammonium carbonate production, TO:baking banana bread",
            "FROM:salt production from seawater, evaporation pond, TO:baking banana bread"
           ],
           "yaxis": "y"
          },
          {
           "alignmentgroup": "True",
           "hovertemplate": "Category=transport<br>Impact Category=HTnc<br>Sensitivity Ratio [%]=%{x}<br>Exchange=%{y}<extra></extra>",
           "legendgroup": "transport",
           "marker": {
            "color": "#FF7F0E",
            "pattern": {
             "shape": ""
            }
           },
           "name": "transport",
           "offsetgroup": "transport",
           "orientation": "h",
           "showlegend": true,
           "textposition": "auto",
           "type": "bar",
           "x": [
            0.025076868098511732,
            0.47664290742369514,
            0.01114952211800669
           ],
           "xaxis": "x",
           "y": [
            "FROM:transport, freight, sea, container ship, TO:baking banana bread",
            "FROM:transport, freight, aircraft, belly-freight, long haul, TO:baking banana bread",
            "FROM:market for transport, freight, lorry 16-32 metric ton, EURO5, TO:baking banana bread"
           ],
           "yaxis": "y"
          },
          {
           "alignmentgroup": "True",
           "hovertemplate": "Category=energy<br>Impact Category=HTnc<br>Sensitivity Ratio [%]=%{x}<br>Exchange=%{y}<extra></extra>",
           "legendgroup": "energy",
           "marker": {
            "color": "#2CA02C",
            "pattern": {
             "shape": ""
            }
           },
           "name": "energy",
           "offsetgroup": "energy",
           "orientation": "h",
           "showlegend": true,
           "textposition": "auto",
           "type": "bar",
           "x": [
            0.9781384534352063
           ],
           "xaxis": "x",
           "y": [
            "FROM:market for electricity, medium voltage, TO:baking banana bread"
           ],
           "yaxis": "y"
          }
         ],
         "name": "HTnc"
        },
        {
         "data": [
          {
           "alignmentgroup": "True",
           "hovertemplate": "Category=ingredients<br>Impact Category=PM<br>Sensitivity Ratio [%]=%{x}<br>Exchange=%{y}<extra></extra>",
           "legendgroup": "ingredients",
           "marker": {
            "color": "#1F77B4",
            "pattern": {
             "shape": ""
            }
           },
           "name": "ingredients",
           "offsetgroup": "ingredients",
           "orientation": "h",
           "showlegend": true,
           "textposition": "auto",
           "type": "bar",
           "x": [
            5.149496867471923,
            17.696597733692553,
            7.411538097615029,
            21.50073092300011,
            4.254124344613856,
            37.60453348929578,
            0.3863142774679616,
            5.806534284346482e-05
           ],
           "xaxis": "x",
           "y": [
            "FROM:banana production, TO:baking banana bread",
            "FROM:coconut oil production, crude, TO:baking banana bread",
            "FROM:almond production, TO:baking banana bread",
            "FROM:market for wheat flour, TO:baking banana bread",
            "FROM:sugar beet production, TO:baking banana bread",
            "FROM:milk production, from cow, TO:baking banana bread",
            "FROM:ammonium carbonate production, TO:baking banana bread",
            "FROM:salt production from seawater, evaporation pond, TO:baking banana bread"
           ],
           "yaxis": "y"
          },
          {
           "alignmentgroup": "True",
           "hovertemplate": "Category=transport<br>Impact Category=PM<br>Sensitivity Ratio [%]=%{x}<br>Exchange=%{y}<extra></extra>",
           "legendgroup": "transport",
           "marker": {
            "color": "#FF7F0E",
            "pattern": {
             "shape": ""
            }
           },
           "name": "transport",
           "offsetgroup": "transport",
           "orientation": "h",
           "showlegend": true,
           "textposition": "auto",
           "type": "bar",
           "x": [
            0.9006106507831899,
            1.4917750427409515,
            0.19066894493656594
           ],
           "xaxis": "x",
           "y": [
            "FROM:transport, freight, sea, container ship, TO:baking banana bread",
            "FROM:transport, freight, aircraft, belly-freight, long haul, TO:baking banana bread",
            "FROM:market for transport, freight, lorry 16-32 metric ton, EURO5, TO:baking banana bread"
           ],
           "yaxis": "y"
          },
          {
           "alignmentgroup": "True",
           "hovertemplate": "Category=energy<br>Impact Category=PM<br>Sensitivity Ratio [%]=%{x}<br>Exchange=%{y}<extra></extra>",
           "legendgroup": "energy",
           "marker": {
            "color": "#2CA02C",
            "pattern": {
             "shape": ""
            }
           },
           "name": "energy",
           "offsetgroup": "energy",
           "orientation": "h",
           "showlegend": true,
           "textposition": "auto",
           "type": "bar",
           "x": [
            3.4135515631373945
           ],
           "xaxis": "x",
           "y": [
            "FROM:market for electricity, medium voltage, TO:baking banana bread"
           ],
           "yaxis": "y"
          }
         ],
         "name": "PM"
        },
        {
         "data": [
          {
           "alignmentgroup": "True",
           "hovertemplate": "Category=ingredients<br>Impact Category=IR<br>Sensitivity Ratio [%]=%{x}<br>Exchange=%{y}<extra></extra>",
           "legendgroup": "ingredients",
           "marker": {
            "color": "#1F77B4",
            "pattern": {
             "shape": ""
            }
           },
           "name": "ingredients",
           "offsetgroup": "ingredients",
           "orientation": "h",
           "showlegend": true,
           "textposition": "auto",
           "type": "bar",
           "x": [
            2.042268538774106,
            6.112049037642708,
            3.2716981253993644,
            8.739032443429485,
            0.19391535392763198,
            12.306240942435009,
            0.2571769338436789,
            0.00011376458912795335
           ],
           "xaxis": "x",
           "y": [
            "FROM:banana production, TO:baking banana bread",
            "FROM:coconut oil production, crude, TO:baking banana bread",
            "FROM:almond production, TO:baking banana bread",
            "FROM:market for wheat flour, TO:baking banana bread",
            "FROM:sugar beet production, TO:baking banana bread",
            "FROM:milk production, from cow, TO:baking banana bread",
            "FROM:ammonium carbonate production, TO:baking banana bread",
            "FROM:salt production from seawater, evaporation pond, TO:baking banana bread"
           ],
           "yaxis": "y"
          },
          {
           "alignmentgroup": "True",
           "hovertemplate": "Category=transport<br>Impact Category=IR<br>Sensitivity Ratio [%]=%{x}<br>Exchange=%{y}<extra></extra>",
           "legendgroup": "transport",
           "marker": {
            "color": "#FF7F0E",
            "pattern": {
             "shape": ""
            }
           },
           "name": "transport",
           "offsetgroup": "transport",
           "orientation": "h",
           "showlegend": true,
           "textposition": "auto",
           "type": "bar",
           "x": [
            3.4487153405266993,
            20.351662069284217,
            0.38127374853850504
           ],
           "xaxis": "x",
           "y": [
            "FROM:transport, freight, sea, container ship, TO:baking banana bread",
            "FROM:transport, freight, aircraft, belly-freight, long haul, TO:baking banana bread",
            "FROM:market for transport, freight, lorry 16-32 metric ton, EURO5, TO:baking banana bread"
           ],
           "yaxis": "y"
          },
          {
           "alignmentgroup": "True",
           "hovertemplate": "Category=energy<br>Impact Category=IR<br>Sensitivity Ratio [%]=%{x}<br>Exchange=%{y}<extra></extra>",
           "legendgroup": "energy",
           "marker": {
            "color": "#2CA02C",
            "pattern": {
             "shape": ""
            }
           },
           "name": "energy",
           "offsetgroup": "energy",
           "orientation": "h",
           "showlegend": true,
           "textposition": "auto",
           "type": "bar",
           "x": [
            42.895853666073236
           ],
           "xaxis": "x",
           "y": [
            "FROM:market for electricity, medium voltage, TO:baking banana bread"
           ],
           "yaxis": "y"
          }
         ],
         "name": "IR"
        },
        {
         "data": [
          {
           "alignmentgroup": "True",
           "hovertemplate": "Category=ingredients<br>Impact Category=POF<br>Sensitivity Ratio [%]=%{x}<br>Exchange=%{y}<extra></extra>",
           "legendgroup": "ingredients",
           "marker": {
            "color": "#1F77B4",
            "pattern": {
             "shape": ""
            }
           },
           "name": "ingredients",
           "offsetgroup": "ingredients",
           "orientation": "h",
           "showlegend": true,
           "textposition": "auto",
           "type": "bar",
           "x": [
            2.706575453423728,
            14.05805736946237,
            6.191053651751419,
            15.447679272466825,
            0.40940975971351196,
            16.737296385982013,
            0.3684340541024953,
            8.778684843066733e-05
           ],
           "xaxis": "x",
           "y": [
            "FROM:banana production, TO:baking banana bread",
            "FROM:coconut oil production, crude, TO:baking banana bread",
            "FROM:almond production, TO:baking banana bread",
            "FROM:market for wheat flour, TO:baking banana bread",
            "FROM:sugar beet production, TO:baking banana bread",
            "FROM:milk production, from cow, TO:baking banana bread",
            "FROM:ammonium carbonate production, TO:baking banana bread",
            "FROM:salt production from seawater, evaporation pond, TO:baking banana bread"
           ],
           "yaxis": "y"
          },
          {
           "alignmentgroup": "True",
           "hovertemplate": "Category=transport<br>Impact Category=POF<br>Sensitivity Ratio [%]=%{x}<br>Exchange=%{y}<extra></extra>",
           "legendgroup": "transport",
           "marker": {
            "color": "#FF7F0E",
            "pattern": {
             "shape": ""
            }
           },
           "name": "transport",
           "offsetgroup": "transport",
           "orientation": "h",
           "showlegend": true,
           "textposition": "auto",
           "type": "bar",
           "x": [
            13.794830607724135,
            17.730949844003582,
            0.22441766489438222
           ],
           "xaxis": "x",
           "y": [
            "FROM:transport, freight, sea, container ship, TO:baking banana bread",
            "FROM:transport, freight, aircraft, belly-freight, long haul, TO:baking banana bread",
            "FROM:market for transport, freight, lorry 16-32 metric ton, EURO5, TO:baking banana bread"
           ],
           "yaxis": "y"
          },
          {
           "alignmentgroup": "True",
           "hovertemplate": "Category=energy<br>Impact Category=POF<br>Sensitivity Ratio [%]=%{x}<br>Exchange=%{y}<extra></extra>",
           "legendgroup": "energy",
           "marker": {
            "color": "#2CA02C",
            "pattern": {
             "shape": ""
            }
           },
           "name": "energy",
           "offsetgroup": "energy",
           "orientation": "h",
           "showlegend": true,
           "textposition": "auto",
           "type": "bar",
           "x": [
            12.331208149749626
           ],
           "xaxis": "x",
           "y": [
            "FROM:market for electricity, medium voltage, TO:baking banana bread"
           ],
           "yaxis": "y"
          }
         ],
         "name": "POF"
        },
        {
         "data": [
          {
           "alignmentgroup": "True",
           "hovertemplate": "Category=ingredients<br>Impact Category=AC<br>Sensitivity Ratio [%]=%{x}<br>Exchange=%{y}<extra></extra>",
           "legendgroup": "ingredients",
           "marker": {
            "color": "#1F77B4",
            "pattern": {
             "shape": ""
            }
           },
           "name": "ingredients",
           "offsetgroup": "ingredients",
           "orientation": "h",
           "showlegend": true,
           "textposition": "auto",
           "type": "bar",
           "x": [
            4.589531000278152,
            12.412472685536033,
            7.4182816684421375,
            19.682875917213117,
            3.92684083527004,
            33.12978029466901,
            0.25648707976298474,
            3.9821203198983244e-05
           ],
           "xaxis": "x",
           "y": [
            "FROM:banana production, TO:baking banana bread",
            "FROM:coconut oil production, crude, TO:baking banana bread",
            "FROM:almond production, TO:baking banana bread",
            "FROM:market for wheat flour, TO:baking banana bread",
            "FROM:sugar beet production, TO:baking banana bread",
            "FROM:milk production, from cow, TO:baking banana bread",
            "FROM:ammonium carbonate production, TO:baking banana bread",
            "FROM:salt production from seawater, evaporation pond, TO:baking banana bread"
           ],
           "yaxis": "y"
          },
          {
           "alignmentgroup": "True",
           "hovertemplate": "Category=transport<br>Impact Category=AC<br>Sensitivity Ratio [%]=%{x}<br>Exchange=%{y}<extra></extra>",
           "legendgroup": "transport",
           "marker": {
            "color": "#FF7F0E",
            "pattern": {
             "shape": ""
            }
           },
           "name": "transport",
           "offsetgroup": "transport",
           "orientation": "h",
           "showlegend": true,
           "textposition": "auto",
           "type": "bar",
           "x": [
            6.223921061915787,
            5.420807602961264,
            0.07015637203931703
           ],
           "xaxis": "x",
           "y": [
            "FROM:transport, freight, sea, container ship, TO:baking banana bread",
            "FROM:transport, freight, aircraft, belly-freight, long haul, TO:baking banana bread",
            "FROM:market for transport, freight, lorry 16-32 metric ton, EURO5, TO:baking banana bread"
           ],
           "yaxis": "y"
          },
          {
           "alignmentgroup": "True",
           "hovertemplate": "Category=energy<br>Impact Category=AC<br>Sensitivity Ratio [%]=%{x}<br>Exchange=%{y}<extra></extra>",
           "legendgroup": "energy",
           "marker": {
            "color": "#2CA02C",
            "pattern": {
             "shape": ""
            }
           },
           "name": "energy",
           "offsetgroup": "energy",
           "orientation": "h",
           "showlegend": true,
           "textposition": "auto",
           "type": "bar",
           "x": [
            6.868805660704562
           ],
           "xaxis": "x",
           "y": [
            "FROM:market for electricity, medium voltage, TO:baking banana bread"
           ],
           "yaxis": "y"
          }
         ],
         "name": "AC"
        },
        {
         "data": [
          {
           "alignmentgroup": "True",
           "hovertemplate": "Category=ingredients<br>Impact Category=TE<br>Sensitivity Ratio [%]=%{x}<br>Exchange=%{y}<extra></extra>",
           "legendgroup": "ingredients",
           "marker": {
            "color": "#1F77B4",
            "pattern": {
             "shape": ""
            }
           },
           "name": "ingredients",
           "offsetgroup": "ingredients",
           "orientation": "h",
           "showlegend": true,
           "textposition": "auto",
           "type": "bar",
           "x": [
            4.885007537416832,
            12.933293735772363,
            7.621443058748242,
            20.911875606439132,
            4.401435957782659,
            35.14684884493409,
            0.16160450501805215,
            2.092164290368566e-05
           ],
           "xaxis": "x",
           "y": [
            "FROM:banana production, TO:baking banana bread",
            "FROM:coconut oil production, crude, TO:baking banana bread",
            "FROM:almond production, TO:baking banana bread",
            "FROM:market for wheat flour, TO:baking banana bread",
            "FROM:sugar beet production, TO:baking banana bread",
            "FROM:milk production, from cow, TO:baking banana bread",
            "FROM:ammonium carbonate production, TO:baking banana bread",
            "FROM:salt production from seawater, evaporation pond, TO:baking banana bread"
           ],
           "yaxis": "y"
          },
          {
           "alignmentgroup": "True",
           "hovertemplate": "Category=transport<br>Impact Category=TE<br>Sensitivity Ratio [%]=%{x}<br>Exchange=%{y}<extra></extra>",
           "legendgroup": "transport",
           "marker": {
            "color": "#FF7F0E",
            "pattern": {
             "shape": ""
            }
           },
           "name": "transport",
           "offsetgroup": "transport",
           "orientation": "h",
           "showlegend": true,
           "textposition": "auto",
           "type": "bar",
           "x": [
            4.295321590885667,
            5.561715173932546,
            0.05916251325258344
           ],
           "xaxis": "x",
           "y": [
            "FROM:transport, freight, sea, container ship, TO:baking banana bread",
            "FROM:transport, freight, aircraft, belly-freight, long haul, TO:baking banana bread",
            "FROM:market for transport, freight, lorry 16-32 metric ton, EURO5, TO:baking banana bread"
           ],
           "yaxis": "y"
          },
          {
           "alignmentgroup": "True",
           "hovertemplate": "Category=energy<br>Impact Category=TE<br>Sensitivity Ratio [%]=%{x}<br>Exchange=%{y}<extra></extra>",
           "legendgroup": "energy",
           "marker": {
            "color": "#2CA02C",
            "pattern": {
             "shape": ""
            }
           },
           "name": "energy",
           "offsetgroup": "energy",
           "orientation": "h",
           "showlegend": true,
           "textposition": "auto",
           "type": "bar",
           "x": [
            4.022270554131859
           ],
           "xaxis": "x",
           "y": [
            "FROM:market for electricity, medium voltage, TO:baking banana bread"
           ],
           "yaxis": "y"
          }
         ],
         "name": "TE"
        },
        {
         "data": [
          {
           "alignmentgroup": "True",
           "hovertemplate": "Category=ingredients<br>Impact Category=FE<br>Sensitivity Ratio [%]=%{x}<br>Exchange=%{y}<extra></extra>",
           "legendgroup": "ingredients",
           "marker": {
            "color": "#1F77B4",
            "pattern": {
             "shape": ""
            }
           },
           "name": "ingredients",
           "offsetgroup": "ingredients",
           "orientation": "h",
           "showlegend": true,
           "textposition": "auto",
           "type": "bar",
           "x": [
            3.617287295515586,
            7.173957263112111,
            2.4713669258010205,
            38.47784296957688,
            0.11714288010460593,
            18.762799548826486,
            0.09826036866014017,
            2.7380449817478948e-05
           ],
           "xaxis": "x",
           "y": [
            "FROM:banana production, TO:baking banana bread",
            "FROM:coconut oil production, crude, TO:baking banana bread",
            "FROM:almond production, TO:baking banana bread",
            "FROM:market for wheat flour, TO:baking banana bread",
            "FROM:sugar beet production, TO:baking banana bread",
            "FROM:milk production, from cow, TO:baking banana bread",
            "FROM:ammonium carbonate production, TO:baking banana bread",
            "FROM:salt production from seawater, evaporation pond, TO:baking banana bread"
           ],
           "yaxis": "y"
          },
          {
           "alignmentgroup": "True",
           "hovertemplate": "Category=transport<br>Impact Category=FE<br>Sensitivity Ratio [%]=%{x}<br>Exchange=%{y}<extra></extra>",
           "legendgroup": "transport",
           "marker": {
            "color": "#FF7F0E",
            "pattern": {
             "shape": ""
            }
           },
           "name": "transport",
           "offsetgroup": "transport",
           "orientation": "h",
           "showlegend": true,
           "textposition": "auto",
           "type": "bar",
           "x": [
            0.04074089600783587,
            0.09059324352226765,
            0.007668095475746043
           ],
           "xaxis": "x",
           "y": [
            "FROM:transport, freight, sea, container ship, TO:baking banana bread",
            "FROM:transport, freight, aircraft, belly-freight, long haul, TO:baking banana bread",
            "FROM:market for transport, freight, lorry 16-32 metric ton, EURO5, TO:baking banana bread"
           ],
           "yaxis": "y"
          },
          {
           "alignmentgroup": "True",
           "hovertemplate": "Category=energy<br>Impact Category=FE<br>Sensitivity Ratio [%]=%{x}<br>Exchange=%{y}<extra></extra>",
           "legendgroup": "energy",
           "marker": {
            "color": "#2CA02C",
            "pattern": {
             "shape": ""
            }
           },
           "name": "energy",
           "offsetgroup": "energy",
           "orientation": "h",
           "showlegend": true,
           "textposition": "auto",
           "type": "bar",
           "x": [
            29.142313132789926
           ],
           "xaxis": "x",
           "y": [
            "FROM:market for electricity, medium voltage, TO:baking banana bread"
           ],
           "yaxis": "y"
          }
         ],
         "name": "FE"
        },
        {
         "data": [
          {
           "alignmentgroup": "True",
           "hovertemplate": "Category=ingredients<br>Impact Category=ME<br>Sensitivity Ratio [%]=%{x}<br>Exchange=%{y}<extra></extra>",
           "legendgroup": "ingredients",
           "marker": {
            "color": "#1F77B4",
            "pattern": {
             "shape": ""
            }
           },
           "name": "ingredients",
           "offsetgroup": "ingredients",
           "orientation": "h",
           "showlegend": true,
           "textposition": "auto",
           "type": "bar",
           "x": [
            8.916887741343645,
            26.500256785413477,
            5.993813019285855,
            22.87430938187405,
            0.7391498125024486,
            25.483249789885303,
            0.4422378469583317,
            1.4405809835968223e-05
           ],
           "xaxis": "x",
           "y": [
            "FROM:banana production, TO:baking banana bread",
            "FROM:coconut oil production, crude, TO:baking banana bread",
            "FROM:almond production, TO:baking banana bread",
            "FROM:market for wheat flour, TO:baking banana bread",
            "FROM:sugar beet production, TO:baking banana bread",
            "FROM:milk production, from cow, TO:baking banana bread",
            "FROM:ammonium carbonate production, TO:baking banana bread",
            "FROM:salt production from seawater, evaporation pond, TO:baking banana bread"
           ],
           "yaxis": "y"
          },
          {
           "alignmentgroup": "True",
           "hovertemplate": "Category=transport<br>Impact Category=ME<br>Sensitivity Ratio [%]=%{x}<br>Exchange=%{y}<extra></extra>",
           "legendgroup": "transport",
           "marker": {
            "color": "#FF7F0E",
            "pattern": {
             "shape": ""
            }
           },
           "name": "transport",
           "offsetgroup": "transport",
           "orientation": "h",
           "showlegend": true,
           "textposition": "auto",
           "type": "bar",
           "x": [
            2.85373542591783,
            3.7486770455355063,
            0.03966378584017992
           ],
           "xaxis": "x",
           "y": [
            "FROM:transport, freight, sea, container ship, TO:baking banana bread",
            "FROM:transport, freight, aircraft, belly-freight, long haul, TO:baking banana bread",
            "FROM:market for transport, freight, lorry 16-32 metric ton, EURO5, TO:baking banana bread"
           ],
           "yaxis": "y"
          },
          {
           "alignmentgroup": "True",
           "hovertemplate": "Category=energy<br>Impact Category=ME<br>Sensitivity Ratio [%]=%{x}<br>Exchange=%{y}<extra></extra>",
           "legendgroup": "energy",
           "marker": {
            "color": "#2CA02C",
            "pattern": {
             "shape": ""
            }
           },
           "name": "energy",
           "offsetgroup": "energy",
           "orientation": "h",
           "showlegend": true,
           "textposition": "auto",
           "type": "bar",
           "x": [
            2.4080049595716186
           ],
           "xaxis": "x",
           "y": [
            "FROM:market for electricity, medium voltage, TO:baking banana bread"
           ],
           "yaxis": "y"
          }
         ],
         "name": "ME"
        },
        {
         "data": [
          {
           "alignmentgroup": "True",
           "hovertemplate": "Category=ingredients<br>Impact Category=ET<br>Sensitivity Ratio [%]=%{x}<br>Exchange=%{y}<extra></extra>",
           "legendgroup": "ingredients",
           "marker": {
            "color": "#1F77B4",
            "pattern": {
             "shape": ""
            }
           },
           "name": "ingredients",
           "offsetgroup": "ingredients",
           "orientation": "h",
           "showlegend": true,
           "textposition": "auto",
           "type": "bar",
           "x": [
            0.34443804484741775,
            41.22262431391458,
            42.75761214730428,
            4.335858492811269,
            0.08290923327829663,
            9.507444065952706,
            0.04279241625963681,
            4.484516315841261e-05
           ],
           "xaxis": "x",
           "y": [
            "FROM:banana production, TO:baking banana bread",
            "FROM:coconut oil production, crude, TO:baking banana bread",
            "FROM:almond production, TO:baking banana bread",
            "FROM:market for wheat flour, TO:baking banana bread",
            "FROM:sugar beet production, TO:baking banana bread",
            "FROM:milk production, from cow, TO:baking banana bread",
            "FROM:ammonium carbonate production, TO:baking banana bread",
            "FROM:salt production from seawater, evaporation pond, TO:baking banana bread"
           ],
           "yaxis": "y"
          },
          {
           "alignmentgroup": "True",
           "hovertemplate": "Category=transport<br>Impact Category=ET<br>Sensitivity Ratio [%]=%{x}<br>Exchange=%{y}<extra></extra>",
           "legendgroup": "transport",
           "marker": {
            "color": "#FF7F0E",
            "pattern": {
             "shape": ""
            }
           },
           "name": "transport",
           "offsetgroup": "transport",
           "orientation": "h",
           "showlegend": true,
           "textposition": "auto",
           "type": "bar",
           "x": [
            0.1403524183893011,
            0.34767894645359576,
            0.07042001668782008
           ],
           "xaxis": "x",
           "y": [
            "FROM:transport, freight, sea, container ship, TO:baking banana bread",
            "FROM:transport, freight, aircraft, belly-freight, long haul, TO:baking banana bread",
            "FROM:market for transport, freight, lorry 16-32 metric ton, EURO5, TO:baking banana bread"
           ],
           "yaxis": "y"
          },
          {
           "alignmentgroup": "True",
           "hovertemplate": "Category=energy<br>Impact Category=ET<br>Sensitivity Ratio [%]=%{x}<br>Exchange=%{y}<extra></extra>",
           "legendgroup": "energy",
           "marker": {
            "color": "#2CA02C",
            "pattern": {
             "shape": ""
            }
           },
           "name": "energy",
           "offsetgroup": "energy",
           "orientation": "h",
           "showlegend": true,
           "textposition": "auto",
           "type": "bar",
           "x": [
            1.1478250588914254
           ],
           "xaxis": "x",
           "y": [
            "FROM:market for electricity, medium voltage, TO:baking banana bread"
           ],
           "yaxis": "y"
          }
         ],
         "name": "ET"
        },
        {
         "data": [
          {
           "alignmentgroup": "True",
           "hovertemplate": "Category=ingredients<br>Impact Category=LU<br>Sensitivity Ratio [%]=%{x}<br>Exchange=%{y}<extra></extra>",
           "legendgroup": "ingredients",
           "marker": {
            "color": "#1F77B4",
            "pattern": {
             "shape": ""
            }
           },
           "name": "ingredients",
           "offsetgroup": "ingredients",
           "orientation": "h",
           "showlegend": true,
           "textposition": "auto",
           "type": "bar",
           "x": [
            2.7195493381592972,
            8.733255726844796,
            3.9745871846320293,
            19.024105641672552,
            0.12765389320570045,
            64.98101150327517,
            0.008302165063011673,
            1.2821162744566426e-06
           ],
           "xaxis": "x",
           "y": [
            "FROM:banana production, TO:baking banana bread",
            "FROM:coconut oil production, crude, TO:baking banana bread",
            "FROM:almond production, TO:baking banana bread",
            "FROM:market for wheat flour, TO:baking banana bread",
            "FROM:sugar beet production, TO:baking banana bread",
            "FROM:milk production, from cow, TO:baking banana bread",
            "FROM:ammonium carbonate production, TO:baking banana bread",
            "FROM:salt production from seawater, evaporation pond, TO:baking banana bread"
           ],
           "yaxis": "y"
          },
          {
           "alignmentgroup": "True",
           "hovertemplate": "Category=transport<br>Impact Category=LU<br>Sensitivity Ratio [%]=%{x}<br>Exchange=%{y}<extra></extra>",
           "legendgroup": "transport",
           "marker": {
            "color": "#FF7F0E",
            "pattern": {
             "shape": ""
            }
           },
           "name": "transport",
           "offsetgroup": "transport",
           "orientation": "h",
           "showlegend": true,
           "textposition": "auto",
           "type": "bar",
           "x": [
            0.0062365914829240615,
            0.020992108499196676,
            0.008922494122168903
           ],
           "xaxis": "x",
           "y": [
            "FROM:transport, freight, sea, container ship, TO:baking banana bread",
            "FROM:transport, freight, aircraft, belly-freight, long haul, TO:baking banana bread",
            "FROM:market for transport, freight, lorry 16-32 metric ton, EURO5, TO:baking banana bread"
           ],
           "yaxis": "y"
          },
          {
           "alignmentgroup": "True",
           "hovertemplate": "Category=energy<br>Impact Category=LU<br>Sensitivity Ratio [%]=%{x}<br>Exchange=%{y}<extra></extra>",
           "legendgroup": "energy",
           "marker": {
            "color": "#2CA02C",
            "pattern": {
             "shape": ""
            }
           },
           "name": "energy",
           "offsetgroup": "energy",
           "orientation": "h",
           "showlegend": true,
           "textposition": "auto",
           "type": "bar",
           "x": [
            0.3953820709323788
           ],
           "xaxis": "x",
           "y": [
            "FROM:market for electricity, medium voltage, TO:baking banana bread"
           ],
           "yaxis": "y"
          }
         ],
         "name": "LU"
        },
        {
         "data": [
          {
           "alignmentgroup": "True",
           "hovertemplate": "Category=ingredients<br>Impact Category=RDw<br>Sensitivity Ratio [%]=%{x}<br>Exchange=%{y}<extra></extra>",
           "legendgroup": "ingredients",
           "marker": {
            "color": "#1F77B4",
            "pattern": {
             "shape": ""
            }
           },
           "name": "ingredients",
           "offsetgroup": "ingredients",
           "orientation": "h",
           "showlegend": true,
           "textposition": "auto",
           "type": "bar",
           "x": [
            17.84067858236541,
            8.968580827366903,
            30.382236390650764,
            15.855248563450289,
            0.052877288421988314,
            3.736897890679569,
            0.04739320782362981,
            22.500623043910483
           ],
           "xaxis": "x",
           "y": [
            "FROM:banana production, TO:baking banana bread",
            "FROM:coconut oil production, crude, TO:baking banana bread",
            "FROM:almond production, TO:baking banana bread",
            "FROM:market for wheat flour, TO:baking banana bread",
            "FROM:sugar beet production, TO:baking banana bread",
            "FROM:milk production, from cow, TO:baking banana bread",
            "FROM:ammonium carbonate production, TO:baking banana bread",
            "FROM:salt production from seawater, evaporation pond, TO:baking banana bread"
           ],
           "yaxis": "y"
          },
          {
           "alignmentgroup": "True",
           "hovertemplate": "Category=transport<br>Impact Category=RDw<br>Sensitivity Ratio [%]=%{x}<br>Exchange=%{y}<extra></extra>",
           "legendgroup": "transport",
           "marker": {
            "color": "#FF7F0E",
            "pattern": {
             "shape": ""
            }
           },
           "name": "transport",
           "offsetgroup": "transport",
           "orientation": "h",
           "showlegend": true,
           "textposition": "auto",
           "type": "bar",
           "x": [
            0.008130351346645305,
            0.023242406078283293,
            0.001368893418328866
           ],
           "xaxis": "x",
           "y": [
            "FROM:transport, freight, sea, container ship, TO:baking banana bread",
            "FROM:transport, freight, aircraft, belly-freight, long haul, TO:baking banana bread",
            "FROM:market for transport, freight, lorry 16-32 metric ton, EURO5, TO:baking banana bread"
           ],
           "yaxis": "y"
          },
          {
           "alignmentgroup": "True",
           "hovertemplate": "Category=energy<br>Impact Category=RDw<br>Sensitivity Ratio [%]=%{x}<br>Exchange=%{y}<extra></extra>",
           "legendgroup": "energy",
           "marker": {
            "color": "#2CA02C",
            "pattern": {
             "shape": ""
            }
           },
           "name": "energy",
           "offsetgroup": "energy",
           "orientation": "h",
           "showlegend": true,
           "textposition": "auto",
           "type": "bar",
           "x": [
            0.5827225544787484
           ],
           "xaxis": "x",
           "y": [
            "FROM:market for electricity, medium voltage, TO:baking banana bread"
           ],
           "yaxis": "y"
          }
         ],
         "name": "RDw"
        },
        {
         "data": [
          {
           "alignmentgroup": "True",
           "hovertemplate": "Category=ingredients<br>Impact Category=RDm<br>Sensitivity Ratio [%]=%{x}<br>Exchange=%{y}<extra></extra>",
           "legendgroup": "ingredients",
           "marker": {
            "color": "#1F77B4",
            "pattern": {
             "shape": ""
            }
           },
           "name": "ingredients",
           "offsetgroup": "ingredients",
           "orientation": "h",
           "showlegend": true,
           "textposition": "auto",
           "type": "bar",
           "x": [
            5.129387575719033,
            18.64554716636853,
            12.736094437299519,
            21.378442539681803,
            0.4035797017354935,
            27.507082259815597,
            1.3364600051887483,
            0.0001692833844244673
           ],
           "xaxis": "x",
           "y": [
            "FROM:banana production, TO:baking banana bread",
            "FROM:coconut oil production, crude, TO:baking banana bread",
            "FROM:almond production, TO:baking banana bread",
            "FROM:market for wheat flour, TO:baking banana bread",
            "FROM:sugar beet production, TO:baking banana bread",
            "FROM:milk production, from cow, TO:baking banana bread",
            "FROM:ammonium carbonate production, TO:baking banana bread",
            "FROM:salt production from seawater, evaporation pond, TO:baking banana bread"
           ],
           "yaxis": "y"
          },
          {
           "alignmentgroup": "True",
           "hovertemplate": "Category=transport<br>Impact Category=RDm<br>Sensitivity Ratio [%]=%{x}<br>Exchange=%{y}<extra></extra>",
           "legendgroup": "transport",
           "marker": {
            "color": "#FF7F0E",
            "pattern": {
             "shape": ""
            }
           },
           "name": "transport",
           "offsetgroup": "transport",
           "orientation": "h",
           "showlegend": true,
           "textposition": "auto",
           "type": "bar",
           "x": [
            0.4788053810629205,
            0.42903106821624265,
            0.12022492296565232
           ],
           "xaxis": "x",
           "y": [
            "FROM:transport, freight, sea, container ship, TO:baking banana bread",
            "FROM:transport, freight, aircraft, belly-freight, long haul, TO:baking banana bread",
            "FROM:market for transport, freight, lorry 16-32 metric ton, EURO5, TO:baking banana bread"
           ],
           "yaxis": "y"
          },
          {
           "alignmentgroup": "True",
           "hovertemplate": "Category=energy<br>Impact Category=RDm<br>Sensitivity Ratio [%]=%{x}<br>Exchange=%{y}<extra></extra>",
           "legendgroup": "energy",
           "marker": {
            "color": "#2CA02C",
            "pattern": {
             "shape": ""
            }
           },
           "name": "energy",
           "offsetgroup": "energy",
           "orientation": "h",
           "showlegend": true,
           "textposition": "auto",
           "type": "bar",
           "x": [
            11.835175657691646
           ],
           "xaxis": "x",
           "y": [
            "FROM:market for electricity, medium voltage, TO:baking banana bread"
           ],
           "yaxis": "y"
          }
         ],
         "name": "RDm"
        },
        {
         "data": [
          {
           "alignmentgroup": "True",
           "hovertemplate": "Category=ingredients<br>Impact Category=RDf<br>Sensitivity Ratio [%]=%{x}<br>Exchange=%{y}<extra></extra>",
           "legendgroup": "ingredients",
           "marker": {
            "color": "#1F77B4",
            "pattern": {
             "shape": ""
            }
           },
           "name": "ingredients",
           "offsetgroup": "ingredients",
           "orientation": "h",
           "showlegend": true,
           "textposition": "auto",
           "type": "bar",
           "x": [
            2.076948997398955,
            6.266038453363421,
            4.015208642450733,
            9.211691430255843,
            0.20891261455828783,
            11.800494914733195,
            0.7068532135276159,
            0.0001289992196119854
           ],
           "xaxis": "x",
           "y": [
            "FROM:banana production, TO:baking banana bread",
            "FROM:coconut oil production, crude, TO:baking banana bread",
            "FROM:almond production, TO:baking banana bread",
            "FROM:market for wheat flour, TO:baking banana bread",
            "FROM:sugar beet production, TO:baking banana bread",
            "FROM:milk production, from cow, TO:baking banana bread",
            "FROM:ammonium carbonate production, TO:baking banana bread",
            "FROM:salt production from seawater, evaporation pond, TO:baking banana bread"
           ],
           "yaxis": "y"
          },
          {
           "alignmentgroup": "True",
           "hovertemplate": "Category=transport<br>Impact Category=RDf<br>Sensitivity Ratio [%]=%{x}<br>Exchange=%{y}<extra></extra>",
           "legendgroup": "transport",
           "marker": {
            "color": "#FF7F0E",
            "pattern": {
             "shape": ""
            }
           },
           "name": "transport",
           "offsetgroup": "transport",
           "orientation": "h",
           "showlegend": true,
           "textposition": "auto",
           "type": "bar",
           "x": [
            2.3201331263936873,
            13.372295517248922,
            0.25363737872579917
           ],
           "xaxis": "x",
           "y": [
            "FROM:transport, freight, sea, container ship, TO:baking banana bread",
            "FROM:transport, freight, aircraft, belly-freight, long haul, TO:baking banana bread",
            "FROM:market for transport, freight, lorry 16-32 metric ton, EURO5, TO:baking banana bread"
           ],
           "yaxis": "y"
          },
          {
           "alignmentgroup": "True",
           "hovertemplate": "Category=energy<br>Impact Category=RDf<br>Sensitivity Ratio [%]=%{x}<br>Exchange=%{y}<extra></extra>",
           "legendgroup": "energy",
           "marker": {
            "color": "#2CA02C",
            "pattern": {
             "shape": ""
            }
           },
           "name": "energy",
           "offsetgroup": "energy",
           "orientation": "h",
           "showlegend": true,
           "textposition": "auto",
           "type": "bar",
           "x": [
            49.767656712144024
           ],
           "xaxis": "x",
           "y": [
            "FROM:market for electricity, medium voltage, TO:baking banana bread"
           ],
           "yaxis": "y"
          }
         ],
         "name": "RDf"
        }
       ],
       "layout": {
        "barmode": "relative",
        "font": {
         "family": "Arial"
        },
        "hoverlabel": {
         "bgcolor": "white",
         "font": {
          "family": "Arial",
          "size": 10
         }
        },
        "legend": {
         "title": {
          "text": "Category"
         },
         "tracegroupgap": 0
        },
        "margin": {
         "t": 60
        },
        "sliders": [
         {
          "active": 0,
          "currentvalue": {
           "prefix": "Impact Category="
          },
          "len": 0.9,
          "pad": {
           "b": 10,
           "t": 60
          },
          "steps": [
           {
            "args": [
             [
              "GW"
             ],
             {
              "frame": {
               "duration": 0,
               "redraw": true
              },
              "fromcurrent": true,
              "mode": "immediate",
              "transition": {
               "duration": 0,
               "easing": "linear"
              }
             }
            ],
            "label": "GW",
            "method": "animate"
           },
           {
            "args": [
             [
              "OD"
             ],
             {
              "frame": {
               "duration": 0,
               "redraw": true
              },
              "fromcurrent": true,
              "mode": "immediate",
              "transition": {
               "duration": 0,
               "easing": "linear"
              }
             }
            ],
            "label": "OD",
            "method": "animate"
           },
           {
            "args": [
             [
              "HTc"
             ],
             {
              "frame": {
               "duration": 0,
               "redraw": true
              },
              "fromcurrent": true,
              "mode": "immediate",
              "transition": {
               "duration": 0,
               "easing": "linear"
              }
             }
            ],
            "label": "HTc",
            "method": "animate"
           },
           {
            "args": [
             [
              "HTnc"
             ],
             {
              "frame": {
               "duration": 0,
               "redraw": true
              },
              "fromcurrent": true,
              "mode": "immediate",
              "transition": {
               "duration": 0,
               "easing": "linear"
              }
             }
            ],
            "label": "HTnc",
            "method": "animate"
           },
           {
            "args": [
             [
              "PM"
             ],
             {
              "frame": {
               "duration": 0,
               "redraw": true
              },
              "fromcurrent": true,
              "mode": "immediate",
              "transition": {
               "duration": 0,
               "easing": "linear"
              }
             }
            ],
            "label": "PM",
            "method": "animate"
           },
           {
            "args": [
             [
              "IR"
             ],
             {
              "frame": {
               "duration": 0,
               "redraw": true
              },
              "fromcurrent": true,
              "mode": "immediate",
              "transition": {
               "duration": 0,
               "easing": "linear"
              }
             }
            ],
            "label": "IR",
            "method": "animate"
           },
           {
            "args": [
             [
              "POF"
             ],
             {
              "frame": {
               "duration": 0,
               "redraw": true
              },
              "fromcurrent": true,
              "mode": "immediate",
              "transition": {
               "duration": 0,
               "easing": "linear"
              }
             }
            ],
            "label": "POF",
            "method": "animate"
           },
           {
            "args": [
             [
              "AC"
             ],
             {
              "frame": {
               "duration": 0,
               "redraw": true
              },
              "fromcurrent": true,
              "mode": "immediate",
              "transition": {
               "duration": 0,
               "easing": "linear"
              }
             }
            ],
            "label": "AC",
            "method": "animate"
           },
           {
            "args": [
             [
              "TE"
             ],
             {
              "frame": {
               "duration": 0,
               "redraw": true
              },
              "fromcurrent": true,
              "mode": "immediate",
              "transition": {
               "duration": 0,
               "easing": "linear"
              }
             }
            ],
            "label": "TE",
            "method": "animate"
           },
           {
            "args": [
             [
              "FE"
             ],
             {
              "frame": {
               "duration": 0,
               "redraw": true
              },
              "fromcurrent": true,
              "mode": "immediate",
              "transition": {
               "duration": 0,
               "easing": "linear"
              }
             }
            ],
            "label": "FE",
            "method": "animate"
           },
           {
            "args": [
             [
              "ME"
             ],
             {
              "frame": {
               "duration": 0,
               "redraw": true
              },
              "fromcurrent": true,
              "mode": "immediate",
              "transition": {
               "duration": 0,
               "easing": "linear"
              }
             }
            ],
            "label": "ME",
            "method": "animate"
           },
           {
            "args": [
             [
              "ET"
             ],
             {
              "frame": {
               "duration": 0,
               "redraw": true
              },
              "fromcurrent": true,
              "mode": "immediate",
              "transition": {
               "duration": 0,
               "easing": "linear"
              }
             }
            ],
            "label": "ET",
            "method": "animate"
           },
           {
            "args": [
             [
              "LU"
             ],
             {
              "frame": {
               "duration": 0,
               "redraw": true
              },
              "fromcurrent": true,
              "mode": "immediate",
              "transition": {
               "duration": 0,
               "easing": "linear"
              }
             }
            ],
            "label": "LU",
            "method": "animate"
           },
           {
            "args": [
             [
              "RDw"
             ],
             {
              "frame": {
               "duration": 0,
               "redraw": true
              },
              "fromcurrent": true,
              "mode": "immediate",
              "transition": {
               "duration": 0,
               "easing": "linear"
              }
             }
            ],
            "label": "RDw",
            "method": "animate"
           },
           {
            "args": [
             [
              "RDm"
             ],
             {
              "frame": {
               "duration": 0,
               "redraw": true
              },
              "fromcurrent": true,
              "mode": "immediate",
              "transition": {
               "duration": 0,
               "easing": "linear"
              }
             }
            ],
            "label": "RDm",
            "method": "animate"
           },
           {
            "args": [
             [
              "RDf"
             ],
             {
              "frame": {
               "duration": 0,
               "redraw": true
              },
              "fromcurrent": true,
              "mode": "immediate",
              "transition": {
               "duration": 0,
               "easing": "linear"
              }
             }
            ],
            "label": "RDf",
            "method": "animate"
           }
          ],
          "x": 0.1,
          "xanchor": "left",
          "y": 0,
          "yanchor": "top"
         }
        ],
        "template": {
         "data": {
          "bar": [
           {
            "error_x": {
             "color": "rgb(36,36,36)"
            },
            "error_y": {
             "color": "rgb(36,36,36)"
            },
            "marker": {
             "line": {
              "color": "white",
              "width": 0.5
             },
             "pattern": {
              "fillmode": "overlay",
              "size": 10,
              "solidity": 0.2
             }
            },
            "type": "bar"
           }
          ],
          "barpolar": [
           {
            "marker": {
             "line": {
              "color": "white",
              "width": 0.5
             },
             "pattern": {
              "fillmode": "overlay",
              "size": 10,
              "solidity": 0.2
             }
            },
            "type": "barpolar"
           }
          ],
          "carpet": [
           {
            "aaxis": {
             "endlinecolor": "rgb(36,36,36)",
             "gridcolor": "white",
             "linecolor": "white",
             "minorgridcolor": "white",
             "startlinecolor": "rgb(36,36,36)"
            },
            "baxis": {
             "endlinecolor": "rgb(36,36,36)",
             "gridcolor": "white",
             "linecolor": "white",
             "minorgridcolor": "white",
             "startlinecolor": "rgb(36,36,36)"
            },
            "type": "carpet"
           }
          ],
          "choropleth": [
           {
            "colorbar": {
             "outlinewidth": 1,
             "tickcolor": "rgb(36,36,36)",
             "ticks": "outside"
            },
            "type": "choropleth"
           }
          ],
          "contour": [
           {
            "colorbar": {
             "outlinewidth": 1,
             "tickcolor": "rgb(36,36,36)",
             "ticks": "outside"
            },
            "colorscale": [
             [
              0,
              "#440154"
             ],
             [
              0.1111111111111111,
              "#482878"
             ],
             [
              0.2222222222222222,
              "#3e4989"
             ],
             [
              0.3333333333333333,
              "#31688e"
             ],
             [
              0.4444444444444444,
              "#26828e"
             ],
             [
              0.5555555555555556,
              "#1f9e89"
             ],
             [
              0.6666666666666666,
              "#35b779"
             ],
             [
              0.7777777777777778,
              "#6ece58"
             ],
             [
              0.8888888888888888,
              "#b5de2b"
             ],
             [
              1,
              "#fde725"
             ]
            ],
            "type": "contour"
           }
          ],
          "contourcarpet": [
           {
            "colorbar": {
             "outlinewidth": 1,
             "tickcolor": "rgb(36,36,36)",
             "ticks": "outside"
            },
            "type": "contourcarpet"
           }
          ],
          "heatmap": [
           {
            "colorbar": {
             "outlinewidth": 1,
             "tickcolor": "rgb(36,36,36)",
             "ticks": "outside"
            },
            "colorscale": [
             [
              0,
              "#440154"
             ],
             [
              0.1111111111111111,
              "#482878"
             ],
             [
              0.2222222222222222,
              "#3e4989"
             ],
             [
              0.3333333333333333,
              "#31688e"
             ],
             [
              0.4444444444444444,
              "#26828e"
             ],
             [
              0.5555555555555556,
              "#1f9e89"
             ],
             [
              0.6666666666666666,
              "#35b779"
             ],
             [
              0.7777777777777778,
              "#6ece58"
             ],
             [
              0.8888888888888888,
              "#b5de2b"
             ],
             [
              1,
              "#fde725"
             ]
            ],
            "type": "heatmap"
           }
          ],
          "heatmapgl": [
           {
            "colorbar": {
             "outlinewidth": 1,
             "tickcolor": "rgb(36,36,36)",
             "ticks": "outside"
            },
            "colorscale": [
             [
              0,
              "#440154"
             ],
             [
              0.1111111111111111,
              "#482878"
             ],
             [
              0.2222222222222222,
              "#3e4989"
             ],
             [
              0.3333333333333333,
              "#31688e"
             ],
             [
              0.4444444444444444,
              "#26828e"
             ],
             [
              0.5555555555555556,
              "#1f9e89"
             ],
             [
              0.6666666666666666,
              "#35b779"
             ],
             [
              0.7777777777777778,
              "#6ece58"
             ],
             [
              0.8888888888888888,
              "#b5de2b"
             ],
             [
              1,
              "#fde725"
             ]
            ],
            "type": "heatmapgl"
           }
          ],
          "histogram": [
           {
            "marker": {
             "line": {
              "color": "white",
              "width": 0.6
             }
            },
            "type": "histogram"
           }
          ],
          "histogram2d": [
           {
            "colorbar": {
             "outlinewidth": 1,
             "tickcolor": "rgb(36,36,36)",
             "ticks": "outside"
            },
            "colorscale": [
             [
              0,
              "#440154"
             ],
             [
              0.1111111111111111,
              "#482878"
             ],
             [
              0.2222222222222222,
              "#3e4989"
             ],
             [
              0.3333333333333333,
              "#31688e"
             ],
             [
              0.4444444444444444,
              "#26828e"
             ],
             [
              0.5555555555555556,
              "#1f9e89"
             ],
             [
              0.6666666666666666,
              "#35b779"
             ],
             [
              0.7777777777777778,
              "#6ece58"
             ],
             [
              0.8888888888888888,
              "#b5de2b"
             ],
             [
              1,
              "#fde725"
             ]
            ],
            "type": "histogram2d"
           }
          ],
          "histogram2dcontour": [
           {
            "colorbar": {
             "outlinewidth": 1,
             "tickcolor": "rgb(36,36,36)",
             "ticks": "outside"
            },
            "colorscale": [
             [
              0,
              "#440154"
             ],
             [
              0.1111111111111111,
              "#482878"
             ],
             [
              0.2222222222222222,
              "#3e4989"
             ],
             [
              0.3333333333333333,
              "#31688e"
             ],
             [
              0.4444444444444444,
              "#26828e"
             ],
             [
              0.5555555555555556,
              "#1f9e89"
             ],
             [
              0.6666666666666666,
              "#35b779"
             ],
             [
              0.7777777777777778,
              "#6ece58"
             ],
             [
              0.8888888888888888,
              "#b5de2b"
             ],
             [
              1,
              "#fde725"
             ]
            ],
            "type": "histogram2dcontour"
           }
          ],
          "mesh3d": [
           {
            "colorbar": {
             "outlinewidth": 1,
             "tickcolor": "rgb(36,36,36)",
             "ticks": "outside"
            },
            "type": "mesh3d"
           }
          ],
          "parcoords": [
           {
            "line": {
             "colorbar": {
              "outlinewidth": 1,
              "tickcolor": "rgb(36,36,36)",
              "ticks": "outside"
             }
            },
            "type": "parcoords"
           }
          ],
          "pie": [
           {
            "automargin": true,
            "type": "pie"
           }
          ],
          "scatter": [
           {
            "marker": {
             "colorbar": {
              "outlinewidth": 1,
              "tickcolor": "rgb(36,36,36)",
              "ticks": "outside"
             }
            },
            "type": "scatter"
           }
          ],
          "scatter3d": [
           {
            "line": {
             "colorbar": {
              "outlinewidth": 1,
              "tickcolor": "rgb(36,36,36)",
              "ticks": "outside"
             }
            },
            "marker": {
             "colorbar": {
              "outlinewidth": 1,
              "tickcolor": "rgb(36,36,36)",
              "ticks": "outside"
             }
            },
            "type": "scatter3d"
           }
          ],
          "scattercarpet": [
           {
            "marker": {
             "colorbar": {
              "outlinewidth": 1,
              "tickcolor": "rgb(36,36,36)",
              "ticks": "outside"
             }
            },
            "type": "scattercarpet"
           }
          ],
          "scattergeo": [
           {
            "marker": {
             "colorbar": {
              "outlinewidth": 1,
              "tickcolor": "rgb(36,36,36)",
              "ticks": "outside"
             }
            },
            "type": "scattergeo"
           }
          ],
          "scattergl": [
           {
            "marker": {
             "colorbar": {
              "outlinewidth": 1,
              "tickcolor": "rgb(36,36,36)",
              "ticks": "outside"
             }
            },
            "type": "scattergl"
           }
          ],
          "scattermapbox": [
           {
            "marker": {
             "colorbar": {
              "outlinewidth": 1,
              "tickcolor": "rgb(36,36,36)",
              "ticks": "outside"
             }
            },
            "type": "scattermapbox"
           }
          ],
          "scatterpolar": [
           {
            "marker": {
             "colorbar": {
              "outlinewidth": 1,
              "tickcolor": "rgb(36,36,36)",
              "ticks": "outside"
             }
            },
            "type": "scatterpolar"
           }
          ],
          "scatterpolargl": [
           {
            "marker": {
             "colorbar": {
              "outlinewidth": 1,
              "tickcolor": "rgb(36,36,36)",
              "ticks": "outside"
             }
            },
            "type": "scatterpolargl"
           }
          ],
          "scatterternary": [
           {
            "marker": {
             "colorbar": {
              "outlinewidth": 1,
              "tickcolor": "rgb(36,36,36)",
              "ticks": "outside"
             }
            },
            "type": "scatterternary"
           }
          ],
          "surface": [
           {
            "colorbar": {
             "outlinewidth": 1,
             "tickcolor": "rgb(36,36,36)",
             "ticks": "outside"
            },
            "colorscale": [
             [
              0,
              "#440154"
             ],
             [
              0.1111111111111111,
              "#482878"
             ],
             [
              0.2222222222222222,
              "#3e4989"
             ],
             [
              0.3333333333333333,
              "#31688e"
             ],
             [
              0.4444444444444444,
              "#26828e"
             ],
             [
              0.5555555555555556,
              "#1f9e89"
             ],
             [
              0.6666666666666666,
              "#35b779"
             ],
             [
              0.7777777777777778,
              "#6ece58"
             ],
             [
              0.8888888888888888,
              "#b5de2b"
             ],
             [
              1,
              "#fde725"
             ]
            ],
            "type": "surface"
           }
          ],
          "table": [
           {
            "cells": {
             "fill": {
              "color": "rgb(237,237,237)"
             },
             "line": {
              "color": "white"
             }
            },
            "header": {
             "fill": {
              "color": "rgb(217,217,217)"
             },
             "line": {
              "color": "white"
             }
            },
            "type": "table"
           }
          ]
         },
         "layout": {
          "annotationdefaults": {
           "arrowhead": 0,
           "arrowwidth": 1
          },
          "autotypenumbers": "strict",
          "coloraxis": {
           "colorbar": {
            "outlinewidth": 1,
            "tickcolor": "rgb(36,36,36)",
            "ticks": "outside"
           }
          },
          "colorscale": {
           "diverging": [
            [
             0,
             "rgb(103,0,31)"
            ],
            [
             0.1,
             "rgb(178,24,43)"
            ],
            [
             0.2,
             "rgb(214,96,77)"
            ],
            [
             0.3,
             "rgb(244,165,130)"
            ],
            [
             0.4,
             "rgb(253,219,199)"
            ],
            [
             0.5,
             "rgb(247,247,247)"
            ],
            [
             0.6,
             "rgb(209,229,240)"
            ],
            [
             0.7,
             "rgb(146,197,222)"
            ],
            [
             0.8,
             "rgb(67,147,195)"
            ],
            [
             0.9,
             "rgb(33,102,172)"
            ],
            [
             1,
             "rgb(5,48,97)"
            ]
           ],
           "sequential": [
            [
             0,
             "#440154"
            ],
            [
             0.1111111111111111,
             "#482878"
            ],
            [
             0.2222222222222222,
             "#3e4989"
            ],
            [
             0.3333333333333333,
             "#31688e"
            ],
            [
             0.4444444444444444,
             "#26828e"
            ],
            [
             0.5555555555555556,
             "#1f9e89"
            ],
            [
             0.6666666666666666,
             "#35b779"
            ],
            [
             0.7777777777777778,
             "#6ece58"
            ],
            [
             0.8888888888888888,
             "#b5de2b"
            ],
            [
             1,
             "#fde725"
            ]
           ],
           "sequentialminus": [
            [
             0,
             "#440154"
            ],
            [
             0.1111111111111111,
             "#482878"
            ],
            [
             0.2222222222222222,
             "#3e4989"
            ],
            [
             0.3333333333333333,
             "#31688e"
            ],
            [
             0.4444444444444444,
             "#26828e"
            ],
            [
             0.5555555555555556,
             "#1f9e89"
            ],
            [
             0.6666666666666666,
             "#35b779"
            ],
            [
             0.7777777777777778,
             "#6ece58"
            ],
            [
             0.8888888888888888,
             "#b5de2b"
            ],
            [
             1,
             "#fde725"
            ]
           ]
          },
          "colorway": [
           "#1F77B4",
           "#FF7F0E",
           "#2CA02C",
           "#D62728",
           "#9467BD",
           "#8C564B",
           "#E377C2",
           "#7F7F7F",
           "#BCBD22",
           "#17BECF"
          ],
          "font": {
           "color": "rgb(36,36,36)"
          },
          "geo": {
           "bgcolor": "white",
           "lakecolor": "white",
           "landcolor": "white",
           "showlakes": true,
           "showland": true,
           "subunitcolor": "white"
          },
          "hoverlabel": {
           "align": "left"
          },
          "hovermode": "closest",
          "mapbox": {
           "style": "light"
          },
          "paper_bgcolor": "white",
          "plot_bgcolor": "white",
          "polar": {
           "angularaxis": {
            "gridcolor": "rgb(232,232,232)",
            "linecolor": "rgb(36,36,36)",
            "showgrid": false,
            "showline": true,
            "ticks": "outside"
           },
           "bgcolor": "white",
           "radialaxis": {
            "gridcolor": "rgb(232,232,232)",
            "linecolor": "rgb(36,36,36)",
            "showgrid": false,
            "showline": true,
            "ticks": "outside"
           }
          },
          "scene": {
           "xaxis": {
            "backgroundcolor": "white",
            "gridcolor": "rgb(232,232,232)",
            "gridwidth": 2,
            "linecolor": "rgb(36,36,36)",
            "showbackground": true,
            "showgrid": false,
            "showline": true,
            "ticks": "outside",
            "zeroline": false,
            "zerolinecolor": "rgb(36,36,36)"
           },
           "yaxis": {
            "backgroundcolor": "white",
            "gridcolor": "rgb(232,232,232)",
            "gridwidth": 2,
            "linecolor": "rgb(36,36,36)",
            "showbackground": true,
            "showgrid": false,
            "showline": true,
            "ticks": "outside",
            "zeroline": false,
            "zerolinecolor": "rgb(36,36,36)"
           },
           "zaxis": {
            "backgroundcolor": "white",
            "gridcolor": "rgb(232,232,232)",
            "gridwidth": 2,
            "linecolor": "rgb(36,36,36)",
            "showbackground": true,
            "showgrid": false,
            "showline": true,
            "ticks": "outside",
            "zeroline": false,
            "zerolinecolor": "rgb(36,36,36)"
           }
          },
          "shapedefaults": {
           "fillcolor": "black",
           "line": {
            "width": 0
           },
           "opacity": 0.3
          },
          "ternary": {
           "aaxis": {
            "gridcolor": "rgb(232,232,232)",
            "linecolor": "rgb(36,36,36)",
            "showgrid": false,
            "showline": true,
            "ticks": "outside"
           },
           "baxis": {
            "gridcolor": "rgb(232,232,232)",
            "linecolor": "rgb(36,36,36)",
            "showgrid": false,
            "showline": true,
            "ticks": "outside"
           },
           "bgcolor": "white",
           "caxis": {
            "gridcolor": "rgb(232,232,232)",
            "linecolor": "rgb(36,36,36)",
            "showgrid": false,
            "showline": true,
            "ticks": "outside"
           }
          },
          "title": {
           "x": 0.05
          },
          "xaxis": {
           "automargin": true,
           "gridcolor": "rgb(232,232,232)",
           "linecolor": "rgb(36,36,36)",
           "showgrid": false,
           "showline": true,
           "ticks": "outside",
           "title": {
            "standoff": 15
           },
           "zeroline": false,
           "zerolinecolor": "rgb(36,36,36)"
          },
          "yaxis": {
           "automargin": true,
           "gridcolor": "rgb(232,232,232)",
           "linecolor": "rgb(36,36,36)",
           "showgrid": false,
           "showline": true,
           "ticks": "outside",
           "title": {
            "standoff": 15
           },
           "zeroline": false,
           "zerolinecolor": "rgb(36,36,36)"
          }
         }
        },
        "xaxis": {
         "anchor": "y",
         "domain": [
          0,
          1
         ],
         "range": [
          -10,
          100
         ],
         "title": {
          "text": "Sensitivity Ratio [%]"
         }
        },
        "yaxis": {
         "anchor": "x",
         "domain": [
          0,
          1
         ],
         "title": {
          "text": "Exchange"
         }
        }
       }
      },
      "text/html": [
       "<div>                            <div id=\"e609edba-7ced-479f-8386-0a95d3cb32e4\" class=\"plotly-graph-div\" style=\"height:525px; width:100%;\"></div>            <script type=\"text/javascript\">                require([\"plotly\"], function(Plotly) {                    window.PLOTLYENV=window.PLOTLYENV || {};                                    if (document.getElementById(\"e609edba-7ced-479f-8386-0a95d3cb32e4\")) {                    Plotly.newPlot(                        \"e609edba-7ced-479f-8386-0a95d3cb32e4\",                        [{\"alignmentgroup\":\"True\",\"hovertemplate\":\"Category=ingredients<br>Impact Category=GW<br>Sensitivity Ratio [%]=%{x}<br>Exchange=%{y}<extra></extra>\",\"legendgroup\":\"ingredients\",\"marker\":{\"color\":\"#1F77B4\",\"pattern\":{\"shape\":\"\"}},\"name\":\"ingredients\",\"offsetgroup\":\"ingredients\",\"orientation\":\"h\",\"showlegend\":true,\"textposition\":\"auto\",\"type\":\"bar\",\"x\":[2.9845329791937054,9.167794881551332,4.179415086618477,11.412759886655985,0.25511570529227895,30.039519244862884,0.5682070207744132,8.287993539627124e-05],\"xaxis\":\"x\",\"y\":[\"FROM:banana production, TO:baking banana bread\",\"FROM:coconut oil production, crude, TO:baking banana bread\",\"FROM:almond production, TO:baking banana bread\",\"FROM:market for wheat flour, TO:baking banana bread\",\"FROM:sugar beet production, TO:baking banana bread\",\"FROM:milk production, from cow, TO:baking banana bread\",\"FROM:ammonium carbonate production, TO:baking banana bread\",\"FROM:salt production from seawater, evaporation pond, TO:baking banana bread\"],\"yaxis\":\"y\"},{\"alignmentgroup\":\"True\",\"hovertemplate\":\"Category=transport<br>Impact Category=GW<br>Sensitivity Ratio [%]=%{x}<br>Exchange=%{y}<extra></extra>\",\"legendgroup\":\"transport\",\"marker\":{\"color\":\"#FF7F0E\",\"pattern\":{\"shape\":\"\"}},\"name\":\"transport\",\"offsetgroup\":\"transport\",\"orientation\":\"h\",\"showlegend\":true,\"textposition\":\"auto\",\"type\":\"bar\",\"x\":[1.7966098258951915,9.526501188098807,0.16506873571111677],\"xaxis\":\"x\",\"y\":[\"FROM:transport, freight, sea, container ship, TO:baking banana bread\",\"FROM:transport, freight, aircraft, belly-freight, long haul, TO:baking banana bread\",\"FROM:market for transport, freight, lorry 16-32 metric ton, EURO5, TO:baking banana bread\"],\"yaxis\":\"y\"},{\"alignmentgroup\":\"True\",\"hovertemplate\":\"Category=energy<br>Impact Category=GW<br>Sensitivity Ratio [%]=%{x}<br>Exchange=%{y}<extra></extra>\",\"legendgroup\":\"energy\",\"marker\":{\"color\":\"#2CA02C\",\"pattern\":{\"shape\":\"\"}},\"name\":\"energy\",\"offsetgroup\":\"energy\",\"orientation\":\"h\",\"showlegend\":true,\"textposition\":\"auto\",\"type\":\"bar\",\"x\":[29.904392565450927],\"xaxis\":\"x\",\"y\":[\"FROM:market for electricity, medium voltage, TO:baking banana bread\"],\"yaxis\":\"y\"}],                        {\"barmode\":\"relative\",\"font\":{\"family\":\"Arial\"},\"hoverlabel\":{\"bgcolor\":\"white\",\"font\":{\"family\":\"Arial\",\"size\":10}},\"legend\":{\"title\":{\"text\":\"Category\"},\"tracegroupgap\":0},\"margin\":{\"t\":60},\"sliders\":[{\"active\":0,\"currentvalue\":{\"prefix\":\"Impact Category=\"},\"len\":0.9,\"pad\":{\"b\":10,\"t\":60},\"steps\":[{\"args\":[[\"GW\"],{\"frame\":{\"duration\":0,\"redraw\":true},\"fromcurrent\":true,\"mode\":\"immediate\",\"transition\":{\"duration\":0,\"easing\":\"linear\"}}],\"label\":\"GW\",\"method\":\"animate\"},{\"args\":[[\"OD\"],{\"frame\":{\"duration\":0,\"redraw\":true},\"fromcurrent\":true,\"mode\":\"immediate\",\"transition\":{\"duration\":0,\"easing\":\"linear\"}}],\"label\":\"OD\",\"method\":\"animate\"},{\"args\":[[\"HTc\"],{\"frame\":{\"duration\":0,\"redraw\":true},\"fromcurrent\":true,\"mode\":\"immediate\",\"transition\":{\"duration\":0,\"easing\":\"linear\"}}],\"label\":\"HTc\",\"method\":\"animate\"},{\"args\":[[\"HTnc\"],{\"frame\":{\"duration\":0,\"redraw\":true},\"fromcurrent\":true,\"mode\":\"immediate\",\"transition\":{\"duration\":0,\"easing\":\"linear\"}}],\"label\":\"HTnc\",\"method\":\"animate\"},{\"args\":[[\"PM\"],{\"frame\":{\"duration\":0,\"redraw\":true},\"fromcurrent\":true,\"mode\":\"immediate\",\"transition\":{\"duration\":0,\"easing\":\"linear\"}}],\"label\":\"PM\",\"method\":\"animate\"},{\"args\":[[\"IR\"],{\"frame\":{\"duration\":0,\"redraw\":true},\"fromcurrent\":true,\"mode\":\"immediate\",\"transition\":{\"duration\":0,\"easing\":\"linear\"}}],\"label\":\"IR\",\"method\":\"animate\"},{\"args\":[[\"POF\"],{\"frame\":{\"duration\":0,\"redraw\":true},\"fromcurrent\":true,\"mode\":\"immediate\",\"transition\":{\"duration\":0,\"easing\":\"linear\"}}],\"label\":\"POF\",\"method\":\"animate\"},{\"args\":[[\"AC\"],{\"frame\":{\"duration\":0,\"redraw\":true},\"fromcurrent\":true,\"mode\":\"immediate\",\"transition\":{\"duration\":0,\"easing\":\"linear\"}}],\"label\":\"AC\",\"method\":\"animate\"},{\"args\":[[\"TE\"],{\"frame\":{\"duration\":0,\"redraw\":true},\"fromcurrent\":true,\"mode\":\"immediate\",\"transition\":{\"duration\":0,\"easing\":\"linear\"}}],\"label\":\"TE\",\"method\":\"animate\"},{\"args\":[[\"FE\"],{\"frame\":{\"duration\":0,\"redraw\":true},\"fromcurrent\":true,\"mode\":\"immediate\",\"transition\":{\"duration\":0,\"easing\":\"linear\"}}],\"label\":\"FE\",\"method\":\"animate\"},{\"args\":[[\"ME\"],{\"frame\":{\"duration\":0,\"redraw\":true},\"fromcurrent\":true,\"mode\":\"immediate\",\"transition\":{\"duration\":0,\"easing\":\"linear\"}}],\"label\":\"ME\",\"method\":\"animate\"},{\"args\":[[\"ET\"],{\"frame\":{\"duration\":0,\"redraw\":true},\"fromcurrent\":true,\"mode\":\"immediate\",\"transition\":{\"duration\":0,\"easing\":\"linear\"}}],\"label\":\"ET\",\"method\":\"animate\"},{\"args\":[[\"LU\"],{\"frame\":{\"duration\":0,\"redraw\":true},\"fromcurrent\":true,\"mode\":\"immediate\",\"transition\":{\"duration\":0,\"easing\":\"linear\"}}],\"label\":\"LU\",\"method\":\"animate\"},{\"args\":[[\"RDw\"],{\"frame\":{\"duration\":0,\"redraw\":true},\"fromcurrent\":true,\"mode\":\"immediate\",\"transition\":{\"duration\":0,\"easing\":\"linear\"}}],\"label\":\"RDw\",\"method\":\"animate\"},{\"args\":[[\"RDm\"],{\"frame\":{\"duration\":0,\"redraw\":true},\"fromcurrent\":true,\"mode\":\"immediate\",\"transition\":{\"duration\":0,\"easing\":\"linear\"}}],\"label\":\"RDm\",\"method\":\"animate\"},{\"args\":[[\"RDf\"],{\"frame\":{\"duration\":0,\"redraw\":true},\"fromcurrent\":true,\"mode\":\"immediate\",\"transition\":{\"duration\":0,\"easing\":\"linear\"}}],\"label\":\"RDf\",\"method\":\"animate\"}],\"x\":0.1,\"xanchor\":\"left\",\"y\":0,\"yanchor\":\"top\"}],\"template\":{\"data\":{\"bar\":[{\"error_x\":{\"color\":\"rgb(36,36,36)\"},\"error_y\":{\"color\":\"rgb(36,36,36)\"},\"marker\":{\"line\":{\"color\":\"white\",\"width\":0.5},\"pattern\":{\"fillmode\":\"overlay\",\"size\":10,\"solidity\":0.2}},\"type\":\"bar\"}],\"barpolar\":[{\"marker\":{\"line\":{\"color\":\"white\",\"width\":0.5},\"pattern\":{\"fillmode\":\"overlay\",\"size\":10,\"solidity\":0.2}},\"type\":\"barpolar\"}],\"carpet\":[{\"aaxis\":{\"endlinecolor\":\"rgb(36,36,36)\",\"gridcolor\":\"white\",\"linecolor\":\"white\",\"minorgridcolor\":\"white\",\"startlinecolor\":\"rgb(36,36,36)\"},\"baxis\":{\"endlinecolor\":\"rgb(36,36,36)\",\"gridcolor\":\"white\",\"linecolor\":\"white\",\"minorgridcolor\":\"white\",\"startlinecolor\":\"rgb(36,36,36)\"},\"type\":\"carpet\"}],\"choropleth\":[{\"colorbar\":{\"outlinewidth\":1,\"tickcolor\":\"rgb(36,36,36)\",\"ticks\":\"outside\"},\"type\":\"choropleth\"}],\"contour\":[{\"colorbar\":{\"outlinewidth\":1,\"tickcolor\":\"rgb(36,36,36)\",\"ticks\":\"outside\"},\"colorscale\":[[0.0,\"#440154\"],[0.1111111111111111,\"#482878\"],[0.2222222222222222,\"#3e4989\"],[0.3333333333333333,\"#31688e\"],[0.4444444444444444,\"#26828e\"],[0.5555555555555556,\"#1f9e89\"],[0.6666666666666666,\"#35b779\"],[0.7777777777777778,\"#6ece58\"],[0.8888888888888888,\"#b5de2b\"],[1.0,\"#fde725\"]],\"type\":\"contour\"}],\"contourcarpet\":[{\"colorbar\":{\"outlinewidth\":1,\"tickcolor\":\"rgb(36,36,36)\",\"ticks\":\"outside\"},\"type\":\"contourcarpet\"}],\"heatmap\":[{\"colorbar\":{\"outlinewidth\":1,\"tickcolor\":\"rgb(36,36,36)\",\"ticks\":\"outside\"},\"colorscale\":[[0.0,\"#440154\"],[0.1111111111111111,\"#482878\"],[0.2222222222222222,\"#3e4989\"],[0.3333333333333333,\"#31688e\"],[0.4444444444444444,\"#26828e\"],[0.5555555555555556,\"#1f9e89\"],[0.6666666666666666,\"#35b779\"],[0.7777777777777778,\"#6ece58\"],[0.8888888888888888,\"#b5de2b\"],[1.0,\"#fde725\"]],\"type\":\"heatmap\"}],\"heatmapgl\":[{\"colorbar\":{\"outlinewidth\":1,\"tickcolor\":\"rgb(36,36,36)\",\"ticks\":\"outside\"},\"colorscale\":[[0.0,\"#440154\"],[0.1111111111111111,\"#482878\"],[0.2222222222222222,\"#3e4989\"],[0.3333333333333333,\"#31688e\"],[0.4444444444444444,\"#26828e\"],[0.5555555555555556,\"#1f9e89\"],[0.6666666666666666,\"#35b779\"],[0.7777777777777778,\"#6ece58\"],[0.8888888888888888,\"#b5de2b\"],[1.0,\"#fde725\"]],\"type\":\"heatmapgl\"}],\"histogram\":[{\"marker\":{\"line\":{\"color\":\"white\",\"width\":0.6}},\"type\":\"histogram\"}],\"histogram2d\":[{\"colorbar\":{\"outlinewidth\":1,\"tickcolor\":\"rgb(36,36,36)\",\"ticks\":\"outside\"},\"colorscale\":[[0.0,\"#440154\"],[0.1111111111111111,\"#482878\"],[0.2222222222222222,\"#3e4989\"],[0.3333333333333333,\"#31688e\"],[0.4444444444444444,\"#26828e\"],[0.5555555555555556,\"#1f9e89\"],[0.6666666666666666,\"#35b779\"],[0.7777777777777778,\"#6ece58\"],[0.8888888888888888,\"#b5de2b\"],[1.0,\"#fde725\"]],\"type\":\"histogram2d\"}],\"histogram2dcontour\":[{\"colorbar\":{\"outlinewidth\":1,\"tickcolor\":\"rgb(36,36,36)\",\"ticks\":\"outside\"},\"colorscale\":[[0.0,\"#440154\"],[0.1111111111111111,\"#482878\"],[0.2222222222222222,\"#3e4989\"],[0.3333333333333333,\"#31688e\"],[0.4444444444444444,\"#26828e\"],[0.5555555555555556,\"#1f9e89\"],[0.6666666666666666,\"#35b779\"],[0.7777777777777778,\"#6ece58\"],[0.8888888888888888,\"#b5de2b\"],[1.0,\"#fde725\"]],\"type\":\"histogram2dcontour\"}],\"mesh3d\":[{\"colorbar\":{\"outlinewidth\":1,\"tickcolor\":\"rgb(36,36,36)\",\"ticks\":\"outside\"},\"type\":\"mesh3d\"}],\"parcoords\":[{\"line\":{\"colorbar\":{\"outlinewidth\":1,\"tickcolor\":\"rgb(36,36,36)\",\"ticks\":\"outside\"}},\"type\":\"parcoords\"}],\"pie\":[{\"automargin\":true,\"type\":\"pie\"}],\"scatter\":[{\"marker\":{\"colorbar\":{\"outlinewidth\":1,\"tickcolor\":\"rgb(36,36,36)\",\"ticks\":\"outside\"}},\"type\":\"scatter\"}],\"scatter3d\":[{\"line\":{\"colorbar\":{\"outlinewidth\":1,\"tickcolor\":\"rgb(36,36,36)\",\"ticks\":\"outside\"}},\"marker\":{\"colorbar\":{\"outlinewidth\":1,\"tickcolor\":\"rgb(36,36,36)\",\"ticks\":\"outside\"}},\"type\":\"scatter3d\"}],\"scattercarpet\":[{\"marker\":{\"colorbar\":{\"outlinewidth\":1,\"tickcolor\":\"rgb(36,36,36)\",\"ticks\":\"outside\"}},\"type\":\"scattercarpet\"}],\"scattergeo\":[{\"marker\":{\"colorbar\":{\"outlinewidth\":1,\"tickcolor\":\"rgb(36,36,36)\",\"ticks\":\"outside\"}},\"type\":\"scattergeo\"}],\"scattergl\":[{\"marker\":{\"colorbar\":{\"outlinewidth\":1,\"tickcolor\":\"rgb(36,36,36)\",\"ticks\":\"outside\"}},\"type\":\"scattergl\"}],\"scattermapbox\":[{\"marker\":{\"colorbar\":{\"outlinewidth\":1,\"tickcolor\":\"rgb(36,36,36)\",\"ticks\":\"outside\"}},\"type\":\"scattermapbox\"}],\"scatterpolar\":[{\"marker\":{\"colorbar\":{\"outlinewidth\":1,\"tickcolor\":\"rgb(36,36,36)\",\"ticks\":\"outside\"}},\"type\":\"scatterpolar\"}],\"scatterpolargl\":[{\"marker\":{\"colorbar\":{\"outlinewidth\":1,\"tickcolor\":\"rgb(36,36,36)\",\"ticks\":\"outside\"}},\"type\":\"scatterpolargl\"}],\"scatterternary\":[{\"marker\":{\"colorbar\":{\"outlinewidth\":1,\"tickcolor\":\"rgb(36,36,36)\",\"ticks\":\"outside\"}},\"type\":\"scatterternary\"}],\"surface\":[{\"colorbar\":{\"outlinewidth\":1,\"tickcolor\":\"rgb(36,36,36)\",\"ticks\":\"outside\"},\"colorscale\":[[0.0,\"#440154\"],[0.1111111111111111,\"#482878\"],[0.2222222222222222,\"#3e4989\"],[0.3333333333333333,\"#31688e\"],[0.4444444444444444,\"#26828e\"],[0.5555555555555556,\"#1f9e89\"],[0.6666666666666666,\"#35b779\"],[0.7777777777777778,\"#6ece58\"],[0.8888888888888888,\"#b5de2b\"],[1.0,\"#fde725\"]],\"type\":\"surface\"}],\"table\":[{\"cells\":{\"fill\":{\"color\":\"rgb(237,237,237)\"},\"line\":{\"color\":\"white\"}},\"header\":{\"fill\":{\"color\":\"rgb(217,217,217)\"},\"line\":{\"color\":\"white\"}},\"type\":\"table\"}]},\"layout\":{\"annotationdefaults\":{\"arrowhead\":0,\"arrowwidth\":1},\"autotypenumbers\":\"strict\",\"coloraxis\":{\"colorbar\":{\"outlinewidth\":1,\"tickcolor\":\"rgb(36,36,36)\",\"ticks\":\"outside\"}},\"colorscale\":{\"diverging\":[[0.0,\"rgb(103,0,31)\"],[0.1,\"rgb(178,24,43)\"],[0.2,\"rgb(214,96,77)\"],[0.3,\"rgb(244,165,130)\"],[0.4,\"rgb(253,219,199)\"],[0.5,\"rgb(247,247,247)\"],[0.6,\"rgb(209,229,240)\"],[0.7,\"rgb(146,197,222)\"],[0.8,\"rgb(67,147,195)\"],[0.9,\"rgb(33,102,172)\"],[1.0,\"rgb(5,48,97)\"]],\"sequential\":[[0.0,\"#440154\"],[0.1111111111111111,\"#482878\"],[0.2222222222222222,\"#3e4989\"],[0.3333333333333333,\"#31688e\"],[0.4444444444444444,\"#26828e\"],[0.5555555555555556,\"#1f9e89\"],[0.6666666666666666,\"#35b779\"],[0.7777777777777778,\"#6ece58\"],[0.8888888888888888,\"#b5de2b\"],[1.0,\"#fde725\"]],\"sequentialminus\":[[0.0,\"#440154\"],[0.1111111111111111,\"#482878\"],[0.2222222222222222,\"#3e4989\"],[0.3333333333333333,\"#31688e\"],[0.4444444444444444,\"#26828e\"],[0.5555555555555556,\"#1f9e89\"],[0.6666666666666666,\"#35b779\"],[0.7777777777777778,\"#6ece58\"],[0.8888888888888888,\"#b5de2b\"],[1.0,\"#fde725\"]]},\"colorway\":[\"#1F77B4\",\"#FF7F0E\",\"#2CA02C\",\"#D62728\",\"#9467BD\",\"#8C564B\",\"#E377C2\",\"#7F7F7F\",\"#BCBD22\",\"#17BECF\"],\"font\":{\"color\":\"rgb(36,36,36)\"},\"geo\":{\"bgcolor\":\"white\",\"lakecolor\":\"white\",\"landcolor\":\"white\",\"showlakes\":true,\"showland\":true,\"subunitcolor\":\"white\"},\"hoverlabel\":{\"align\":\"left\"},\"hovermode\":\"closest\",\"mapbox\":{\"style\":\"light\"},\"paper_bgcolor\":\"white\",\"plot_bgcolor\":\"white\",\"polar\":{\"angularaxis\":{\"gridcolor\":\"rgb(232,232,232)\",\"linecolor\":\"rgb(36,36,36)\",\"showgrid\":false,\"showline\":true,\"ticks\":\"outside\"},\"bgcolor\":\"white\",\"radialaxis\":{\"gridcolor\":\"rgb(232,232,232)\",\"linecolor\":\"rgb(36,36,36)\",\"showgrid\":false,\"showline\":true,\"ticks\":\"outside\"}},\"scene\":{\"xaxis\":{\"backgroundcolor\":\"white\",\"gridcolor\":\"rgb(232,232,232)\",\"gridwidth\":2,\"linecolor\":\"rgb(36,36,36)\",\"showbackground\":true,\"showgrid\":false,\"showline\":true,\"ticks\":\"outside\",\"zeroline\":false,\"zerolinecolor\":\"rgb(36,36,36)\"},\"yaxis\":{\"backgroundcolor\":\"white\",\"gridcolor\":\"rgb(232,232,232)\",\"gridwidth\":2,\"linecolor\":\"rgb(36,36,36)\",\"showbackground\":true,\"showgrid\":false,\"showline\":true,\"ticks\":\"outside\",\"zeroline\":false,\"zerolinecolor\":\"rgb(36,36,36)\"},\"zaxis\":{\"backgroundcolor\":\"white\",\"gridcolor\":\"rgb(232,232,232)\",\"gridwidth\":2,\"linecolor\":\"rgb(36,36,36)\",\"showbackground\":true,\"showgrid\":false,\"showline\":true,\"ticks\":\"outside\",\"zeroline\":false,\"zerolinecolor\":\"rgb(36,36,36)\"}},\"shapedefaults\":{\"fillcolor\":\"black\",\"line\":{\"width\":0},\"opacity\":0.3},\"ternary\":{\"aaxis\":{\"gridcolor\":\"rgb(232,232,232)\",\"linecolor\":\"rgb(36,36,36)\",\"showgrid\":false,\"showline\":true,\"ticks\":\"outside\"},\"baxis\":{\"gridcolor\":\"rgb(232,232,232)\",\"linecolor\":\"rgb(36,36,36)\",\"showgrid\":false,\"showline\":true,\"ticks\":\"outside\"},\"bgcolor\":\"white\",\"caxis\":{\"gridcolor\":\"rgb(232,232,232)\",\"linecolor\":\"rgb(36,36,36)\",\"showgrid\":false,\"showline\":true,\"ticks\":\"outside\"}},\"title\":{\"x\":0.05},\"xaxis\":{\"automargin\":true,\"gridcolor\":\"rgb(232,232,232)\",\"linecolor\":\"rgb(36,36,36)\",\"showgrid\":false,\"showline\":true,\"ticks\":\"outside\",\"title\":{\"standoff\":15},\"zeroline\":false,\"zerolinecolor\":\"rgb(36,36,36)\"},\"yaxis\":{\"automargin\":true,\"gridcolor\":\"rgb(232,232,232)\",\"linecolor\":\"rgb(36,36,36)\",\"showgrid\":false,\"showline\":true,\"ticks\":\"outside\",\"title\":{\"standoff\":15},\"zeroline\":false,\"zerolinecolor\":\"rgb(36,36,36)\"}}},\"xaxis\":{\"anchor\":\"y\",\"domain\":[0.0,1.0],\"range\":[-10.0,100.0],\"title\":{\"text\":\"Sensitivity Ratio [%]\"}},\"yaxis\":{\"anchor\":\"x\",\"domain\":[0.0,1.0],\"title\":{\"text\":\"Exchange\"}}},                        {\"responsive\": true}                    ).then(function(){\n",
       "                            Plotly.addFrames('e609edba-7ced-479f-8386-0a95d3cb32e4', [{\"data\":[{\"alignmentgroup\":\"True\",\"hovertemplate\":\"Category=ingredients<br>Impact Category=GW<br>Sensitivity Ratio [%]=%{x}<br>Exchange=%{y}<extra></extra>\",\"legendgroup\":\"ingredients\",\"marker\":{\"color\":\"#1F77B4\",\"pattern\":{\"shape\":\"\"}},\"name\":\"ingredients\",\"offsetgroup\":\"ingredients\",\"orientation\":\"h\",\"showlegend\":true,\"textposition\":\"auto\",\"type\":\"bar\",\"x\":[2.9845329791937054,9.167794881551332,4.179415086618477,11.412759886655985,0.25511570529227895,30.039519244862884,0.5682070207744132,8.287993539627124e-05],\"xaxis\":\"x\",\"y\":[\"FROM:banana production, TO:baking banana bread\",\"FROM:coconut oil production, crude, TO:baking banana bread\",\"FROM:almond production, TO:baking banana bread\",\"FROM:market for wheat flour, TO:baking banana bread\",\"FROM:sugar beet production, TO:baking banana bread\",\"FROM:milk production, from cow, TO:baking banana bread\",\"FROM:ammonium carbonate production, TO:baking banana bread\",\"FROM:salt production from seawater, evaporation pond, TO:baking banana bread\"],\"yaxis\":\"y\"},{\"alignmentgroup\":\"True\",\"hovertemplate\":\"Category=transport<br>Impact Category=GW<br>Sensitivity Ratio [%]=%{x}<br>Exchange=%{y}<extra></extra>\",\"legendgroup\":\"transport\",\"marker\":{\"color\":\"#FF7F0E\",\"pattern\":{\"shape\":\"\"}},\"name\":\"transport\",\"offsetgroup\":\"transport\",\"orientation\":\"h\",\"showlegend\":true,\"textposition\":\"auto\",\"type\":\"bar\",\"x\":[1.7966098258951915,9.526501188098807,0.16506873571111677],\"xaxis\":\"x\",\"y\":[\"FROM:transport, freight, sea, container ship, TO:baking banana bread\",\"FROM:transport, freight, aircraft, belly-freight, long haul, TO:baking banana bread\",\"FROM:market for transport, freight, lorry 16-32 metric ton, EURO5, TO:baking banana bread\"],\"yaxis\":\"y\"},{\"alignmentgroup\":\"True\",\"hovertemplate\":\"Category=energy<br>Impact Category=GW<br>Sensitivity Ratio [%]=%{x}<br>Exchange=%{y}<extra></extra>\",\"legendgroup\":\"energy\",\"marker\":{\"color\":\"#2CA02C\",\"pattern\":{\"shape\":\"\"}},\"name\":\"energy\",\"offsetgroup\":\"energy\",\"orientation\":\"h\",\"showlegend\":true,\"textposition\":\"auto\",\"type\":\"bar\",\"x\":[29.904392565450927],\"xaxis\":\"x\",\"y\":[\"FROM:market for electricity, medium voltage, TO:baking banana bread\"],\"yaxis\":\"y\"}],\"name\":\"GW\"},{\"data\":[{\"alignmentgroup\":\"True\",\"hovertemplate\":\"Category=ingredients<br>Impact Category=OD<br>Sensitivity Ratio [%]=%{x}<br>Exchange=%{y}<extra></extra>\",\"legendgroup\":\"ingredients\",\"marker\":{\"color\":\"#1F77B4\",\"pattern\":{\"shape\":\"\"}},\"name\":\"ingredients\",\"offsetgroup\":\"ingredients\",\"orientation\":\"h\",\"showlegend\":true,\"textposition\":\"auto\",\"type\":\"bar\",\"x\":[2.259081949530292,7.942894843975852,4.824465622376016,14.35859531034033,0.3200232191171401,13.380367833116702,0.33804267185145104,6.781030906875932e-05],\"xaxis\":\"x\",\"y\":[\"FROM:banana production, TO:baking banana bread\",\"FROM:coconut oil production, crude, TO:baking banana bread\",\"FROM:almond production, TO:baking banana bread\",\"FROM:market for wheat flour, TO:baking banana bread\",\"FROM:sugar beet production, TO:baking banana bread\",\"FROM:milk production, from cow, TO:baking banana bread\",\"FROM:ammonium carbonate production, TO:baking banana bread\",\"FROM:salt production from seawater, evaporation pond, TO:baking banana bread\"],\"yaxis\":\"y\"},{\"alignmentgroup\":\"True\",\"hovertemplate\":\"Category=transport<br>Impact Category=OD<br>Sensitivity Ratio [%]=%{x}<br>Exchange=%{y}<extra></extra>\",\"legendgroup\":\"transport\",\"marker\":{\"color\":\"#FF7F0E\",\"pattern\":{\"shape\":\"\"}},\"name\":\"transport\",\"offsetgroup\":\"transport\",\"orientation\":\"h\",\"showlegend\":true,\"textposition\":\"auto\",\"type\":\"bar\",\"x\":[6.187629894556855,36.93611258705116,0.6402033822269068],\"xaxis\":\"x\",\"y\":[\"FROM:transport, freight, sea, container ship, TO:baking banana bread\",\"FROM:transport, freight, aircraft, belly-freight, long haul, TO:baking banana bread\",\"FROM:market for transport, freight, lorry 16-32 metric ton, EURO5, TO:baking banana bread\"],\"yaxis\":\"y\"},{\"alignmentgroup\":\"True\",\"hovertemplate\":\"Category=energy<br>Impact Category=OD<br>Sensitivity Ratio [%]=%{x}<br>Exchange=%{y}<extra></extra>\",\"legendgroup\":\"energy\",\"marker\":{\"color\":\"#2CA02C\",\"pattern\":{\"shape\":\"\"}},\"name\":\"energy\",\"offsetgroup\":\"energy\",\"orientation\":\"h\",\"showlegend\":true,\"textposition\":\"auto\",\"type\":\"bar\",\"x\":[12.812514875702613],\"xaxis\":\"x\",\"y\":[\"FROM:market for electricity, medium voltage, TO:baking banana bread\"],\"yaxis\":\"y\"}],\"name\":\"OD\"},{\"data\":[{\"alignmentgroup\":\"True\",\"hovertemplate\":\"Category=ingredients<br>Impact Category=HTc<br>Sensitivity Ratio [%]=%{x}<br>Exchange=%{y}<extra></extra>\",\"legendgroup\":\"ingredients\",\"marker\":{\"color\":\"#1F77B4\",\"pattern\":{\"shape\":\"\"}},\"name\":\"ingredients\",\"offsetgroup\":\"ingredients\",\"orientation\":\"h\",\"showlegend\":true,\"textposition\":\"auto\",\"type\":\"bar\",\"x\":[4.140348124820548,19.53683726015287,4.809973723999699,31.67714196972745,0.3804746852244277,24.015537505488144,0.36741898807369894,0.0008537712777376429],\"xaxis\":\"x\",\"y\":[\"FROM:banana production, TO:baking banana bread\",\"FROM:coconut oil production, crude, TO:baking banana bread\",\"FROM:almond production, TO:baking banana bread\",\"FROM:market for wheat flour, TO:baking banana bread\",\"FROM:sugar beet production, TO:baking banana bread\",\"FROM:milk production, from cow, TO:baking banana bread\",\"FROM:ammonium carbonate production, TO:baking banana bread\",\"FROM:salt production from seawater, evaporation pond, TO:baking banana bread\"],\"yaxis\":\"y\"},{\"alignmentgroup\":\"True\",\"hovertemplate\":\"Category=transport<br>Impact Category=HTc<br>Sensitivity Ratio [%]=%{x}<br>Exchange=%{y}<extra></extra>\",\"legendgroup\":\"transport\",\"marker\":{\"color\":\"#FF7F0E\",\"pattern\":{\"shape\":\"\"}},\"name\":\"transport\",\"offsetgroup\":\"transport\",\"orientation\":\"h\",\"showlegend\":true,\"textposition\":\"auto\",\"type\":\"bar\",\"x\":[1.938984465014199,1.067364997151302,0.11784995649450497],\"xaxis\":\"x\",\"y\":[\"FROM:transport, freight, sea, container ship, TO:baking banana bread\",\"FROM:transport, freight, aircraft, belly-freight, long haul, TO:baking banana bread\",\"FROM:market for transport, freight, lorry 16-32 metric ton, EURO5, TO:baking banana bread\"],\"yaxis\":\"y\"},{\"alignmentgroup\":\"True\",\"hovertemplate\":\"Category=energy<br>Impact Category=HTc<br>Sensitivity Ratio [%]=%{x}<br>Exchange=%{y}<extra></extra>\",\"legendgroup\":\"energy\",\"marker\":{\"color\":\"#2CA02C\",\"pattern\":{\"shape\":\"\"}},\"name\":\"energy\",\"offsetgroup\":\"energy\",\"orientation\":\"h\",\"showlegend\":true,\"textposition\":\"auto\",\"type\":\"bar\",\"x\":[11.947214551448777],\"xaxis\":\"x\",\"y\":[\"FROM:market for electricity, medium voltage, TO:baking banana bread\"],\"yaxis\":\"y\"}],\"name\":\"HTc\"},{\"data\":[{\"alignmentgroup\":\"True\",\"hovertemplate\":\"Category=ingredients<br>Impact Category=HTnc<br>Sensitivity Ratio [%]=%{x}<br>Exchange=%{y}<extra></extra>\",\"legendgroup\":\"ingredients\",\"marker\":{\"color\":\"#1F77B4\",\"pattern\":{\"shape\":\"\"}},\"name\":\"ingredients\",\"offsetgroup\":\"ingredients\",\"orientation\":\"h\",\"showlegend\":true,\"textposition\":\"auto\",\"type\":\"bar\",\"x\":[-1.2346424105363452,4.678022416239316,91.97606620283571,2.9628881036581483,0.22839119916748274,-0.11852058467939268,0.016782247024652266,5.075013969257595e-06],\"xaxis\":\"x\",\"y\":[\"FROM:banana production, TO:baking banana bread\",\"FROM:coconut oil production, crude, TO:baking banana bread\",\"FROM:almond production, TO:baking banana bread\",\"FROM:market for wheat flour, TO:baking banana bread\",\"FROM:sugar beet production, TO:baking banana bread\",\"FROM:milk production, from cow, TO:baking banana bread\",\"FROM:ammonium carbonate production, TO:baking banana bread\",\"FROM:salt production from seawater, evaporation pond, TO:baking banana bread\"],\"yaxis\":\"y\"},{\"alignmentgroup\":\"True\",\"hovertemplate\":\"Category=transport<br>Impact Category=HTnc<br>Sensitivity Ratio [%]=%{x}<br>Exchange=%{y}<extra></extra>\",\"legendgroup\":\"transport\",\"marker\":{\"color\":\"#FF7F0E\",\"pattern\":{\"shape\":\"\"}},\"name\":\"transport\",\"offsetgroup\":\"transport\",\"orientation\":\"h\",\"showlegend\":true,\"textposition\":\"auto\",\"type\":\"bar\",\"x\":[0.025076868098511732,0.47664290742369514,0.01114952211800669],\"xaxis\":\"x\",\"y\":[\"FROM:transport, freight, sea, container ship, TO:baking banana bread\",\"FROM:transport, freight, aircraft, belly-freight, long haul, TO:baking banana bread\",\"FROM:market for transport, freight, lorry 16-32 metric ton, EURO5, TO:baking banana bread\"],\"yaxis\":\"y\"},{\"alignmentgroup\":\"True\",\"hovertemplate\":\"Category=energy<br>Impact Category=HTnc<br>Sensitivity Ratio [%]=%{x}<br>Exchange=%{y}<extra></extra>\",\"legendgroup\":\"energy\",\"marker\":{\"color\":\"#2CA02C\",\"pattern\":{\"shape\":\"\"}},\"name\":\"energy\",\"offsetgroup\":\"energy\",\"orientation\":\"h\",\"showlegend\":true,\"textposition\":\"auto\",\"type\":\"bar\",\"x\":[0.9781384534352063],\"xaxis\":\"x\",\"y\":[\"FROM:market for electricity, medium voltage, TO:baking banana bread\"],\"yaxis\":\"y\"}],\"name\":\"HTnc\"},{\"data\":[{\"alignmentgroup\":\"True\",\"hovertemplate\":\"Category=ingredients<br>Impact Category=PM<br>Sensitivity Ratio [%]=%{x}<br>Exchange=%{y}<extra></extra>\",\"legendgroup\":\"ingredients\",\"marker\":{\"color\":\"#1F77B4\",\"pattern\":{\"shape\":\"\"}},\"name\":\"ingredients\",\"offsetgroup\":\"ingredients\",\"orientation\":\"h\",\"showlegend\":true,\"textposition\":\"auto\",\"type\":\"bar\",\"x\":[5.149496867471923,17.696597733692553,7.411538097615029,21.50073092300011,4.254124344613856,37.60453348929578,0.3863142774679616,5.806534284346482e-05],\"xaxis\":\"x\",\"y\":[\"FROM:banana production, TO:baking banana bread\",\"FROM:coconut oil production, crude, TO:baking banana bread\",\"FROM:almond production, TO:baking banana bread\",\"FROM:market for wheat flour, TO:baking banana bread\",\"FROM:sugar beet production, TO:baking banana bread\",\"FROM:milk production, from cow, TO:baking banana bread\",\"FROM:ammonium carbonate production, TO:baking banana bread\",\"FROM:salt production from seawater, evaporation pond, TO:baking banana bread\"],\"yaxis\":\"y\"},{\"alignmentgroup\":\"True\",\"hovertemplate\":\"Category=transport<br>Impact Category=PM<br>Sensitivity Ratio [%]=%{x}<br>Exchange=%{y}<extra></extra>\",\"legendgroup\":\"transport\",\"marker\":{\"color\":\"#FF7F0E\",\"pattern\":{\"shape\":\"\"}},\"name\":\"transport\",\"offsetgroup\":\"transport\",\"orientation\":\"h\",\"showlegend\":true,\"textposition\":\"auto\",\"type\":\"bar\",\"x\":[0.9006106507831899,1.4917750427409515,0.19066894493656594],\"xaxis\":\"x\",\"y\":[\"FROM:transport, freight, sea, container ship, TO:baking banana bread\",\"FROM:transport, freight, aircraft, belly-freight, long haul, TO:baking banana bread\",\"FROM:market for transport, freight, lorry 16-32 metric ton, EURO5, TO:baking banana bread\"],\"yaxis\":\"y\"},{\"alignmentgroup\":\"True\",\"hovertemplate\":\"Category=energy<br>Impact Category=PM<br>Sensitivity Ratio [%]=%{x}<br>Exchange=%{y}<extra></extra>\",\"legendgroup\":\"energy\",\"marker\":{\"color\":\"#2CA02C\",\"pattern\":{\"shape\":\"\"}},\"name\":\"energy\",\"offsetgroup\":\"energy\",\"orientation\":\"h\",\"showlegend\":true,\"textposition\":\"auto\",\"type\":\"bar\",\"x\":[3.4135515631373945],\"xaxis\":\"x\",\"y\":[\"FROM:market for electricity, medium voltage, TO:baking banana bread\"],\"yaxis\":\"y\"}],\"name\":\"PM\"},{\"data\":[{\"alignmentgroup\":\"True\",\"hovertemplate\":\"Category=ingredients<br>Impact Category=IR<br>Sensitivity Ratio [%]=%{x}<br>Exchange=%{y}<extra></extra>\",\"legendgroup\":\"ingredients\",\"marker\":{\"color\":\"#1F77B4\",\"pattern\":{\"shape\":\"\"}},\"name\":\"ingredients\",\"offsetgroup\":\"ingredients\",\"orientation\":\"h\",\"showlegend\":true,\"textposition\":\"auto\",\"type\":\"bar\",\"x\":[2.042268538774106,6.112049037642708,3.2716981253993644,8.739032443429485,0.19391535392763198,12.306240942435009,0.2571769338436789,0.00011376458912795335],\"xaxis\":\"x\",\"y\":[\"FROM:banana production, TO:baking banana bread\",\"FROM:coconut oil production, crude, TO:baking banana bread\",\"FROM:almond production, TO:baking banana bread\",\"FROM:market for wheat flour, TO:baking banana bread\",\"FROM:sugar beet production, TO:baking banana bread\",\"FROM:milk production, from cow, TO:baking banana bread\",\"FROM:ammonium carbonate production, TO:baking banana bread\",\"FROM:salt production from seawater, evaporation pond, TO:baking banana bread\"],\"yaxis\":\"y\"},{\"alignmentgroup\":\"True\",\"hovertemplate\":\"Category=transport<br>Impact Category=IR<br>Sensitivity Ratio [%]=%{x}<br>Exchange=%{y}<extra></extra>\",\"legendgroup\":\"transport\",\"marker\":{\"color\":\"#FF7F0E\",\"pattern\":{\"shape\":\"\"}},\"name\":\"transport\",\"offsetgroup\":\"transport\",\"orientation\":\"h\",\"showlegend\":true,\"textposition\":\"auto\",\"type\":\"bar\",\"x\":[3.4487153405266993,20.351662069284217,0.38127374853850504],\"xaxis\":\"x\",\"y\":[\"FROM:transport, freight, sea, container ship, TO:baking banana bread\",\"FROM:transport, freight, aircraft, belly-freight, long haul, TO:baking banana bread\",\"FROM:market for transport, freight, lorry 16-32 metric ton, EURO5, TO:baking banana bread\"],\"yaxis\":\"y\"},{\"alignmentgroup\":\"True\",\"hovertemplate\":\"Category=energy<br>Impact Category=IR<br>Sensitivity Ratio [%]=%{x}<br>Exchange=%{y}<extra></extra>\",\"legendgroup\":\"energy\",\"marker\":{\"color\":\"#2CA02C\",\"pattern\":{\"shape\":\"\"}},\"name\":\"energy\",\"offsetgroup\":\"energy\",\"orientation\":\"h\",\"showlegend\":true,\"textposition\":\"auto\",\"type\":\"bar\",\"x\":[42.895853666073236],\"xaxis\":\"x\",\"y\":[\"FROM:market for electricity, medium voltage, TO:baking banana bread\"],\"yaxis\":\"y\"}],\"name\":\"IR\"},{\"data\":[{\"alignmentgroup\":\"True\",\"hovertemplate\":\"Category=ingredients<br>Impact Category=POF<br>Sensitivity Ratio [%]=%{x}<br>Exchange=%{y}<extra></extra>\",\"legendgroup\":\"ingredients\",\"marker\":{\"color\":\"#1F77B4\",\"pattern\":{\"shape\":\"\"}},\"name\":\"ingredients\",\"offsetgroup\":\"ingredients\",\"orientation\":\"h\",\"showlegend\":true,\"textposition\":\"auto\",\"type\":\"bar\",\"x\":[2.706575453423728,14.05805736946237,6.191053651751419,15.447679272466825,0.40940975971351196,16.737296385982013,0.3684340541024953,8.778684843066733e-05],\"xaxis\":\"x\",\"y\":[\"FROM:banana production, TO:baking banana bread\",\"FROM:coconut oil production, crude, TO:baking banana bread\",\"FROM:almond production, TO:baking banana bread\",\"FROM:market for wheat flour, TO:baking banana bread\",\"FROM:sugar beet production, TO:baking banana bread\",\"FROM:milk production, from cow, TO:baking banana bread\",\"FROM:ammonium carbonate production, TO:baking banana bread\",\"FROM:salt production from seawater, evaporation pond, TO:baking banana bread\"],\"yaxis\":\"y\"},{\"alignmentgroup\":\"True\",\"hovertemplate\":\"Category=transport<br>Impact Category=POF<br>Sensitivity Ratio [%]=%{x}<br>Exchange=%{y}<extra></extra>\",\"legendgroup\":\"transport\",\"marker\":{\"color\":\"#FF7F0E\",\"pattern\":{\"shape\":\"\"}},\"name\":\"transport\",\"offsetgroup\":\"transport\",\"orientation\":\"h\",\"showlegend\":true,\"textposition\":\"auto\",\"type\":\"bar\",\"x\":[13.794830607724135,17.730949844003582,0.22441766489438222],\"xaxis\":\"x\",\"y\":[\"FROM:transport, freight, sea, container ship, TO:baking banana bread\",\"FROM:transport, freight, aircraft, belly-freight, long haul, TO:baking banana bread\",\"FROM:market for transport, freight, lorry 16-32 metric ton, EURO5, TO:baking banana bread\"],\"yaxis\":\"y\"},{\"alignmentgroup\":\"True\",\"hovertemplate\":\"Category=energy<br>Impact Category=POF<br>Sensitivity Ratio [%]=%{x}<br>Exchange=%{y}<extra></extra>\",\"legendgroup\":\"energy\",\"marker\":{\"color\":\"#2CA02C\",\"pattern\":{\"shape\":\"\"}},\"name\":\"energy\",\"offsetgroup\":\"energy\",\"orientation\":\"h\",\"showlegend\":true,\"textposition\":\"auto\",\"type\":\"bar\",\"x\":[12.331208149749626],\"xaxis\":\"x\",\"y\":[\"FROM:market for electricity, medium voltage, TO:baking banana bread\"],\"yaxis\":\"y\"}],\"name\":\"POF\"},{\"data\":[{\"alignmentgroup\":\"True\",\"hovertemplate\":\"Category=ingredients<br>Impact Category=AC<br>Sensitivity Ratio [%]=%{x}<br>Exchange=%{y}<extra></extra>\",\"legendgroup\":\"ingredients\",\"marker\":{\"color\":\"#1F77B4\",\"pattern\":{\"shape\":\"\"}},\"name\":\"ingredients\",\"offsetgroup\":\"ingredients\",\"orientation\":\"h\",\"showlegend\":true,\"textposition\":\"auto\",\"type\":\"bar\",\"x\":[4.589531000278152,12.412472685536033,7.4182816684421375,19.682875917213117,3.92684083527004,33.12978029466901,0.25648707976298474,3.9821203198983244e-05],\"xaxis\":\"x\",\"y\":[\"FROM:banana production, TO:baking banana bread\",\"FROM:coconut oil production, crude, TO:baking banana bread\",\"FROM:almond production, TO:baking banana bread\",\"FROM:market for wheat flour, TO:baking banana bread\",\"FROM:sugar beet production, TO:baking banana bread\",\"FROM:milk production, from cow, TO:baking banana bread\",\"FROM:ammonium carbonate production, TO:baking banana bread\",\"FROM:salt production from seawater, evaporation pond, TO:baking banana bread\"],\"yaxis\":\"y\"},{\"alignmentgroup\":\"True\",\"hovertemplate\":\"Category=transport<br>Impact Category=AC<br>Sensitivity Ratio [%]=%{x}<br>Exchange=%{y}<extra></extra>\",\"legendgroup\":\"transport\",\"marker\":{\"color\":\"#FF7F0E\",\"pattern\":{\"shape\":\"\"}},\"name\":\"transport\",\"offsetgroup\":\"transport\",\"orientation\":\"h\",\"showlegend\":true,\"textposition\":\"auto\",\"type\":\"bar\",\"x\":[6.223921061915787,5.420807602961264,0.07015637203931703],\"xaxis\":\"x\",\"y\":[\"FROM:transport, freight, sea, container ship, TO:baking banana bread\",\"FROM:transport, freight, aircraft, belly-freight, long haul, TO:baking banana bread\",\"FROM:market for transport, freight, lorry 16-32 metric ton, EURO5, TO:baking banana bread\"],\"yaxis\":\"y\"},{\"alignmentgroup\":\"True\",\"hovertemplate\":\"Category=energy<br>Impact Category=AC<br>Sensitivity Ratio [%]=%{x}<br>Exchange=%{y}<extra></extra>\",\"legendgroup\":\"energy\",\"marker\":{\"color\":\"#2CA02C\",\"pattern\":{\"shape\":\"\"}},\"name\":\"energy\",\"offsetgroup\":\"energy\",\"orientation\":\"h\",\"showlegend\":true,\"textposition\":\"auto\",\"type\":\"bar\",\"x\":[6.868805660704562],\"xaxis\":\"x\",\"y\":[\"FROM:market for electricity, medium voltage, TO:baking banana bread\"],\"yaxis\":\"y\"}],\"name\":\"AC\"},{\"data\":[{\"alignmentgroup\":\"True\",\"hovertemplate\":\"Category=ingredients<br>Impact Category=TE<br>Sensitivity Ratio [%]=%{x}<br>Exchange=%{y}<extra></extra>\",\"legendgroup\":\"ingredients\",\"marker\":{\"color\":\"#1F77B4\",\"pattern\":{\"shape\":\"\"}},\"name\":\"ingredients\",\"offsetgroup\":\"ingredients\",\"orientation\":\"h\",\"showlegend\":true,\"textposition\":\"auto\",\"type\":\"bar\",\"x\":[4.885007537416832,12.933293735772363,7.621443058748242,20.911875606439132,4.401435957782659,35.14684884493409,0.16160450501805215,2.092164290368566e-05],\"xaxis\":\"x\",\"y\":[\"FROM:banana production, TO:baking banana bread\",\"FROM:coconut oil production, crude, TO:baking banana bread\",\"FROM:almond production, TO:baking banana bread\",\"FROM:market for wheat flour, TO:baking banana bread\",\"FROM:sugar beet production, TO:baking banana bread\",\"FROM:milk production, from cow, TO:baking banana bread\",\"FROM:ammonium carbonate production, TO:baking banana bread\",\"FROM:salt production from seawater, evaporation pond, TO:baking banana bread\"],\"yaxis\":\"y\"},{\"alignmentgroup\":\"True\",\"hovertemplate\":\"Category=transport<br>Impact Category=TE<br>Sensitivity Ratio [%]=%{x}<br>Exchange=%{y}<extra></extra>\",\"legendgroup\":\"transport\",\"marker\":{\"color\":\"#FF7F0E\",\"pattern\":{\"shape\":\"\"}},\"name\":\"transport\",\"offsetgroup\":\"transport\",\"orientation\":\"h\",\"showlegend\":true,\"textposition\":\"auto\",\"type\":\"bar\",\"x\":[4.295321590885667,5.561715173932546,0.05916251325258344],\"xaxis\":\"x\",\"y\":[\"FROM:transport, freight, sea, container ship, TO:baking banana bread\",\"FROM:transport, freight, aircraft, belly-freight, long haul, TO:baking banana bread\",\"FROM:market for transport, freight, lorry 16-32 metric ton, EURO5, TO:baking banana bread\"],\"yaxis\":\"y\"},{\"alignmentgroup\":\"True\",\"hovertemplate\":\"Category=energy<br>Impact Category=TE<br>Sensitivity Ratio [%]=%{x}<br>Exchange=%{y}<extra></extra>\",\"legendgroup\":\"energy\",\"marker\":{\"color\":\"#2CA02C\",\"pattern\":{\"shape\":\"\"}},\"name\":\"energy\",\"offsetgroup\":\"energy\",\"orientation\":\"h\",\"showlegend\":true,\"textposition\":\"auto\",\"type\":\"bar\",\"x\":[4.022270554131859],\"xaxis\":\"x\",\"y\":[\"FROM:market for electricity, medium voltage, TO:baking banana bread\"],\"yaxis\":\"y\"}],\"name\":\"TE\"},{\"data\":[{\"alignmentgroup\":\"True\",\"hovertemplate\":\"Category=ingredients<br>Impact Category=FE<br>Sensitivity Ratio [%]=%{x}<br>Exchange=%{y}<extra></extra>\",\"legendgroup\":\"ingredients\",\"marker\":{\"color\":\"#1F77B4\",\"pattern\":{\"shape\":\"\"}},\"name\":\"ingredients\",\"offsetgroup\":\"ingredients\",\"orientation\":\"h\",\"showlegend\":true,\"textposition\":\"auto\",\"type\":\"bar\",\"x\":[3.617287295515586,7.173957263112111,2.4713669258010205,38.47784296957688,0.11714288010460593,18.762799548826486,0.09826036866014017,2.7380449817478948e-05],\"xaxis\":\"x\",\"y\":[\"FROM:banana production, TO:baking banana bread\",\"FROM:coconut oil production, crude, TO:baking banana bread\",\"FROM:almond production, TO:baking banana bread\",\"FROM:market for wheat flour, TO:baking banana bread\",\"FROM:sugar beet production, TO:baking banana bread\",\"FROM:milk production, from cow, TO:baking banana bread\",\"FROM:ammonium carbonate production, TO:baking banana bread\",\"FROM:salt production from seawater, evaporation pond, TO:baking banana bread\"],\"yaxis\":\"y\"},{\"alignmentgroup\":\"True\",\"hovertemplate\":\"Category=transport<br>Impact Category=FE<br>Sensitivity Ratio [%]=%{x}<br>Exchange=%{y}<extra></extra>\",\"legendgroup\":\"transport\",\"marker\":{\"color\":\"#FF7F0E\",\"pattern\":{\"shape\":\"\"}},\"name\":\"transport\",\"offsetgroup\":\"transport\",\"orientation\":\"h\",\"showlegend\":true,\"textposition\":\"auto\",\"type\":\"bar\",\"x\":[0.04074089600783587,0.09059324352226765,0.007668095475746043],\"xaxis\":\"x\",\"y\":[\"FROM:transport, freight, sea, container ship, TO:baking banana bread\",\"FROM:transport, freight, aircraft, belly-freight, long haul, TO:baking banana bread\",\"FROM:market for transport, freight, lorry 16-32 metric ton, EURO5, TO:baking banana bread\"],\"yaxis\":\"y\"},{\"alignmentgroup\":\"True\",\"hovertemplate\":\"Category=energy<br>Impact Category=FE<br>Sensitivity Ratio [%]=%{x}<br>Exchange=%{y}<extra></extra>\",\"legendgroup\":\"energy\",\"marker\":{\"color\":\"#2CA02C\",\"pattern\":{\"shape\":\"\"}},\"name\":\"energy\",\"offsetgroup\":\"energy\",\"orientation\":\"h\",\"showlegend\":true,\"textposition\":\"auto\",\"type\":\"bar\",\"x\":[29.142313132789926],\"xaxis\":\"x\",\"y\":[\"FROM:market for electricity, medium voltage, TO:baking banana bread\"],\"yaxis\":\"y\"}],\"name\":\"FE\"},{\"data\":[{\"alignmentgroup\":\"True\",\"hovertemplate\":\"Category=ingredients<br>Impact Category=ME<br>Sensitivity Ratio [%]=%{x}<br>Exchange=%{y}<extra></extra>\",\"legendgroup\":\"ingredients\",\"marker\":{\"color\":\"#1F77B4\",\"pattern\":{\"shape\":\"\"}},\"name\":\"ingredients\",\"offsetgroup\":\"ingredients\",\"orientation\":\"h\",\"showlegend\":true,\"textposition\":\"auto\",\"type\":\"bar\",\"x\":[8.916887741343645,26.500256785413477,5.993813019285855,22.87430938187405,0.7391498125024486,25.483249789885303,0.4422378469583317,1.4405809835968223e-05],\"xaxis\":\"x\",\"y\":[\"FROM:banana production, TO:baking banana bread\",\"FROM:coconut oil production, crude, TO:baking banana bread\",\"FROM:almond production, TO:baking banana bread\",\"FROM:market for wheat flour, TO:baking banana bread\",\"FROM:sugar beet production, TO:baking banana bread\",\"FROM:milk production, from cow, TO:baking banana bread\",\"FROM:ammonium carbonate production, TO:baking banana bread\",\"FROM:salt production from seawater, evaporation pond, TO:baking banana bread\"],\"yaxis\":\"y\"},{\"alignmentgroup\":\"True\",\"hovertemplate\":\"Category=transport<br>Impact Category=ME<br>Sensitivity Ratio [%]=%{x}<br>Exchange=%{y}<extra></extra>\",\"legendgroup\":\"transport\",\"marker\":{\"color\":\"#FF7F0E\",\"pattern\":{\"shape\":\"\"}},\"name\":\"transport\",\"offsetgroup\":\"transport\",\"orientation\":\"h\",\"showlegend\":true,\"textposition\":\"auto\",\"type\":\"bar\",\"x\":[2.85373542591783,3.7486770455355063,0.03966378584017992],\"xaxis\":\"x\",\"y\":[\"FROM:transport, freight, sea, container ship, TO:baking banana bread\",\"FROM:transport, freight, aircraft, belly-freight, long haul, TO:baking banana bread\",\"FROM:market for transport, freight, lorry 16-32 metric ton, EURO5, TO:baking banana bread\"],\"yaxis\":\"y\"},{\"alignmentgroup\":\"True\",\"hovertemplate\":\"Category=energy<br>Impact Category=ME<br>Sensitivity Ratio [%]=%{x}<br>Exchange=%{y}<extra></extra>\",\"legendgroup\":\"energy\",\"marker\":{\"color\":\"#2CA02C\",\"pattern\":{\"shape\":\"\"}},\"name\":\"energy\",\"offsetgroup\":\"energy\",\"orientation\":\"h\",\"showlegend\":true,\"textposition\":\"auto\",\"type\":\"bar\",\"x\":[2.4080049595716186],\"xaxis\":\"x\",\"y\":[\"FROM:market for electricity, medium voltage, TO:baking banana bread\"],\"yaxis\":\"y\"}],\"name\":\"ME\"},{\"data\":[{\"alignmentgroup\":\"True\",\"hovertemplate\":\"Category=ingredients<br>Impact Category=ET<br>Sensitivity Ratio [%]=%{x}<br>Exchange=%{y}<extra></extra>\",\"legendgroup\":\"ingredients\",\"marker\":{\"color\":\"#1F77B4\",\"pattern\":{\"shape\":\"\"}},\"name\":\"ingredients\",\"offsetgroup\":\"ingredients\",\"orientation\":\"h\",\"showlegend\":true,\"textposition\":\"auto\",\"type\":\"bar\",\"x\":[0.34443804484741775,41.22262431391458,42.75761214730428,4.335858492811269,0.08290923327829663,9.507444065952706,0.04279241625963681,4.484516315841261e-05],\"xaxis\":\"x\",\"y\":[\"FROM:banana production, TO:baking banana bread\",\"FROM:coconut oil production, crude, TO:baking banana bread\",\"FROM:almond production, TO:baking banana bread\",\"FROM:market for wheat flour, TO:baking banana bread\",\"FROM:sugar beet production, TO:baking banana bread\",\"FROM:milk production, from cow, TO:baking banana bread\",\"FROM:ammonium carbonate production, TO:baking banana bread\",\"FROM:salt production from seawater, evaporation pond, TO:baking banana bread\"],\"yaxis\":\"y\"},{\"alignmentgroup\":\"True\",\"hovertemplate\":\"Category=transport<br>Impact Category=ET<br>Sensitivity Ratio [%]=%{x}<br>Exchange=%{y}<extra></extra>\",\"legendgroup\":\"transport\",\"marker\":{\"color\":\"#FF7F0E\",\"pattern\":{\"shape\":\"\"}},\"name\":\"transport\",\"offsetgroup\":\"transport\",\"orientation\":\"h\",\"showlegend\":true,\"textposition\":\"auto\",\"type\":\"bar\",\"x\":[0.1403524183893011,0.34767894645359576,0.07042001668782008],\"xaxis\":\"x\",\"y\":[\"FROM:transport, freight, sea, container ship, TO:baking banana bread\",\"FROM:transport, freight, aircraft, belly-freight, long haul, TO:baking banana bread\",\"FROM:market for transport, freight, lorry 16-32 metric ton, EURO5, TO:baking banana bread\"],\"yaxis\":\"y\"},{\"alignmentgroup\":\"True\",\"hovertemplate\":\"Category=energy<br>Impact Category=ET<br>Sensitivity Ratio [%]=%{x}<br>Exchange=%{y}<extra></extra>\",\"legendgroup\":\"energy\",\"marker\":{\"color\":\"#2CA02C\",\"pattern\":{\"shape\":\"\"}},\"name\":\"energy\",\"offsetgroup\":\"energy\",\"orientation\":\"h\",\"showlegend\":true,\"textposition\":\"auto\",\"type\":\"bar\",\"x\":[1.1478250588914254],\"xaxis\":\"x\",\"y\":[\"FROM:market for electricity, medium voltage, TO:baking banana bread\"],\"yaxis\":\"y\"}],\"name\":\"ET\"},{\"data\":[{\"alignmentgroup\":\"True\",\"hovertemplate\":\"Category=ingredients<br>Impact Category=LU<br>Sensitivity Ratio [%]=%{x}<br>Exchange=%{y}<extra></extra>\",\"legendgroup\":\"ingredients\",\"marker\":{\"color\":\"#1F77B4\",\"pattern\":{\"shape\":\"\"}},\"name\":\"ingredients\",\"offsetgroup\":\"ingredients\",\"orientation\":\"h\",\"showlegend\":true,\"textposition\":\"auto\",\"type\":\"bar\",\"x\":[2.7195493381592972,8.733255726844796,3.9745871846320293,19.024105641672552,0.12765389320570045,64.98101150327517,0.008302165063011673,1.2821162744566426e-06],\"xaxis\":\"x\",\"y\":[\"FROM:banana production, TO:baking banana bread\",\"FROM:coconut oil production, crude, TO:baking banana bread\",\"FROM:almond production, TO:baking banana bread\",\"FROM:market for wheat flour, TO:baking banana bread\",\"FROM:sugar beet production, TO:baking banana bread\",\"FROM:milk production, from cow, TO:baking banana bread\",\"FROM:ammonium carbonate production, TO:baking banana bread\",\"FROM:salt production from seawater, evaporation pond, TO:baking banana bread\"],\"yaxis\":\"y\"},{\"alignmentgroup\":\"True\",\"hovertemplate\":\"Category=transport<br>Impact Category=LU<br>Sensitivity Ratio [%]=%{x}<br>Exchange=%{y}<extra></extra>\",\"legendgroup\":\"transport\",\"marker\":{\"color\":\"#FF7F0E\",\"pattern\":{\"shape\":\"\"}},\"name\":\"transport\",\"offsetgroup\":\"transport\",\"orientation\":\"h\",\"showlegend\":true,\"textposition\":\"auto\",\"type\":\"bar\",\"x\":[0.0062365914829240615,0.020992108499196676,0.008922494122168903],\"xaxis\":\"x\",\"y\":[\"FROM:transport, freight, sea, container ship, TO:baking banana bread\",\"FROM:transport, freight, aircraft, belly-freight, long haul, TO:baking banana bread\",\"FROM:market for transport, freight, lorry 16-32 metric ton, EURO5, TO:baking banana bread\"],\"yaxis\":\"y\"},{\"alignmentgroup\":\"True\",\"hovertemplate\":\"Category=energy<br>Impact Category=LU<br>Sensitivity Ratio [%]=%{x}<br>Exchange=%{y}<extra></extra>\",\"legendgroup\":\"energy\",\"marker\":{\"color\":\"#2CA02C\",\"pattern\":{\"shape\":\"\"}},\"name\":\"energy\",\"offsetgroup\":\"energy\",\"orientation\":\"h\",\"showlegend\":true,\"textposition\":\"auto\",\"type\":\"bar\",\"x\":[0.3953820709323788],\"xaxis\":\"x\",\"y\":[\"FROM:market for electricity, medium voltage, TO:baking banana bread\"],\"yaxis\":\"y\"}],\"name\":\"LU\"},{\"data\":[{\"alignmentgroup\":\"True\",\"hovertemplate\":\"Category=ingredients<br>Impact Category=RDw<br>Sensitivity Ratio [%]=%{x}<br>Exchange=%{y}<extra></extra>\",\"legendgroup\":\"ingredients\",\"marker\":{\"color\":\"#1F77B4\",\"pattern\":{\"shape\":\"\"}},\"name\":\"ingredients\",\"offsetgroup\":\"ingredients\",\"orientation\":\"h\",\"showlegend\":true,\"textposition\":\"auto\",\"type\":\"bar\",\"x\":[17.84067858236541,8.968580827366903,30.382236390650764,15.855248563450289,0.052877288421988314,3.736897890679569,0.04739320782362981,22.500623043910483],\"xaxis\":\"x\",\"y\":[\"FROM:banana production, TO:baking banana bread\",\"FROM:coconut oil production, crude, TO:baking banana bread\",\"FROM:almond production, TO:baking banana bread\",\"FROM:market for wheat flour, TO:baking banana bread\",\"FROM:sugar beet production, TO:baking banana bread\",\"FROM:milk production, from cow, TO:baking banana bread\",\"FROM:ammonium carbonate production, TO:baking banana bread\",\"FROM:salt production from seawater, evaporation pond, TO:baking banana bread\"],\"yaxis\":\"y\"},{\"alignmentgroup\":\"True\",\"hovertemplate\":\"Category=transport<br>Impact Category=RDw<br>Sensitivity Ratio [%]=%{x}<br>Exchange=%{y}<extra></extra>\",\"legendgroup\":\"transport\",\"marker\":{\"color\":\"#FF7F0E\",\"pattern\":{\"shape\":\"\"}},\"name\":\"transport\",\"offsetgroup\":\"transport\",\"orientation\":\"h\",\"showlegend\":true,\"textposition\":\"auto\",\"type\":\"bar\",\"x\":[0.008130351346645305,0.023242406078283293,0.001368893418328866],\"xaxis\":\"x\",\"y\":[\"FROM:transport, freight, sea, container ship, TO:baking banana bread\",\"FROM:transport, freight, aircraft, belly-freight, long haul, TO:baking banana bread\",\"FROM:market for transport, freight, lorry 16-32 metric ton, EURO5, TO:baking banana bread\"],\"yaxis\":\"y\"},{\"alignmentgroup\":\"True\",\"hovertemplate\":\"Category=energy<br>Impact Category=RDw<br>Sensitivity Ratio [%]=%{x}<br>Exchange=%{y}<extra></extra>\",\"legendgroup\":\"energy\",\"marker\":{\"color\":\"#2CA02C\",\"pattern\":{\"shape\":\"\"}},\"name\":\"energy\",\"offsetgroup\":\"energy\",\"orientation\":\"h\",\"showlegend\":true,\"textposition\":\"auto\",\"type\":\"bar\",\"x\":[0.5827225544787484],\"xaxis\":\"x\",\"y\":[\"FROM:market for electricity, medium voltage, TO:baking banana bread\"],\"yaxis\":\"y\"}],\"name\":\"RDw\"},{\"data\":[{\"alignmentgroup\":\"True\",\"hovertemplate\":\"Category=ingredients<br>Impact Category=RDm<br>Sensitivity Ratio [%]=%{x}<br>Exchange=%{y}<extra></extra>\",\"legendgroup\":\"ingredients\",\"marker\":{\"color\":\"#1F77B4\",\"pattern\":{\"shape\":\"\"}},\"name\":\"ingredients\",\"offsetgroup\":\"ingredients\",\"orientation\":\"h\",\"showlegend\":true,\"textposition\":\"auto\",\"type\":\"bar\",\"x\":[5.129387575719033,18.64554716636853,12.736094437299519,21.378442539681803,0.4035797017354935,27.507082259815597,1.3364600051887483,0.0001692833844244673],\"xaxis\":\"x\",\"y\":[\"FROM:banana production, TO:baking banana bread\",\"FROM:coconut oil production, crude, TO:baking banana bread\",\"FROM:almond production, TO:baking banana bread\",\"FROM:market for wheat flour, TO:baking banana bread\",\"FROM:sugar beet production, TO:baking banana bread\",\"FROM:milk production, from cow, TO:baking banana bread\",\"FROM:ammonium carbonate production, TO:baking banana bread\",\"FROM:salt production from seawater, evaporation pond, TO:baking banana bread\"],\"yaxis\":\"y\"},{\"alignmentgroup\":\"True\",\"hovertemplate\":\"Category=transport<br>Impact Category=RDm<br>Sensitivity Ratio [%]=%{x}<br>Exchange=%{y}<extra></extra>\",\"legendgroup\":\"transport\",\"marker\":{\"color\":\"#FF7F0E\",\"pattern\":{\"shape\":\"\"}},\"name\":\"transport\",\"offsetgroup\":\"transport\",\"orientation\":\"h\",\"showlegend\":true,\"textposition\":\"auto\",\"type\":\"bar\",\"x\":[0.4788053810629205,0.42903106821624265,0.12022492296565232],\"xaxis\":\"x\",\"y\":[\"FROM:transport, freight, sea, container ship, TO:baking banana bread\",\"FROM:transport, freight, aircraft, belly-freight, long haul, TO:baking banana bread\",\"FROM:market for transport, freight, lorry 16-32 metric ton, EURO5, TO:baking banana bread\"],\"yaxis\":\"y\"},{\"alignmentgroup\":\"True\",\"hovertemplate\":\"Category=energy<br>Impact Category=RDm<br>Sensitivity Ratio [%]=%{x}<br>Exchange=%{y}<extra></extra>\",\"legendgroup\":\"energy\",\"marker\":{\"color\":\"#2CA02C\",\"pattern\":{\"shape\":\"\"}},\"name\":\"energy\",\"offsetgroup\":\"energy\",\"orientation\":\"h\",\"showlegend\":true,\"textposition\":\"auto\",\"type\":\"bar\",\"x\":[11.835175657691646],\"xaxis\":\"x\",\"y\":[\"FROM:market for electricity, medium voltage, TO:baking banana bread\"],\"yaxis\":\"y\"}],\"name\":\"RDm\"},{\"data\":[{\"alignmentgroup\":\"True\",\"hovertemplate\":\"Category=ingredients<br>Impact Category=RDf<br>Sensitivity Ratio [%]=%{x}<br>Exchange=%{y}<extra></extra>\",\"legendgroup\":\"ingredients\",\"marker\":{\"color\":\"#1F77B4\",\"pattern\":{\"shape\":\"\"}},\"name\":\"ingredients\",\"offsetgroup\":\"ingredients\",\"orientation\":\"h\",\"showlegend\":true,\"textposition\":\"auto\",\"type\":\"bar\",\"x\":[2.076948997398955,6.266038453363421,4.015208642450733,9.211691430255843,0.20891261455828783,11.800494914733195,0.7068532135276159,0.0001289992196119854],\"xaxis\":\"x\",\"y\":[\"FROM:banana production, TO:baking banana bread\",\"FROM:coconut oil production, crude, TO:baking banana bread\",\"FROM:almond production, TO:baking banana bread\",\"FROM:market for wheat flour, TO:baking banana bread\",\"FROM:sugar beet production, TO:baking banana bread\",\"FROM:milk production, from cow, TO:baking banana bread\",\"FROM:ammonium carbonate production, TO:baking banana bread\",\"FROM:salt production from seawater, evaporation pond, TO:baking banana bread\"],\"yaxis\":\"y\"},{\"alignmentgroup\":\"True\",\"hovertemplate\":\"Category=transport<br>Impact Category=RDf<br>Sensitivity Ratio [%]=%{x}<br>Exchange=%{y}<extra></extra>\",\"legendgroup\":\"transport\",\"marker\":{\"color\":\"#FF7F0E\",\"pattern\":{\"shape\":\"\"}},\"name\":\"transport\",\"offsetgroup\":\"transport\",\"orientation\":\"h\",\"showlegend\":true,\"textposition\":\"auto\",\"type\":\"bar\",\"x\":[2.3201331263936873,13.372295517248922,0.25363737872579917],\"xaxis\":\"x\",\"y\":[\"FROM:transport, freight, sea, container ship, TO:baking banana bread\",\"FROM:transport, freight, aircraft, belly-freight, long haul, TO:baking banana bread\",\"FROM:market for transport, freight, lorry 16-32 metric ton, EURO5, TO:baking banana bread\"],\"yaxis\":\"y\"},{\"alignmentgroup\":\"True\",\"hovertemplate\":\"Category=energy<br>Impact Category=RDf<br>Sensitivity Ratio [%]=%{x}<br>Exchange=%{y}<extra></extra>\",\"legendgroup\":\"energy\",\"marker\":{\"color\":\"#2CA02C\",\"pattern\":{\"shape\":\"\"}},\"name\":\"energy\",\"offsetgroup\":\"energy\",\"orientation\":\"h\",\"showlegend\":true,\"textposition\":\"auto\",\"type\":\"bar\",\"x\":[49.767656712144024],\"xaxis\":\"x\",\"y\":[\"FROM:market for electricity, medium voltage, TO:baking banana bread\"],\"yaxis\":\"y\"}],\"name\":\"RDf\"}]);\n",
       "                        }).then(function(){\n",
       "                            \n",
       "var gd = document.getElementById('e609edba-7ced-479f-8386-0a95d3cb32e4');\n",
       "var x = new MutationObserver(function (mutations, observer) {{\n",
       "        var display = window.getComputedStyle(gd).display;\n",
       "        if (!display || display === 'none') {{\n",
       "            console.log([gd, 'removed!']);\n",
       "            Plotly.purge(gd);\n",
       "            observer.disconnect();\n",
       "        }}\n",
       "}});\n",
       "\n",
       "// Listen for the removal of the full notebook cells\n",
       "var notebookContainer = gd.closest('#notebook-container');\n",
       "if (notebookContainer) {{\n",
       "    x.observe(notebookContainer, {childList: true});\n",
       "}}\n",
       "\n",
       "// Listen for the clearing of the current output cell\n",
       "var outputEl = gd.closest('.output');\n",
       "if (outputEl) {{\n",
       "    x.observe(outputEl, {childList: true});\n",
       "}}\n",
       "\n",
       "                        })                };                });            </script>        </div>"
      ]
     },
     "metadata": {},
     "output_type": "display_data"
    }
   ],
   "source": [
    "pa.plot_sensitivity_ratios_plotly(sensitivity_ratio_df, LCIA_method_names)"
   ]
  },
  {
   "cell_type": "markdown",
   "id": "405a31e0",
   "metadata": {},
   "source": [
    "## 4. Extended Case Study"
   ]
  },
  {
   "cell_type": "markdown",
   "id": "e0ff6eed",
   "metadata": {},
   "source": [
    "### 4.1 Select parameters to be considered in the perturbation analysis"
   ]
  },
  {
   "attachments": {
    "Step1.png": {
     "image/png": "[encoded data removed]"
    }
   },
   "cell_type": "markdown",
   "id": "c9b7a828",
   "metadata": {},
   "source": [
    "![Step1.png](attachment:Step1.png)"
   ]
  },
  {
   "cell_type": "markdown",
   "id": "68bb2fdf",
   "metadata": {},
   "source": [
    "The function *select_parameters_by_supply_chain_level* is applied in case exchanges that are part of a defined level of the supply chain shall be considered in the perturbation analysis. "
   ]
  },
  {
   "cell_type": "markdown",
   "id": "7b9c0309",
   "metadata": {},
   "source": [
    "* **arguments:**  \n",
    "   * activity_list: activity\n",
    "   * max_level: maximum level of supply chain to be considered\n",
    "       \n",
    "* **returns:** list of all exchanges of the activities that are part of the selected section of the supply chain"
   ]
  },
  {
   "attachments": {
    "SupplyChainLevels.png": {
     "image/png": "[encoded data removed]"
    }
   },
   "cell_type": "markdown",
   "id": "3e555bef",
   "metadata": {},
   "source": [
    "![SupplyChainLevels.png](attachment:SupplyChainLevels.png)"
   ]
  },
  {
   "cell_type": "code",
   "execution_count": 38,
   "id": "0866846e",
   "metadata": {},
   "outputs": [
    {
     "data": {
      "text/plain": [
       "12"
      ]
     },
     "execution_count": 38,
     "metadata": {},
     "output_type": "execute_result"
    }
   ],
   "source": [
    "param_list_2=pa.select_parameters_by_supply_chain_level(baking_banana_bread,max_level=1)\n",
    "len(param_list_2)"
   ]
  },
  {
   "cell_type": "code",
   "execution_count": 39,
   "id": "ebcc33a7",
   "metadata": {},
   "outputs": [
    {
     "data": {
      "text/plain": [
       "823"
      ]
     },
     "execution_count": 39,
     "metadata": {},
     "output_type": "execute_result"
    }
   ],
   "source": [
    "param_list_2=pa.select_parameters_by_supply_chain_level(baking_banana_bread,max_level=2)\n",
    "len(param_list_2)"
   ]
  },
  {
   "cell_type": "markdown",
   "id": "a9f46048",
   "metadata": {},
   "source": [
    "### 4.2 Prepare Input Data"
   ]
  },
  {
   "attachments": {
    "Step2.png": {
     "image/png": "[encoded data removed]"
    }
   },
   "cell_type": "markdown",
   "id": "796f454b",
   "metadata": {},
   "source": [
    "![Step2.png](attachment:Step2.png)"
   ]
  },
  {
   "cell_type": "markdown",
   "id": "7e010b75",
   "metadata": {},
   "source": [
    "#### 4.2.1 Check for duplicates"
   ]
  },
  {
   "cell_type": "markdown",
   "id": "e13d89f9",
   "metadata": {},
   "source": [
    "The parameter list must not contain duplicates in terms of exchanges with identical input and output activies that can only be distinguished by the amount. Duplicates have to be removed from the list. This can either be done by condensing these exchanges or by excluding them from the perturbation analysis. "
   ]
  },
  {
   "cell_type": "code",
   "execution_count": 40,
   "id": "120f7941",
   "metadata": {},
   "outputs": [],
   "source": [
    "pa.check_for_duplicates(param_list_2) #prints duplicates if existing"
   ]
  },
  {
   "cell_type": "markdown",
   "id": "440a7ebf",
   "metadata": {},
   "source": [
    "#### 4.2.2 Check for loops"
   ]
  },
  {
   "cell_type": "code",
   "execution_count": 41,
   "id": "7d009b81",
   "metadata": {},
   "outputs": [
    {
     "name": "stdout",
     "output_type": "stream",
     "text": [
      "Exchange: 0.00265815405366773 kilowatt hour 'market for electricity, medium voltage' (kilowatt hour, DE, None) to 'market for electricity, medium voltage' (kilowatt hour, DE, None)>\n"
     ]
    }
   ],
   "source": [
    "# prints exchanges starting and ending at the same activity\n",
    "# if remove == True: exchanges starting and ending at the same activity are removed from the parameter list\n",
    "param_list_2=pa.check_for_loops(param_list_2, remove=True) "
   ]
  },
  {
   "cell_type": "markdown",
   "id": "dcc4525d",
   "metadata": {},
   "source": [
    "#### 4.2.3 Check for zeros"
   ]
  },
  {
   "cell_type": "code",
   "execution_count": 42,
   "id": "fb14ea2d",
   "metadata": {},
   "outputs": [],
   "source": [
    "# prints exchanges with default amount = 0\n",
    "# if remove == True: exchanges with default amount = 0 are removed from the parameter list\n",
    "param_list_2=pa.check_for_zeros(param_list_2, remove=True) "
   ]
  },
  {
   "cell_type": "markdown",
   "id": "edd7d3d7",
   "metadata": {},
   "source": [
    "#### 4.2.4 Prepare DataFrame"
   ]
  },
  {
   "cell_type": "markdown",
   "id": "1d3c25fd",
   "metadata": {},
   "source": [
    "*parameters_to_dataframe* creates a DataFrame that will be used as an input for performing the perturbation analysis. The exchanges considered in the DataFrame can be categorized by key words in activity names or exchange input names, by exchange types or by exchange input locations."
   ]
  },
  {
   "cell_type": "markdown",
   "id": "2cb96ed6",
   "metadata": {},
   "source": [
    "* **arguments:**  \n",
    "   * parameter_list: list of exchanges to be considered\n",
    "   * category_type: None, \"activity\", \"input\", \"location\" or \"type\" (default: None)\n",
    "   * category_dict: A dictionary assigning categories (values) to key words (keys). Needs to be defined in case *category_type* is \"activity\", \"input\" or \"location\". (default: None)\n",
    "       \n",
    "* **returns:** list of all exchanges of the activities included in the activity list matching the given exchange type"
   ]
  },
  {
   "cell_type": "code",
   "execution_count": 43,
   "id": "172734fb",
   "metadata": {},
   "outputs": [
    {
     "data": {
      "text/html": [
       "<div>\n",
       "<style scoped>\n",
       "    .dataframe tbody tr th:only-of-type {\n",
       "        vertical-align: middle;\n",
       "    }\n",
       "\n",
       "    .dataframe tbody tr th {\n",
       "        vertical-align: top;\n",
       "    }\n",
       "\n",
       "    .dataframe thead th {\n",
       "        text-align: right;\n",
       "    }\n",
       "</style>\n",
       "<table border=\"1\" class=\"dataframe\">\n",
       "  <thead>\n",
       "    <tr style=\"text-align: right;\">\n",
       "      <th></th>\n",
       "      <th>from</th>\n",
       "      <th>from - code</th>\n",
       "      <th>from - location</th>\n",
       "      <th>to</th>\n",
       "      <th>to - code</th>\n",
       "      <th>type</th>\n",
       "      <th>category</th>\n",
       "      <th>default amount</th>\n",
       "      <th>run0</th>\n",
       "      <th>run1</th>\n",
       "      <th>...</th>\n",
       "      <th>run812</th>\n",
       "      <th>run813</th>\n",
       "      <th>run814</th>\n",
       "      <th>run815</th>\n",
       "      <th>run816</th>\n",
       "      <th>run817</th>\n",
       "      <th>run818</th>\n",
       "      <th>run819</th>\n",
       "      <th>run820</th>\n",
       "      <th>run821</th>\n",
       "    </tr>\n",
       "  </thead>\n",
       "  <tbody>\n",
       "    <tr>\n",
       "      <th>0</th>\n",
       "      <td>banana production</td>\n",
       "      <td>92e64f27d7f015e878d4ef2976742738</td>\n",
       "      <td>RoW</td>\n",
       "      <td>baking banana bread</td>\n",
       "      <td>bakingbananabread</td>\n",
       "      <td>technosphere</td>\n",
       "      <td>others</td>\n",
       "      <td>4.000000e-01</td>\n",
       "      <td>4.040000e-01</td>\n",
       "      <td>4.000000e-01</td>\n",
       "      <td>...</td>\n",
       "      <td>4.000000e-01</td>\n",
       "      <td>4.000000e-01</td>\n",
       "      <td>4.000000e-01</td>\n",
       "      <td>4.000000e-01</td>\n",
       "      <td>4.000000e-01</td>\n",
       "      <td>4.000000e-01</td>\n",
       "      <td>4.000000e-01</td>\n",
       "      <td>4.000000e-01</td>\n",
       "      <td>4.000000e-01</td>\n",
       "      <td>4.000000e-01</td>\n",
       "    </tr>\n",
       "    <tr>\n",
       "      <th>1</th>\n",
       "      <td>market for poultry manure, dried</td>\n",
       "      <td>4887ac7b45b04f1f2f259bd1adb70f63</td>\n",
       "      <td>GLO</td>\n",
       "      <td>banana production</td>\n",
       "      <td>92e64f27d7f015e878d4ef2976742738</td>\n",
       "      <td>technosphere</td>\n",
       "      <td>others</td>\n",
       "      <td>1.630239e-03</td>\n",
       "      <td>1.630239e-03</td>\n",
       "      <td>1.646542e-03</td>\n",
       "      <td>...</td>\n",
       "      <td>1.630239e-03</td>\n",
       "      <td>1.630239e-03</td>\n",
       "      <td>1.630239e-03</td>\n",
       "      <td>1.630239e-03</td>\n",
       "      <td>1.630239e-03</td>\n",
       "      <td>1.630239e-03</td>\n",
       "      <td>1.630239e-03</td>\n",
       "      <td>1.630239e-03</td>\n",
       "      <td>1.630239e-03</td>\n",
       "      <td>1.630239e-03</td>\n",
       "    </tr>\n",
       "    <tr>\n",
       "      <th>2</th>\n",
       "      <td>market for diesel, burned in agricultural mach...</td>\n",
       "      <td>227b698bdbe0cfd3f0230d7315df273f</td>\n",
       "      <td>GLO</td>\n",
       "      <td>banana production</td>\n",
       "      <td>92e64f27d7f015e878d4ef2976742738</td>\n",
       "      <td>technosphere</td>\n",
       "      <td>others</td>\n",
       "      <td>2.859762e-02</td>\n",
       "      <td>2.859762e-02</td>\n",
       "      <td>2.859762e-02</td>\n",
       "      <td>...</td>\n",
       "      <td>2.859762e-02</td>\n",
       "      <td>2.859762e-02</td>\n",
       "      <td>2.859762e-02</td>\n",
       "      <td>2.859762e-02</td>\n",
       "      <td>2.859762e-02</td>\n",
       "      <td>2.859762e-02</td>\n",
       "      <td>2.859762e-02</td>\n",
       "      <td>2.859762e-02</td>\n",
       "      <td>2.859762e-02</td>\n",
       "      <td>2.859762e-02</td>\n",
       "    </tr>\n",
       "    <tr>\n",
       "      <th>3</th>\n",
       "      <td>market for potassium sulfate</td>\n",
       "      <td>f84d5bbc788f3f2d8e505a5d77464172</td>\n",
       "      <td>RER</td>\n",
       "      <td>banana production</td>\n",
       "      <td>92e64f27d7f015e878d4ef2976742738</td>\n",
       "      <td>technosphere</td>\n",
       "      <td>others</td>\n",
       "      <td>1.085049e-03</td>\n",
       "      <td>1.085049e-03</td>\n",
       "      <td>1.085049e-03</td>\n",
       "      <td>...</td>\n",
       "      <td>1.085049e-03</td>\n",
       "      <td>1.085049e-03</td>\n",
       "      <td>1.085049e-03</td>\n",
       "      <td>1.085049e-03</td>\n",
       "      <td>1.085049e-03</td>\n",
       "      <td>1.085049e-03</td>\n",
       "      <td>1.085049e-03</td>\n",
       "      <td>1.085049e-03</td>\n",
       "      <td>1.085049e-03</td>\n",
       "      <td>1.085049e-03</td>\n",
       "    </tr>\n",
       "    <tr>\n",
       "      <th>4</th>\n",
       "      <td>market for application of plant protection pro...</td>\n",
       "      <td>82e699bad21c2bc5ab1b0851349dae35</td>\n",
       "      <td>GLO</td>\n",
       "      <td>banana production</td>\n",
       "      <td>92e64f27d7f015e878d4ef2976742738</td>\n",
       "      <td>technosphere</td>\n",
       "      <td>others</td>\n",
       "      <td>1.202709e-04</td>\n",
       "      <td>1.202709e-04</td>\n",
       "      <td>1.202709e-04</td>\n",
       "      <td>...</td>\n",
       "      <td>1.202709e-04</td>\n",
       "      <td>1.202709e-04</td>\n",
       "      <td>1.202709e-04</td>\n",
       "      <td>1.202709e-04</td>\n",
       "      <td>1.202709e-04</td>\n",
       "      <td>1.202709e-04</td>\n",
       "      <td>1.202709e-04</td>\n",
       "      <td>1.202709e-04</td>\n",
       "      <td>1.202709e-04</td>\n",
       "      <td>1.202709e-04</td>\n",
       "    </tr>\n",
       "    <tr>\n",
       "      <th>...</th>\n",
       "      <td>...</td>\n",
       "      <td>...</td>\n",
       "      <td>...</td>\n",
       "      <td>...</td>\n",
       "      <td>...</td>\n",
       "      <td>...</td>\n",
       "      <td>...</td>\n",
       "      <td>...</td>\n",
       "      <td>...</td>\n",
       "      <td>...</td>\n",
       "      <td>...</td>\n",
       "      <td>...</td>\n",
       "      <td>...</td>\n",
       "      <td>...</td>\n",
       "      <td>...</td>\n",
       "      <td>...</td>\n",
       "      <td>...</td>\n",
       "      <td>...</td>\n",
       "      <td>...</td>\n",
       "      <td>...</td>\n",
       "      <td>...</td>\n",
       "    </tr>\n",
       "    <tr>\n",
       "      <th>817</th>\n",
       "      <td>market for sulfur hexafluoride, liquid</td>\n",
       "      <td>5f2580f7d4e2d2df13adb9f31b85b354</td>\n",
       "      <td>RER</td>\n",
       "      <td>market for electricity, medium voltage</td>\n",
       "      <td>d20464840573665d431297c62b3cab90</td>\n",
       "      <td>technosphere</td>\n",
       "      <td>others</td>\n",
       "      <td>1.130000e-07</td>\n",
       "      <td>1.130000e-07</td>\n",
       "      <td>1.130000e-07</td>\n",
       "      <td>...</td>\n",
       "      <td>1.130000e-07</td>\n",
       "      <td>1.130000e-07</td>\n",
       "      <td>1.130000e-07</td>\n",
       "      <td>1.130000e-07</td>\n",
       "      <td>1.130000e-07</td>\n",
       "      <td>1.141300e-07</td>\n",
       "      <td>1.130000e-07</td>\n",
       "      <td>1.130000e-07</td>\n",
       "      <td>1.130000e-07</td>\n",
       "      <td>1.130000e-07</td>\n",
       "    </tr>\n",
       "    <tr>\n",
       "      <th>818</th>\n",
       "      <td>market for transmission network, electricity, ...</td>\n",
       "      <td>6bd8d314105d5011025136b680d07845</td>\n",
       "      <td>GLO</td>\n",
       "      <td>market for electricity, medium voltage</td>\n",
       "      <td>d20464840573665d431297c62b3cab90</td>\n",
       "      <td>technosphere</td>\n",
       "      <td>electricity</td>\n",
       "      <td>1.862777e-08</td>\n",
       "      <td>1.862777e-08</td>\n",
       "      <td>1.862777e-08</td>\n",
       "      <td>...</td>\n",
       "      <td>1.862777e-08</td>\n",
       "      <td>1.862777e-08</td>\n",
       "      <td>1.862777e-08</td>\n",
       "      <td>1.862777e-08</td>\n",
       "      <td>1.862777e-08</td>\n",
       "      <td>1.862777e-08</td>\n",
       "      <td>1.881405e-08</td>\n",
       "      <td>1.862777e-08</td>\n",
       "      <td>1.862777e-08</td>\n",
       "      <td>1.862777e-08</td>\n",
       "    </tr>\n",
       "    <tr>\n",
       "      <th>819</th>\n",
       "      <td>electricity voltage transformation from high t...</td>\n",
       "      <td>314b80f8f4f0bb03c1d0aad5cdda8dfa</td>\n",
       "      <td>DE</td>\n",
       "      <td>market for electricity, medium voltage</td>\n",
       "      <td>d20464840573665d431297c62b3cab90</td>\n",
       "      <td>technosphere</td>\n",
       "      <td>electricity</td>\n",
       "      <td>9.739410e-01</td>\n",
       "      <td>9.739410e-01</td>\n",
       "      <td>9.739410e-01</td>\n",
       "      <td>...</td>\n",
       "      <td>9.739410e-01</td>\n",
       "      <td>9.739410e-01</td>\n",
       "      <td>9.739410e-01</td>\n",
       "      <td>9.739410e-01</td>\n",
       "      <td>9.739410e-01</td>\n",
       "      <td>9.739410e-01</td>\n",
       "      <td>9.739410e-01</td>\n",
       "      <td>9.836805e-01</td>\n",
       "      <td>9.739410e-01</td>\n",
       "      <td>9.739410e-01</td>\n",
       "    </tr>\n",
       "    <tr>\n",
       "      <th>820</th>\n",
       "      <td>electricity, from municipal waste incineration...</td>\n",
       "      <td>1d85d27ee225f9448286cff38de7cb1f</td>\n",
       "      <td>DE</td>\n",
       "      <td>market for electricity, medium voltage</td>\n",
       "      <td>d20464840573665d431297c62b3cab90</td>\n",
       "      <td>technosphere</td>\n",
       "      <td>electricity</td>\n",
       "      <td>2.605896e-02</td>\n",
       "      <td>2.605896e-02</td>\n",
       "      <td>2.605896e-02</td>\n",
       "      <td>...</td>\n",
       "      <td>2.605896e-02</td>\n",
       "      <td>2.605896e-02</td>\n",
       "      <td>2.605896e-02</td>\n",
       "      <td>2.605896e-02</td>\n",
       "      <td>2.605896e-02</td>\n",
       "      <td>2.605896e-02</td>\n",
       "      <td>2.605896e-02</td>\n",
       "      <td>2.605896e-02</td>\n",
       "      <td>2.631955e-02</td>\n",
       "      <td>2.605896e-02</td>\n",
       "    </tr>\n",
       "    <tr>\n",
       "      <th>821</th>\n",
       "      <td>Sulfur hexafluoride</td>\n",
       "      <td>35d1dff5-b535-4628-9826-4a8fce08a1f2</td>\n",
       "      <td>('air',)</td>\n",
       "      <td>market for electricity, medium voltage</td>\n",
       "      <td>d20464840573665d431297c62b3cab90</td>\n",
       "      <td>biosphere</td>\n",
       "      <td>others</td>\n",
       "      <td>1.130000e-07</td>\n",
       "      <td>1.130000e-07</td>\n",
       "      <td>1.130000e-07</td>\n",
       "      <td>...</td>\n",
       "      <td>1.130000e-07</td>\n",
       "      <td>1.130000e-07</td>\n",
       "      <td>1.130000e-07</td>\n",
       "      <td>1.130000e-07</td>\n",
       "      <td>1.130000e-07</td>\n",
       "      <td>1.130000e-07</td>\n",
       "      <td>1.130000e-07</td>\n",
       "      <td>1.130000e-07</td>\n",
       "      <td>1.130000e-07</td>\n",
       "      <td>1.141300e-07</td>\n",
       "    </tr>\n",
       "  </tbody>\n",
       "</table>\n",
       "<p>822 rows × 830 columns</p>\n",
       "</div>"
      ],
      "text/plain": [
       "                                                  from  \\\n",
       "0                                    banana production   \n",
       "1                     market for poultry manure, dried   \n",
       "2    market for diesel, burned in agricultural mach...   \n",
       "3                         market for potassium sulfate   \n",
       "4    market for application of plant protection pro...   \n",
       "..                                                 ...   \n",
       "817             market for sulfur hexafluoride, liquid   \n",
       "818  market for transmission network, electricity, ...   \n",
       "819  electricity voltage transformation from high t...   \n",
       "820  electricity, from municipal waste incineration...   \n",
       "821                                Sulfur hexafluoride   \n",
       "\n",
       "                              from - code from - location  \\\n",
       "0        92e64f27d7f015e878d4ef2976742738             RoW   \n",
       "1        4887ac7b45b04f1f2f259bd1adb70f63             GLO   \n",
       "2        227b698bdbe0cfd3f0230d7315df273f             GLO   \n",
       "3        f84d5bbc788f3f2d8e505a5d77464172             RER   \n",
       "4        82e699bad21c2bc5ab1b0851349dae35             GLO   \n",
       "..                                    ...             ...   \n",
       "817      5f2580f7d4e2d2df13adb9f31b85b354             RER   \n",
       "818      6bd8d314105d5011025136b680d07845             GLO   \n",
       "819      314b80f8f4f0bb03c1d0aad5cdda8dfa              DE   \n",
       "820      1d85d27ee225f9448286cff38de7cb1f              DE   \n",
       "821  35d1dff5-b535-4628-9826-4a8fce08a1f2        ('air',)   \n",
       "\n",
       "                                         to                         to - code  \\\n",
       "0                       baking banana bread                 bakingbananabread   \n",
       "1                         banana production  92e64f27d7f015e878d4ef2976742738   \n",
       "2                         banana production  92e64f27d7f015e878d4ef2976742738   \n",
       "3                         banana production  92e64f27d7f015e878d4ef2976742738   \n",
       "4                         banana production  92e64f27d7f015e878d4ef2976742738   \n",
       "..                                      ...                               ...   \n",
       "817  market for electricity, medium voltage  d20464840573665d431297c62b3cab90   \n",
       "818  market for electricity, medium voltage  d20464840573665d431297c62b3cab90   \n",
       "819  market for electricity, medium voltage  d20464840573665d431297c62b3cab90   \n",
       "820  market for electricity, medium voltage  d20464840573665d431297c62b3cab90   \n",
       "821  market for electricity, medium voltage  d20464840573665d431297c62b3cab90   \n",
       "\n",
       "             type     category  default amount          run0          run1  \\\n",
       "0    technosphere       others    4.000000e-01  4.040000e-01  4.000000e-01   \n",
       "1    technosphere       others    1.630239e-03  1.630239e-03  1.646542e-03   \n",
       "2    technosphere       others    2.859762e-02  2.859762e-02  2.859762e-02   \n",
       "3    technosphere       others    1.085049e-03  1.085049e-03  1.085049e-03   \n",
       "4    technosphere       others    1.202709e-04  1.202709e-04  1.202709e-04   \n",
       "..            ...          ...             ...           ...           ...   \n",
       "817  technosphere       others    1.130000e-07  1.130000e-07  1.130000e-07   \n",
       "818  technosphere  electricity    1.862777e-08  1.862777e-08  1.862777e-08   \n",
       "819  technosphere  electricity    9.739410e-01  9.739410e-01  9.739410e-01   \n",
       "820  technosphere  electricity    2.605896e-02  2.605896e-02  2.605896e-02   \n",
       "821     biosphere       others    1.130000e-07  1.130000e-07  1.130000e-07   \n",
       "\n",
       "     ...        run812        run813        run814        run815  \\\n",
       "0    ...  4.000000e-01  4.000000e-01  4.000000e-01  4.000000e-01   \n",
       "1    ...  1.630239e-03  1.630239e-03  1.630239e-03  1.630239e-03   \n",
       "2    ...  2.859762e-02  2.859762e-02  2.859762e-02  2.859762e-02   \n",
       "3    ...  1.085049e-03  1.085049e-03  1.085049e-03  1.085049e-03   \n",
       "4    ...  1.202709e-04  1.202709e-04  1.202709e-04  1.202709e-04   \n",
       "..   ...           ...           ...           ...           ...   \n",
       "817  ...  1.130000e-07  1.130000e-07  1.130000e-07  1.130000e-07   \n",
       "818  ...  1.862777e-08  1.862777e-08  1.862777e-08  1.862777e-08   \n",
       "819  ...  9.739410e-01  9.739410e-01  9.739410e-01  9.739410e-01   \n",
       "820  ...  2.605896e-02  2.605896e-02  2.605896e-02  2.605896e-02   \n",
       "821  ...  1.130000e-07  1.130000e-07  1.130000e-07  1.130000e-07   \n",
       "\n",
       "           run816        run817        run818        run819        run820  \\\n",
       "0    4.000000e-01  4.000000e-01  4.000000e-01  4.000000e-01  4.000000e-01   \n",
       "1    1.630239e-03  1.630239e-03  1.630239e-03  1.630239e-03  1.630239e-03   \n",
       "2    2.859762e-02  2.859762e-02  2.859762e-02  2.859762e-02  2.859762e-02   \n",
       "3    1.085049e-03  1.085049e-03  1.085049e-03  1.085049e-03  1.085049e-03   \n",
       "4    1.202709e-04  1.202709e-04  1.202709e-04  1.202709e-04  1.202709e-04   \n",
       "..            ...           ...           ...           ...           ...   \n",
       "817  1.130000e-07  1.141300e-07  1.130000e-07  1.130000e-07  1.130000e-07   \n",
       "818  1.862777e-08  1.862777e-08  1.881405e-08  1.862777e-08  1.862777e-08   \n",
       "819  9.739410e-01  9.739410e-01  9.739410e-01  9.836805e-01  9.739410e-01   \n",
       "820  2.605896e-02  2.605896e-02  2.605896e-02  2.605896e-02  2.631955e-02   \n",
       "821  1.130000e-07  1.130000e-07  1.130000e-07  1.130000e-07  1.130000e-07   \n",
       "\n",
       "           run821  \n",
       "0    4.000000e-01  \n",
       "1    1.630239e-03  \n",
       "2    2.859762e-02  \n",
       "3    1.085049e-03  \n",
       "4    1.202709e-04  \n",
       "..            ...  \n",
       "817  1.130000e-07  \n",
       "818  1.862777e-08  \n",
       "819  9.739410e-01  \n",
       "820  2.605896e-02  \n",
       "821  1.141300e-07  \n",
       "\n",
       "[822 rows x 830 columns]"
      ]
     },
     "execution_count": 43,
     "metadata": {},
     "output_type": "execute_result"
    }
   ],
   "source": [
    "perturb_input_2=pa.parameters_to_dataframe(param_list_2,category_type='input',\n",
    "                                           category_dict={'transport':'transport', \n",
    "                                                          'fertiliser':'fertiliser', \n",
    "                                                          'electricity':'electricity'})\n",
    "perturb_input_2"
   ]
  },
  {
   "cell_type": "code",
   "execution_count": 44,
   "id": "4b67d38a",
   "metadata": {},
   "outputs": [
    {
     "data": {
      "text/plain": [
       "others         460\n",
       "fertiliser     221\n",
       "electricity    117\n",
       "transport       24\n",
       "Name: category, dtype: int64"
      ]
     },
     "execution_count": 44,
     "metadata": {},
     "output_type": "execute_result"
    }
   ],
   "source": [
    "perturb_input_2['category'].value_counts()"
   ]
  },
  {
   "cell_type": "markdown",
   "id": "2d7b136a",
   "metadata": {},
   "source": [
    "### 4.3 Perform Perturbation Analysis"
   ]
  },
  {
   "attachments": {
    "Step3.png": {
     "image/png": "[encoded data removed]"
    }
   },
   "cell_type": "markdown",
   "id": "dd8fd461",
   "metadata": {},
   "source": [
    "![Step3.png](attachment:Step3.png)"
   ]
  },
  {
   "cell_type": "code",
   "execution_count": 45,
   "id": "85c94c32",
   "metadata": {
    "scrolled": true
   },
   "outputs": [
    {
     "name": "stdout",
     "output_type": "stream",
     "text": [
      "--- 537.02 seconds ---\n"
     ]
    },
    {
     "data": {
      "text/html": [
       "<div>\n",
       "<style scoped>\n",
       "    .dataframe tbody tr th:only-of-type {\n",
       "        vertical-align: middle;\n",
       "    }\n",
       "\n",
       "    .dataframe tbody tr th {\n",
       "        vertical-align: top;\n",
       "    }\n",
       "\n",
       "    .dataframe thead th {\n",
       "        text-align: right;\n",
       "    }\n",
       "</style>\n",
       "<table border=\"1\" class=\"dataframe\">\n",
       "  <thead>\n",
       "    <tr style=\"text-align: right;\">\n",
       "      <th></th>\n",
       "      <th>('ILCD 2.0 2018 midpoint no LT', 'climate change', 'climate change total')</th>\n",
       "      <th>('ILCD 2.0 2018 midpoint no LT', 'human health', 'ozone layer depletion')</th>\n",
       "      <th>('ILCD 2.0 2018 midpoint no LT', 'human health', 'carcinogenic effects')</th>\n",
       "      <th>('ILCD 2.0 2018 midpoint no LT', 'human health', 'non-carcinogenic effects')</th>\n",
       "      <th>('ILCD 2.0 2018 midpoint no LT', 'human health', 'respiratory effects, inorganics')</th>\n",
       "      <th>('ILCD 2.0 2018 midpoint no LT', 'human health', 'ionising radiation')</th>\n",
       "      <th>('ILCD 2.0 2018 midpoint no LT', 'human health', 'photochemical ozone creation')</th>\n",
       "      <th>('ILCD 2.0 2018 midpoint no LT', 'ecosystem quality', 'freshwater and terrestrial acidification')</th>\n",
       "      <th>('ILCD 2.0 2018 midpoint no LT', 'ecosystem quality', 'terrestrial eutrophication')</th>\n",
       "      <th>('ILCD 2.0 2018 midpoint no LT', 'ecosystem quality', 'freshwater eutrophication')</th>\n",
       "      <th>('ILCD 2.0 2018 midpoint no LT', 'ecosystem quality', 'marine eutrophication')</th>\n",
       "      <th>('ILCD 2.0 2018 midpoint no LT', 'ecosystem quality', 'freshwater ecotoxicity')</th>\n",
       "      <th>('ILCD 2.0 2018 midpoint no LT', 'resources', 'land use')</th>\n",
       "      <th>('ILCD 2.0 2018 midpoint no LT', 'resources', 'dissipated water')</th>\n",
       "      <th>('ILCD 2.0 2018 midpoint no LT', 'resources', 'minerals and metals')</th>\n",
       "      <th>('ILCD 2.0 2018 midpoint no LT', 'resources', 'fossils')</th>\n",
       "    </tr>\n",
       "  </thead>\n",
       "  <tbody>\n",
       "    <tr>\n",
       "      <th>default</th>\n",
       "      <td>1.951724</td>\n",
       "      <td>1.141967e-07</td>\n",
       "      <td>5.377117e-08</td>\n",
       "      <td>0.000004</td>\n",
       "      <td>1.166042e-07</td>\n",
       "      <td>0.056156</td>\n",
       "      <td>0.005865</td>\n",
       "      <td>0.018368</td>\n",
       "      <td>0.072797</td>\n",
       "      <td>0.000309</td>\n",
       "      <td>0.009860</td>\n",
       "      <td>12.135384</td>\n",
       "      <td>549.518710</td>\n",
       "      <td>15.805165</td>\n",
       "      <td>0.000009</td>\n",
       "      <td>19.263551</td>\n",
       "    </tr>\n",
       "    <tr>\n",
       "      <th>run0</th>\n",
       "      <td>1.952307</td>\n",
       "      <td>1.142225e-07</td>\n",
       "      <td>5.379344e-08</td>\n",
       "      <td>0.000004</td>\n",
       "      <td>1.166642e-07</td>\n",
       "      <td>0.056168</td>\n",
       "      <td>0.005866</td>\n",
       "      <td>0.018377</td>\n",
       "      <td>0.072833</td>\n",
       "      <td>0.000309</td>\n",
       "      <td>0.009869</td>\n",
       "      <td>12.135802</td>\n",
       "      <td>549.668154</td>\n",
       "      <td>15.833363</td>\n",
       "      <td>0.000009</td>\n",
       "      <td>19.267552</td>\n",
       "    </tr>\n",
       "    <tr>\n",
       "      <th>run1</th>\n",
       "      <td>1.951725</td>\n",
       "      <td>1.141967e-07</td>\n",
       "      <td>5.377119e-08</td>\n",
       "      <td>0.000004</td>\n",
       "      <td>1.166043e-07</td>\n",
       "      <td>0.056156</td>\n",
       "      <td>0.005865</td>\n",
       "      <td>0.018368</td>\n",
       "      <td>0.072797</td>\n",
       "      <td>0.000309</td>\n",
       "      <td>0.009860</td>\n",
       "      <td>12.135384</td>\n",
       "      <td>549.518719</td>\n",
       "      <td>15.805165</td>\n",
       "      <td>0.000009</td>\n",
       "      <td>19.263566</td>\n",
       "    </tr>\n",
       "    <tr>\n",
       "      <th>run2</th>\n",
       "      <td>1.951739</td>\n",
       "      <td>1.141991e-07</td>\n",
       "      <td>5.377168e-08</td>\n",
       "      <td>0.000004</td>\n",
       "      <td>1.166047e-07</td>\n",
       "      <td>0.056157</td>\n",
       "      <td>0.005865</td>\n",
       "      <td>0.018368</td>\n",
       "      <td>0.072798</td>\n",
       "      <td>0.000309</td>\n",
       "      <td>0.009860</td>\n",
       "      <td>12.135419</td>\n",
       "      <td>549.519052</td>\n",
       "      <td>15.805167</td>\n",
       "      <td>0.000009</td>\n",
       "      <td>19.263745</td>\n",
       "    </tr>\n",
       "    <tr>\n",
       "      <th>run3</th>\n",
       "      <td>1.951728</td>\n",
       "      <td>1.141973e-07</td>\n",
       "      <td>5.377143e-08</td>\n",
       "      <td>0.000004</td>\n",
       "      <td>1.166046e-07</td>\n",
       "      <td>0.056157</td>\n",
       "      <td>0.005865</td>\n",
       "      <td>0.018368</td>\n",
       "      <td>0.072797</td>\n",
       "      <td>0.000309</td>\n",
       "      <td>0.009860</td>\n",
       "      <td>12.135392</td>\n",
       "      <td>549.518800</td>\n",
       "      <td>15.805169</td>\n",
       "      <td>0.000009</td>\n",
       "      <td>19.263628</td>\n",
       "    </tr>\n",
       "    <tr>\n",
       "      <th>...</th>\n",
       "      <td>...</td>\n",
       "      <td>...</td>\n",
       "      <td>...</td>\n",
       "      <td>...</td>\n",
       "      <td>...</td>\n",
       "      <td>...</td>\n",
       "      <td>...</td>\n",
       "      <td>...</td>\n",
       "      <td>...</td>\n",
       "      <td>...</td>\n",
       "      <td>...</td>\n",
       "      <td>...</td>\n",
       "      <td>...</td>\n",
       "      <td>...</td>\n",
       "      <td>...</td>\n",
       "      <td>...</td>\n",
       "    </tr>\n",
       "    <tr>\n",
       "      <th>run817</th>\n",
       "      <td>1.951724</td>\n",
       "      <td>1.141967e-07</td>\n",
       "      <td>5.377118e-08</td>\n",
       "      <td>0.000004</td>\n",
       "      <td>1.166042e-07</td>\n",
       "      <td>0.056156</td>\n",
       "      <td>0.005865</td>\n",
       "      <td>0.018368</td>\n",
       "      <td>0.072797</td>\n",
       "      <td>0.000309</td>\n",
       "      <td>0.009860</td>\n",
       "      <td>12.135384</td>\n",
       "      <td>549.518710</td>\n",
       "      <td>15.805165</td>\n",
       "      <td>0.000009</td>\n",
       "      <td>19.263552</td>\n",
       "    </tr>\n",
       "    <tr>\n",
       "      <th>run818</th>\n",
       "      <td>1.951730</td>\n",
       "      <td>1.141970e-07</td>\n",
       "      <td>5.377810e-08</td>\n",
       "      <td>0.000004</td>\n",
       "      <td>1.166048e-07</td>\n",
       "      <td>0.056156</td>\n",
       "      <td>0.005865</td>\n",
       "      <td>0.018368</td>\n",
       "      <td>0.072797</td>\n",
       "      <td>0.000309</td>\n",
       "      <td>0.009860</td>\n",
       "      <td>12.135498</td>\n",
       "      <td>549.518917</td>\n",
       "      <td>15.805168</td>\n",
       "      <td>0.000009</td>\n",
       "      <td>19.263626</td>\n",
       "    </tr>\n",
       "    <tr>\n",
       "      <th>run819</th>\n",
       "      <td>1.957561</td>\n",
       "      <td>1.143436e-07</td>\n",
       "      <td>5.382889e-08</td>\n",
       "      <td>0.000004</td>\n",
       "      <td>1.166436e-07</td>\n",
       "      <td>0.056398</td>\n",
       "      <td>0.005872</td>\n",
       "      <td>0.018381</td>\n",
       "      <td>0.072826</td>\n",
       "      <td>0.000310</td>\n",
       "      <td>0.009862</td>\n",
       "      <td>12.136671</td>\n",
       "      <td>549.540366</td>\n",
       "      <td>15.806089</td>\n",
       "      <td>0.000009</td>\n",
       "      <td>19.359951</td>\n",
       "    </tr>\n",
       "    <tr>\n",
       "      <th>run820</th>\n",
       "      <td>1.951724</td>\n",
       "      <td>1.141967e-07</td>\n",
       "      <td>5.377117e-08</td>\n",
       "      <td>0.000004</td>\n",
       "      <td>1.166042e-07</td>\n",
       "      <td>0.056156</td>\n",
       "      <td>0.005865</td>\n",
       "      <td>0.018368</td>\n",
       "      <td>0.072797</td>\n",
       "      <td>0.000309</td>\n",
       "      <td>0.009860</td>\n",
       "      <td>12.135384</td>\n",
       "      <td>549.518710</td>\n",
       "      <td>15.805165</td>\n",
       "      <td>0.000009</td>\n",
       "      <td>19.263551</td>\n",
       "    </tr>\n",
       "    <tr>\n",
       "      <th>run821</th>\n",
       "      <td>1.951754</td>\n",
       "      <td>1.141967e-07</td>\n",
       "      <td>5.377117e-08</td>\n",
       "      <td>0.000004</td>\n",
       "      <td>1.166042e-07</td>\n",
       "      <td>0.056156</td>\n",
       "      <td>0.005865</td>\n",
       "      <td>0.018368</td>\n",
       "      <td>0.072797</td>\n",
       "      <td>0.000309</td>\n",
       "      <td>0.009860</td>\n",
       "      <td>12.135384</td>\n",
       "      <td>549.518710</td>\n",
       "      <td>15.805165</td>\n",
       "      <td>0.000009</td>\n",
       "      <td>19.263551</td>\n",
       "    </tr>\n",
       "  </tbody>\n",
       "</table>\n",
       "<p>823 rows × 16 columns</p>\n",
       "</div>"
      ],
      "text/plain": [
       "         ('ILCD 2.0 2018 midpoint no LT', 'climate change', 'climate change total')  \\\n",
       "default                                           1.951724                            \n",
       "run0                                              1.952307                            \n",
       "run1                                              1.951725                            \n",
       "run2                                              1.951739                            \n",
       "run3                                              1.951728                            \n",
       "...                                                    ...                            \n",
       "run817                                            1.951724                            \n",
       "run818                                            1.951730                            \n",
       "run819                                            1.957561                            \n",
       "run820                                            1.951724                            \n",
       "run821                                            1.951754                            \n",
       "\n",
       "         ('ILCD 2.0 2018 midpoint no LT', 'human health', 'ozone layer depletion')  \\\n",
       "default                                       1.141967e-07                           \n",
       "run0                                          1.142225e-07                           \n",
       "run1                                          1.141967e-07                           \n",
       "run2                                          1.141991e-07                           \n",
       "run3                                          1.141973e-07                           \n",
       "...                                                    ...                           \n",
       "run817                                        1.141967e-07                           \n",
       "run818                                        1.141970e-07                           \n",
       "run819                                        1.143436e-07                           \n",
       "run820                                        1.141967e-07                           \n",
       "run821                                        1.141967e-07                           \n",
       "\n",
       "         ('ILCD 2.0 2018 midpoint no LT', 'human health', 'carcinogenic effects')  \\\n",
       "default                                       5.377117e-08                          \n",
       "run0                                          5.379344e-08                          \n",
       "run1                                          5.377119e-08                          \n",
       "run2                                          5.377168e-08                          \n",
       "run3                                          5.377143e-08                          \n",
       "...                                                    ...                          \n",
       "run817                                        5.377118e-08                          \n",
       "run818                                        5.377810e-08                          \n",
       "run819                                        5.382889e-08                          \n",
       "run820                                        5.377117e-08                          \n",
       "run821                                        5.377117e-08                          \n",
       "\n",
       "         ('ILCD 2.0 2018 midpoint no LT', 'human health', 'non-carcinogenic effects')  \\\n",
       "default                                           0.000004                              \n",
       "run0                                              0.000004                              \n",
       "run1                                              0.000004                              \n",
       "run2                                              0.000004                              \n",
       "run3                                              0.000004                              \n",
       "...                                                    ...                              \n",
       "run817                                            0.000004                              \n",
       "run818                                            0.000004                              \n",
       "run819                                            0.000004                              \n",
       "run820                                            0.000004                              \n",
       "run821                                            0.000004                              \n",
       "\n",
       "         ('ILCD 2.0 2018 midpoint no LT', 'human health', 'respiratory effects, inorganics')  \\\n",
       "default                                       1.166042e-07                                     \n",
       "run0                                          1.166642e-07                                     \n",
       "run1                                          1.166043e-07                                     \n",
       "run2                                          1.166047e-07                                     \n",
       "run3                                          1.166046e-07                                     \n",
       "...                                                    ...                                     \n",
       "run817                                        1.166042e-07                                     \n",
       "run818                                        1.166048e-07                                     \n",
       "run819                                        1.166436e-07                                     \n",
       "run820                                        1.166042e-07                                     \n",
       "run821                                        1.166042e-07                                     \n",
       "\n",
       "         ('ILCD 2.0 2018 midpoint no LT', 'human health', 'ionising radiation')  \\\n",
       "default                                           0.056156                        \n",
       "run0                                              0.056168                        \n",
       "run1                                              0.056156                        \n",
       "run2                                              0.056157                        \n",
       "run3                                              0.056157                        \n",
       "...                                                    ...                        \n",
       "run817                                            0.056156                        \n",
       "run818                                            0.056156                        \n",
       "run819                                            0.056398                        \n",
       "run820                                            0.056156                        \n",
       "run821                                            0.056156                        \n",
       "\n",
       "         ('ILCD 2.0 2018 midpoint no LT', 'human health', 'photochemical ozone creation')  \\\n",
       "default                                           0.005865                                  \n",
       "run0                                              0.005866                                  \n",
       "run1                                              0.005865                                  \n",
       "run2                                              0.005865                                  \n",
       "run3                                              0.005865                                  \n",
       "...                                                    ...                                  \n",
       "run817                                            0.005865                                  \n",
       "run818                                            0.005865                                  \n",
       "run819                                            0.005872                                  \n",
       "run820                                            0.005865                                  \n",
       "run821                                            0.005865                                  \n",
       "\n",
       "         ('ILCD 2.0 2018 midpoint no LT', 'ecosystem quality', 'freshwater and terrestrial acidification')  \\\n",
       "default                                           0.018368                                                   \n",
       "run0                                              0.018377                                                   \n",
       "run1                                              0.018368                                                   \n",
       "run2                                              0.018368                                                   \n",
       "run3                                              0.018368                                                   \n",
       "...                                                    ...                                                   \n",
       "run817                                            0.018368                                                   \n",
       "run818                                            0.018368                                                   \n",
       "run819                                            0.018381                                                   \n",
       "run820                                            0.018368                                                   \n",
       "run821                                            0.018368                                                   \n",
       "\n",
       "         ('ILCD 2.0 2018 midpoint no LT', 'ecosystem quality', 'terrestrial eutrophication')  \\\n",
       "default                                           0.072797                                     \n",
       "run0                                              0.072833                                     \n",
       "run1                                              0.072797                                     \n",
       "run2                                              0.072798                                     \n",
       "run3                                              0.072797                                     \n",
       "...                                                    ...                                     \n",
       "run817                                            0.072797                                     \n",
       "run818                                            0.072797                                     \n",
       "run819                                            0.072826                                     \n",
       "run820                                            0.072797                                     \n",
       "run821                                            0.072797                                     \n",
       "\n",
       "         ('ILCD 2.0 2018 midpoint no LT', 'ecosystem quality', 'freshwater eutrophication')  \\\n",
       "default                                           0.000309                                    \n",
       "run0                                              0.000309                                    \n",
       "run1                                              0.000309                                    \n",
       "run2                                              0.000309                                    \n",
       "run3                                              0.000309                                    \n",
       "...                                                    ...                                    \n",
       "run817                                            0.000309                                    \n",
       "run818                                            0.000309                                    \n",
       "run819                                            0.000310                                    \n",
       "run820                                            0.000309                                    \n",
       "run821                                            0.000309                                    \n",
       "\n",
       "         ('ILCD 2.0 2018 midpoint no LT', 'ecosystem quality', 'marine eutrophication')  \\\n",
       "default                                           0.009860                                \n",
       "run0                                              0.009869                                \n",
       "run1                                              0.009860                                \n",
       "run2                                              0.009860                                \n",
       "run3                                              0.009860                                \n",
       "...                                                    ...                                \n",
       "run817                                            0.009860                                \n",
       "run818                                            0.009860                                \n",
       "run819                                            0.009862                                \n",
       "run820                                            0.009860                                \n",
       "run821                                            0.009860                                \n",
       "\n",
       "         ('ILCD 2.0 2018 midpoint no LT', 'ecosystem quality', 'freshwater ecotoxicity')  \\\n",
       "default                                          12.135384                                 \n",
       "run0                                             12.135802                                 \n",
       "run1                                             12.135384                                 \n",
       "run2                                             12.135419                                 \n",
       "run3                                             12.135392                                 \n",
       "...                                                    ...                                 \n",
       "run817                                           12.135384                                 \n",
       "run818                                           12.135498                                 \n",
       "run819                                           12.136671                                 \n",
       "run820                                           12.135384                                 \n",
       "run821                                           12.135384                                 \n",
       "\n",
       "         ('ILCD 2.0 2018 midpoint no LT', 'resources', 'land use')  \\\n",
       "default                                         549.518710           \n",
       "run0                                            549.668154           \n",
       "run1                                            549.518719           \n",
       "run2                                            549.519052           \n",
       "run3                                            549.518800           \n",
       "...                                                    ...           \n",
       "run817                                          549.518710           \n",
       "run818                                          549.518917           \n",
       "run819                                          549.540366           \n",
       "run820                                          549.518710           \n",
       "run821                                          549.518710           \n",
       "\n",
       "         ('ILCD 2.0 2018 midpoint no LT', 'resources', 'dissipated water')  \\\n",
       "default                                          15.805165                   \n",
       "run0                                             15.833363                   \n",
       "run1                                             15.805165                   \n",
       "run2                                             15.805167                   \n",
       "run3                                             15.805169                   \n",
       "...                                                    ...                   \n",
       "run817                                           15.805165                   \n",
       "run818                                           15.805168                   \n",
       "run819                                           15.806089                   \n",
       "run820                                           15.805165                   \n",
       "run821                                           15.805165                   \n",
       "\n",
       "         ('ILCD 2.0 2018 midpoint no LT', 'resources', 'minerals and metals')  \\\n",
       "default                                           0.000009                      \n",
       "run0                                              0.000009                      \n",
       "run1                                              0.000009                      \n",
       "run2                                              0.000009                      \n",
       "run3                                              0.000009                      \n",
       "...                                                    ...                      \n",
       "run817                                            0.000009                      \n",
       "run818                                            0.000009                      \n",
       "run819                                            0.000009                      \n",
       "run820                                            0.000009                      \n",
       "run821                                            0.000009                      \n",
       "\n",
       "         ('ILCD 2.0 2018 midpoint no LT', 'resources', 'fossils')  \n",
       "default                                          19.263551         \n",
       "run0                                             19.267552         \n",
       "run1                                             19.263566         \n",
       "run2                                             19.263745         \n",
       "run3                                             19.263628         \n",
       "...                                                    ...         \n",
       "run817                                           19.263552         \n",
       "run818                                           19.263626         \n",
       "run819                                           19.359951         \n",
       "run820                                           19.263551         \n",
       "run821                                           19.263551         \n",
       "\n",
       "[823 rows x 16 columns]"
      ]
     },
     "execution_count": 45,
     "metadata": {},
     "output_type": "execute_result"
    }
   ],
   "source": [
    "results_2=pa.perform_perturbation_analysis(functional_unit,LCIA_methods,perturb_input_2,'ecoinvent 3.7.1_cutoff_ecoSpold02')\n",
    "results_2"
   ]
  },
  {
   "cell_type": "markdown",
   "id": "31a3ed90",
   "metadata": {},
   "source": [
    "### 4.4 Calculate Sensitivity Indicators"
   ]
  },
  {
   "attachments": {
    "Step4.png": {
     "image/png": "[encoded data removed]"
    }
   },
   "cell_type": "markdown",
   "id": "cd26ee5c",
   "metadata": {},
   "source": [
    "![Step4.png](attachment:Step4.png)"
   ]
  },
  {
   "cell_type": "code",
   "execution_count": 46,
   "id": "e45ff14f",
   "metadata": {
    "scrolled": true
   },
   "outputs": [
    {
     "data": {
      "text/html": [
       "<div>\n",
       "<style scoped>\n",
       "    .dataframe tbody tr th:only-of-type {\n",
       "        vertical-align: middle;\n",
       "    }\n",
       "\n",
       "    .dataframe tbody tr th {\n",
       "        vertical-align: top;\n",
       "    }\n",
       "\n",
       "    .dataframe thead th {\n",
       "        text-align: right;\n",
       "    }\n",
       "</style>\n",
       "<table border=\"1\" class=\"dataframe\">\n",
       "  <thead>\n",
       "    <tr style=\"text-align: right;\">\n",
       "      <th></th>\n",
       "      <th>from</th>\n",
       "      <th>from - code</th>\n",
       "      <th>from - location</th>\n",
       "      <th>to</th>\n",
       "      <th>to - code</th>\n",
       "      <th>type</th>\n",
       "      <th>category</th>\n",
       "      <th>('ILCD 2.0 2018 midpoint no LT', 'climate change', 'climate change total')</th>\n",
       "      <th>('ILCD 2.0 2018 midpoint no LT', 'human health', 'ozone layer depletion')</th>\n",
       "      <th>('ILCD 2.0 2018 midpoint no LT', 'human health', 'carcinogenic effects')</th>\n",
       "      <th>...</th>\n",
       "      <th>('ILCD 2.0 2018 midpoint no LT', 'human health', 'photochemical ozone creation')</th>\n",
       "      <th>('ILCD 2.0 2018 midpoint no LT', 'ecosystem quality', 'freshwater and terrestrial acidification')</th>\n",
       "      <th>('ILCD 2.0 2018 midpoint no LT', 'ecosystem quality', 'terrestrial eutrophication')</th>\n",
       "      <th>('ILCD 2.0 2018 midpoint no LT', 'ecosystem quality', 'freshwater eutrophication')</th>\n",
       "      <th>('ILCD 2.0 2018 midpoint no LT', 'ecosystem quality', 'marine eutrophication')</th>\n",
       "      <th>('ILCD 2.0 2018 midpoint no LT', 'ecosystem quality', 'freshwater ecotoxicity')</th>\n",
       "      <th>('ILCD 2.0 2018 midpoint no LT', 'resources', 'land use')</th>\n",
       "      <th>('ILCD 2.0 2018 midpoint no LT', 'resources', 'dissipated water')</th>\n",
       "      <th>('ILCD 2.0 2018 midpoint no LT', 'resources', 'minerals and metals')</th>\n",
       "      <th>('ILCD 2.0 2018 midpoint no LT', 'resources', 'fossils')</th>\n",
       "    </tr>\n",
       "  </thead>\n",
       "  <tbody>\n",
       "    <tr>\n",
       "      <th>0</th>\n",
       "      <td>banana production</td>\n",
       "      <td>92e64f27d7f015e878d4ef2976742738</td>\n",
       "      <td>RoW</td>\n",
       "      <td>baking banana bread</td>\n",
       "      <td>bakingbananabread</td>\n",
       "      <td>technosphere</td>\n",
       "      <td>others</td>\n",
       "      <td>0.029845</td>\n",
       "      <td>2.259082e-02</td>\n",
       "      <td>4.140348e-02</td>\n",
       "      <td>...</td>\n",
       "      <td>2.706575e-02</td>\n",
       "      <td>4.589531e-02</td>\n",
       "      <td>4.885007e-02</td>\n",
       "      <td>3.617287e-02</td>\n",
       "      <td>8.916888e-02</td>\n",
       "      <td>3.444380e-03</td>\n",
       "      <td>2.719549e-02</td>\n",
       "      <td>1.784068e-01</td>\n",
       "      <td>0.051294</td>\n",
       "      <td>2.076949e-02</td>\n",
       "    </tr>\n",
       "    <tr>\n",
       "      <th>1</th>\n",
       "      <td>market for poultry manure, dried</td>\n",
       "      <td>4887ac7b45b04f1f2f259bd1adb70f63</td>\n",
       "      <td>GLO</td>\n",
       "      <td>banana production</td>\n",
       "      <td>92e64f27d7f015e878d4ef2976742738</td>\n",
       "      <td>technosphere</td>\n",
       "      <td>others</td>\n",
       "      <td>0.000057</td>\n",
       "      <td>3.772974e-05</td>\n",
       "      <td>2.574635e-05</td>\n",
       "      <td>...</td>\n",
       "      <td>6.849983e-05</td>\n",
       "      <td>4.204109e-05</td>\n",
       "      <td>2.563337e-05</td>\n",
       "      <td>1.540792e-05</td>\n",
       "      <td>8.806324e-06</td>\n",
       "      <td>4.466639e-06</td>\n",
       "      <td>1.700190e-06</td>\n",
       "      <td>1.063061e-06</td>\n",
       "      <td>0.000033</td>\n",
       "      <td>7.461300e-05</td>\n",
       "    </tr>\n",
       "    <tr>\n",
       "      <th>2</th>\n",
       "      <td>market for diesel, burned in agricultural mach...</td>\n",
       "      <td>227b698bdbe0cfd3f0230d7315df273f</td>\n",
       "      <td>GLO</td>\n",
       "      <td>banana production</td>\n",
       "      <td>92e64f27d7f015e878d4ef2976742738</td>\n",
       "      <td>technosphere</td>\n",
       "      <td>others</td>\n",
       "      <td>0.000739</td>\n",
       "      <td>2.074780e-03</td>\n",
       "      <td>9.374307e-04</td>\n",
       "      <td>...</td>\n",
       "      <td>2.355705e-03</td>\n",
       "      <td>6.447973e-04</td>\n",
       "      <td>6.832037e-04</td>\n",
       "      <td>6.897240e-05</td>\n",
       "      <td>4.586970e-04</td>\n",
       "      <td>2.935787e-04</td>\n",
       "      <td>6.230028e-05</td>\n",
       "      <td>9.071524e-06</td>\n",
       "      <td>0.001627</td>\n",
       "      <td>1.004006e-03</td>\n",
       "    </tr>\n",
       "    <tr>\n",
       "      <th>3</th>\n",
       "      <td>market for potassium sulfate</td>\n",
       "      <td>f84d5bbc788f3f2d8e505a5d77464172</td>\n",
       "      <td>RER</td>\n",
       "      <td>banana production</td>\n",
       "      <td>92e64f27d7f015e878d4ef2976742738</td>\n",
       "      <td>technosphere</td>\n",
       "      <td>others</td>\n",
       "      <td>0.000223</td>\n",
       "      <td>4.937893e-04</td>\n",
       "      <td>4.828374e-04</td>\n",
       "      <td>...</td>\n",
       "      <td>3.352078e-04</td>\n",
       "      <td>2.930875e-04</td>\n",
       "      <td>8.894325e-05</td>\n",
       "      <td>5.272527e-05</td>\n",
       "      <td>5.636327e-05</td>\n",
       "      <td>7.247641e-05</td>\n",
       "      <td>1.650365e-05</td>\n",
       "      <td>2.340147e-05</td>\n",
       "      <td>0.001959</td>\n",
       "      <td>3.956673e-04</td>\n",
       "    </tr>\n",
       "    <tr>\n",
       "      <th>4</th>\n",
       "      <td>market for application of plant protection pro...</td>\n",
       "      <td>82e699bad21c2bc5ab1b0851349dae35</td>\n",
       "      <td>GLO</td>\n",
       "      <td>banana production</td>\n",
       "      <td>92e64f27d7f015e878d4ef2976742738</td>\n",
       "      <td>technosphere</td>\n",
       "      <td>others</td>\n",
       "      <td>0.000050</td>\n",
       "      <td>1.390317e-04</td>\n",
       "      <td>7.502423e-05</td>\n",
       "      <td>...</td>\n",
       "      <td>1.687140e-04</td>\n",
       "      <td>4.413883e-05</td>\n",
       "      <td>4.897285e-05</td>\n",
       "      <td>4.758593e-06</td>\n",
       "      <td>3.282194e-05</td>\n",
       "      <td>1.072794e-05</td>\n",
       "      <td>1.416883e-05</td>\n",
       "      <td>6.078752e-07</td>\n",
       "      <td>0.000170</td>\n",
       "      <td>6.512723e-05</td>\n",
       "    </tr>\n",
       "    <tr>\n",
       "      <th>...</th>\n",
       "      <td>...</td>\n",
       "      <td>...</td>\n",
       "      <td>...</td>\n",
       "      <td>...</td>\n",
       "      <td>...</td>\n",
       "      <td>...</td>\n",
       "      <td>...</td>\n",
       "      <td>...</td>\n",
       "      <td>...</td>\n",
       "      <td>...</td>\n",
       "      <td>...</td>\n",
       "      <td>...</td>\n",
       "      <td>...</td>\n",
       "      <td>...</td>\n",
       "      <td>...</td>\n",
       "      <td>...</td>\n",
       "      <td>...</td>\n",
       "      <td>...</td>\n",
       "      <td>...</td>\n",
       "      <td>...</td>\n",
       "      <td>...</td>\n",
       "    </tr>\n",
       "    <tr>\n",
       "      <th>817</th>\n",
       "      <td>market for sulfur hexafluoride, liquid</td>\n",
       "      <td>5f2580f7d4e2d2df13adb9f31b85b354</td>\n",
       "      <td>RER</td>\n",
       "      <td>market for electricity, medium voltage</td>\n",
       "      <td>d20464840573665d431297c62b3cab90</td>\n",
       "      <td>technosphere</td>\n",
       "      <td>others</td>\n",
       "      <td>0.000008</td>\n",
       "      <td>3.743790e-07</td>\n",
       "      <td>3.305986e-07</td>\n",
       "      <td>...</td>\n",
       "      <td>3.387887e-07</td>\n",
       "      <td>3.659593e-07</td>\n",
       "      <td>8.935539e-08</td>\n",
       "      <td>2.117522e-07</td>\n",
       "      <td>5.776241e-08</td>\n",
       "      <td>4.757311e-08</td>\n",
       "      <td>9.411357e-09</td>\n",
       "      <td>3.333672e-08</td>\n",
       "      <td>0.000001</td>\n",
       "      <td>8.651035e-07</td>\n",
       "    </tr>\n",
       "    <tr>\n",
       "      <th>818</th>\n",
       "      <td>market for transmission network, electricity, ...</td>\n",
       "      <td>6bd8d314105d5011025136b680d07845</td>\n",
       "      <td>GLO</td>\n",
       "      <td>market for electricity, medium voltage</td>\n",
       "      <td>d20464840573665d431297c62b3cab90</td>\n",
       "      <td>technosphere</td>\n",
       "      <td>electricity</td>\n",
       "      <td>0.000313</td>\n",
       "      <td>3.137284e-04</td>\n",
       "      <td>1.288506e-02</td>\n",
       "      <td>...</td>\n",
       "      <td>7.161783e-04</td>\n",
       "      <td>4.527470e-04</td>\n",
       "      <td>2.515045e-04</td>\n",
       "      <td>3.405559e-04</td>\n",
       "      <td>1.336252e-04</td>\n",
       "      <td>9.442512e-04</td>\n",
       "      <td>3.775462e-05</td>\n",
       "      <td>1.993756e-05</td>\n",
       "      <td>0.057342</td>\n",
       "      <td>3.854115e-04</td>\n",
       "    </tr>\n",
       "    <tr>\n",
       "      <th>819</th>\n",
       "      <td>electricity voltage transformation from high t...</td>\n",
       "      <td>314b80f8f4f0bb03c1d0aad5cdda8dfa</td>\n",
       "      <td>DE</td>\n",
       "      <td>market for electricity, medium voltage</td>\n",
       "      <td>d20464840573665d431297c62b3cab90</td>\n",
       "      <td>technosphere</td>\n",
       "      <td>electricity</td>\n",
       "      <td>0.299081</td>\n",
       "      <td>1.286175e-01</td>\n",
       "      <td>1.073386e-01</td>\n",
       "      <td>...</td>\n",
       "      <td>1.233717e-01</td>\n",
       "      <td>6.866728e-02</td>\n",
       "      <td>4.022428e-02</td>\n",
       "      <td>2.929166e-01</td>\n",
       "      <td>2.409793e-02</td>\n",
       "      <td>1.060619e-02</td>\n",
       "      <td>3.940943e-03</td>\n",
       "      <td>5.843932e-03</td>\n",
       "      <td>0.061754</td>\n",
       "      <td>5.004228e-01</td>\n",
       "    </tr>\n",
       "    <tr>\n",
       "      <th>820</th>\n",
       "      <td>electricity, from municipal waste incineration...</td>\n",
       "      <td>1d85d27ee225f9448286cff38de7cb1f</td>\n",
       "      <td>DE</td>\n",
       "      <td>market for electricity, medium voltage</td>\n",
       "      <td>d20464840573665d431297c62b3cab90</td>\n",
       "      <td>technosphere</td>\n",
       "      <td>electricity</td>\n",
       "      <td>0.000000</td>\n",
       "      <td>0.000000e+00</td>\n",
       "      <td>0.000000e+00</td>\n",
       "      <td>...</td>\n",
       "      <td>0.000000e+00</td>\n",
       "      <td>0.000000e+00</td>\n",
       "      <td>0.000000e+00</td>\n",
       "      <td>0.000000e+00</td>\n",
       "      <td>0.000000e+00</td>\n",
       "      <td>0.000000e+00</td>\n",
       "      <td>0.000000e+00</td>\n",
       "      <td>0.000000e+00</td>\n",
       "      <td>0.000000</td>\n",
       "      <td>0.000000e+00</td>\n",
       "    </tr>\n",
       "    <tr>\n",
       "      <th>821</th>\n",
       "      <td>Sulfur hexafluoride</td>\n",
       "      <td>35d1dff5-b535-4628-9826-4a8fce08a1f2</td>\n",
       "      <td>('air',)</td>\n",
       "      <td>market for electricity, medium voltage</td>\n",
       "      <td>d20464840573665d431297c62b3cab90</td>\n",
       "      <td>biosphere</td>\n",
       "      <td>others</td>\n",
       "      <td>0.001525</td>\n",
       "      <td>0.000000e+00</td>\n",
       "      <td>0.000000e+00</td>\n",
       "      <td>...</td>\n",
       "      <td>0.000000e+00</td>\n",
       "      <td>0.000000e+00</td>\n",
       "      <td>0.000000e+00</td>\n",
       "      <td>0.000000e+00</td>\n",
       "      <td>0.000000e+00</td>\n",
       "      <td>0.000000e+00</td>\n",
       "      <td>0.000000e+00</td>\n",
       "      <td>0.000000e+00</td>\n",
       "      <td>0.000000</td>\n",
       "      <td>0.000000e+00</td>\n",
       "    </tr>\n",
       "  </tbody>\n",
       "</table>\n",
       "<p>822 rows × 23 columns</p>\n",
       "</div>"
      ],
      "text/plain": [
       "                                                  from  \\\n",
       "0                                    banana production   \n",
       "1                     market for poultry manure, dried   \n",
       "2    market for diesel, burned in agricultural mach...   \n",
       "3                         market for potassium sulfate   \n",
       "4    market for application of plant protection pro...   \n",
       "..                                                 ...   \n",
       "817             market for sulfur hexafluoride, liquid   \n",
       "818  market for transmission network, electricity, ...   \n",
       "819  electricity voltage transformation from high t...   \n",
       "820  electricity, from municipal waste incineration...   \n",
       "821                                Sulfur hexafluoride   \n",
       "\n",
       "                              from - code from - location  \\\n",
       "0        92e64f27d7f015e878d4ef2976742738             RoW   \n",
       "1        4887ac7b45b04f1f2f259bd1adb70f63             GLO   \n",
       "2        227b698bdbe0cfd3f0230d7315df273f             GLO   \n",
       "3        f84d5bbc788f3f2d8e505a5d77464172             RER   \n",
       "4        82e699bad21c2bc5ab1b0851349dae35             GLO   \n",
       "..                                    ...             ...   \n",
       "817      5f2580f7d4e2d2df13adb9f31b85b354             RER   \n",
       "818      6bd8d314105d5011025136b680d07845             GLO   \n",
       "819      314b80f8f4f0bb03c1d0aad5cdda8dfa              DE   \n",
       "820      1d85d27ee225f9448286cff38de7cb1f              DE   \n",
       "821  35d1dff5-b535-4628-9826-4a8fce08a1f2        ('air',)   \n",
       "\n",
       "                                         to                         to - code  \\\n",
       "0                       baking banana bread                 bakingbananabread   \n",
       "1                         banana production  92e64f27d7f015e878d4ef2976742738   \n",
       "2                         banana production  92e64f27d7f015e878d4ef2976742738   \n",
       "3                         banana production  92e64f27d7f015e878d4ef2976742738   \n",
       "4                         banana production  92e64f27d7f015e878d4ef2976742738   \n",
       "..                                      ...                               ...   \n",
       "817  market for electricity, medium voltage  d20464840573665d431297c62b3cab90   \n",
       "818  market for electricity, medium voltage  d20464840573665d431297c62b3cab90   \n",
       "819  market for electricity, medium voltage  d20464840573665d431297c62b3cab90   \n",
       "820  market for electricity, medium voltage  d20464840573665d431297c62b3cab90   \n",
       "821  market for electricity, medium voltage  d20464840573665d431297c62b3cab90   \n",
       "\n",
       "             type     category  \\\n",
       "0    technosphere       others   \n",
       "1    technosphere       others   \n",
       "2    technosphere       others   \n",
       "3    technosphere       others   \n",
       "4    technosphere       others   \n",
       "..            ...          ...   \n",
       "817  technosphere       others   \n",
       "818  technosphere  electricity   \n",
       "819  technosphere  electricity   \n",
       "820  technosphere  electricity   \n",
       "821     biosphere       others   \n",
       "\n",
       "     ('ILCD 2.0 2018 midpoint no LT', 'climate change', 'climate change total')  \\\n",
       "0                                             0.029845                            \n",
       "1                                             0.000057                            \n",
       "2                                             0.000739                            \n",
       "3                                             0.000223                            \n",
       "4                                             0.000050                            \n",
       "..                                                 ...                            \n",
       "817                                           0.000008                            \n",
       "818                                           0.000313                            \n",
       "819                                           0.299081                            \n",
       "820                                           0.000000                            \n",
       "821                                           0.001525                            \n",
       "\n",
       "     ('ILCD 2.0 2018 midpoint no LT', 'human health', 'ozone layer depletion')  \\\n",
       "0                                         2.259082e-02                           \n",
       "1                                         3.772974e-05                           \n",
       "2                                         2.074780e-03                           \n",
       "3                                         4.937893e-04                           \n",
       "4                                         1.390317e-04                           \n",
       "..                                                 ...                           \n",
       "817                                       3.743790e-07                           \n",
       "818                                       3.137284e-04                           \n",
       "819                                       1.286175e-01                           \n",
       "820                                       0.000000e+00                           \n",
       "821                                       0.000000e+00                           \n",
       "\n",
       "     ('ILCD 2.0 2018 midpoint no LT', 'human health', 'carcinogenic effects')  \\\n",
       "0                                         4.140348e-02                          \n",
       "1                                         2.574635e-05                          \n",
       "2                                         9.374307e-04                          \n",
       "3                                         4.828374e-04                          \n",
       "4                                         7.502423e-05                          \n",
       "..                                                 ...                          \n",
       "817                                       3.305986e-07                          \n",
       "818                                       1.288506e-02                          \n",
       "819                                       1.073386e-01                          \n",
       "820                                       0.000000e+00                          \n",
       "821                                       0.000000e+00                          \n",
       "\n",
       "     ...  \\\n",
       "0    ...   \n",
       "1    ...   \n",
       "2    ...   \n",
       "3    ...   \n",
       "4    ...   \n",
       "..   ...   \n",
       "817  ...   \n",
       "818  ...   \n",
       "819  ...   \n",
       "820  ...   \n",
       "821  ...   \n",
       "\n",
       "     ('ILCD 2.0 2018 midpoint no LT', 'human health', 'photochemical ozone creation')  \\\n",
       "0                                         2.706575e-02                                  \n",
       "1                                         6.849983e-05                                  \n",
       "2                                         2.355705e-03                                  \n",
       "3                                         3.352078e-04                                  \n",
       "4                                         1.687140e-04                                  \n",
       "..                                                 ...                                  \n",
       "817                                       3.387887e-07                                  \n",
       "818                                       7.161783e-04                                  \n",
       "819                                       1.233717e-01                                  \n",
       "820                                       0.000000e+00                                  \n",
       "821                                       0.000000e+00                                  \n",
       "\n",
       "     ('ILCD 2.0 2018 midpoint no LT', 'ecosystem quality', 'freshwater and terrestrial acidification')  \\\n",
       "0                                         4.589531e-02                                                   \n",
       "1                                         4.204109e-05                                                   \n",
       "2                                         6.447973e-04                                                   \n",
       "3                                         2.930875e-04                                                   \n",
       "4                                         4.413883e-05                                                   \n",
       "..                                                 ...                                                   \n",
       "817                                       3.659593e-07                                                   \n",
       "818                                       4.527470e-04                                                   \n",
       "819                                       6.866728e-02                                                   \n",
       "820                                       0.000000e+00                                                   \n",
       "821                                       0.000000e+00                                                   \n",
       "\n",
       "     ('ILCD 2.0 2018 midpoint no LT', 'ecosystem quality', 'terrestrial eutrophication')  \\\n",
       "0                                         4.885007e-02                                     \n",
       "1                                         2.563337e-05                                     \n",
       "2                                         6.832037e-04                                     \n",
       "3                                         8.894325e-05                                     \n",
       "4                                         4.897285e-05                                     \n",
       "..                                                 ...                                     \n",
       "817                                       8.935539e-08                                     \n",
       "818                                       2.515045e-04                                     \n",
       "819                                       4.022428e-02                                     \n",
       "820                                       0.000000e+00                                     \n",
       "821                                       0.000000e+00                                     \n",
       "\n",
       "     ('ILCD 2.0 2018 midpoint no LT', 'ecosystem quality', 'freshwater eutrophication')  \\\n",
       "0                                         3.617287e-02                                    \n",
       "1                                         1.540792e-05                                    \n",
       "2                                         6.897240e-05                                    \n",
       "3                                         5.272527e-05                                    \n",
       "4                                         4.758593e-06                                    \n",
       "..                                                 ...                                    \n",
       "817                                       2.117522e-07                                    \n",
       "818                                       3.405559e-04                                    \n",
       "819                                       2.929166e-01                                    \n",
       "820                                       0.000000e+00                                    \n",
       "821                                       0.000000e+00                                    \n",
       "\n",
       "     ('ILCD 2.0 2018 midpoint no LT', 'ecosystem quality', 'marine eutrophication')  \\\n",
       "0                                         8.916888e-02                                \n",
       "1                                         8.806324e-06                                \n",
       "2                                         4.586970e-04                                \n",
       "3                                         5.636327e-05                                \n",
       "4                                         3.282194e-05                                \n",
       "..                                                 ...                                \n",
       "817                                       5.776241e-08                                \n",
       "818                                       1.336252e-04                                \n",
       "819                                       2.409793e-02                                \n",
       "820                                       0.000000e+00                                \n",
       "821                                       0.000000e+00                                \n",
       "\n",
       "     ('ILCD 2.0 2018 midpoint no LT', 'ecosystem quality', 'freshwater ecotoxicity')  \\\n",
       "0                                         3.444380e-03                                 \n",
       "1                                         4.466639e-06                                 \n",
       "2                                         2.935787e-04                                 \n",
       "3                                         7.247641e-05                                 \n",
       "4                                         1.072794e-05                                 \n",
       "..                                                 ...                                 \n",
       "817                                       4.757311e-08                                 \n",
       "818                                       9.442512e-04                                 \n",
       "819                                       1.060619e-02                                 \n",
       "820                                       0.000000e+00                                 \n",
       "821                                       0.000000e+00                                 \n",
       "\n",
       "     ('ILCD 2.0 2018 midpoint no LT', 'resources', 'land use')  \\\n",
       "0                                         2.719549e-02           \n",
       "1                                         1.700190e-06           \n",
       "2                                         6.230028e-05           \n",
       "3                                         1.650365e-05           \n",
       "4                                         1.416883e-05           \n",
       "..                                                 ...           \n",
       "817                                       9.411357e-09           \n",
       "818                                       3.775462e-05           \n",
       "819                                       3.940943e-03           \n",
       "820                                       0.000000e+00           \n",
       "821                                       0.000000e+00           \n",
       "\n",
       "     ('ILCD 2.0 2018 midpoint no LT', 'resources', 'dissipated water')  \\\n",
       "0                                         1.784068e-01                   \n",
       "1                                         1.063061e-06                   \n",
       "2                                         9.071524e-06                   \n",
       "3                                         2.340147e-05                   \n",
       "4                                         6.078752e-07                   \n",
       "..                                                 ...                   \n",
       "817                                       3.333672e-08                   \n",
       "818                                       1.993756e-05                   \n",
       "819                                       5.843932e-03                   \n",
       "820                                       0.000000e+00                   \n",
       "821                                       0.000000e+00                   \n",
       "\n",
       "     ('ILCD 2.0 2018 midpoint no LT', 'resources', 'minerals and metals')  \\\n",
       "0                                             0.051294                      \n",
       "1                                             0.000033                      \n",
       "2                                             0.001627                      \n",
       "3                                             0.001959                      \n",
       "4                                             0.000170                      \n",
       "..                                                 ...                      \n",
       "817                                           0.000001                      \n",
       "818                                           0.057342                      \n",
       "819                                           0.061754                      \n",
       "820                                           0.000000                      \n",
       "821                                           0.000000                      \n",
       "\n",
       "     ('ILCD 2.0 2018 midpoint no LT', 'resources', 'fossils')  \n",
       "0                                         2.076949e-02         \n",
       "1                                         7.461300e-05         \n",
       "2                                         1.004006e-03         \n",
       "3                                         3.956673e-04         \n",
       "4                                         6.512723e-05         \n",
       "..                                                 ...         \n",
       "817                                       8.651035e-07         \n",
       "818                                       3.854115e-04         \n",
       "819                                       5.004228e-01         \n",
       "820                                       0.000000e+00         \n",
       "821                                       0.000000e+00         \n",
       "\n",
       "[822 rows x 23 columns]"
      ]
     },
     "execution_count": 46,
     "metadata": {},
     "output_type": "execute_result"
    }
   ],
   "source": [
    "sensitivity_ratio_df_2=pa.calculate_sensitivity_ratios(LCIA_methods,\n",
    "                                                       perturb_results=results_2, \n",
    "                                                       perturb_input=perturb_input_2)\n",
    "sensitivity_ratio_df_2"
   ]
  },
  {
   "cell_type": "markdown",
   "id": "bbca93f4",
   "metadata": {},
   "source": [
    "### 4.5 Illustrate Results"
   ]
  },
  {
   "attachments": {
    "Step5.png": {
     "image/png": "[encoded data removed]"
    }
   },
   "cell_type": "markdown",
   "id": "1896f382",
   "metadata": {},
   "source": [
    "![Step5.png](attachment:Step5.png)"
   ]
  },
  {
   "cell_type": "code",
   "execution_count": 47,
   "id": "e2dfa8d4",
   "metadata": {},
   "outputs": [
    {
     "data": {
      "text/html": [
       "<div>\n",
       "<style scoped>\n",
       "    .dataframe tbody tr th:only-of-type {\n",
       "        vertical-align: middle;\n",
       "    }\n",
       "\n",
       "    .dataframe tbody tr th {\n",
       "        vertical-align: top;\n",
       "    }\n",
       "\n",
       "    .dataframe thead th {\n",
       "        text-align: right;\n",
       "    }\n",
       "</style>\n",
       "<table border=\"1\" class=\"dataframe\">\n",
       "  <thead>\n",
       "    <tr style=\"text-align: right;\">\n",
       "      <th></th>\n",
       "      <th>from</th>\n",
       "      <th>to</th>\n",
       "      <th>category</th>\n",
       "      <th>frequency in top results</th>\n",
       "    </tr>\n",
       "  </thead>\n",
       "  <tbody>\n",
       "    <tr>\n",
       "      <th>1</th>\n",
       "      <td>milk production, from cow</td>\n",
       "      <td>baking banana bread</td>\n",
       "      <td>others</td>\n",
       "      <td>5</td>\n",
       "    </tr>\n",
       "    <tr>\n",
       "      <th>2</th>\n",
       "      <td>almond production</td>\n",
       "      <td>baking banana bread</td>\n",
       "      <td>others</td>\n",
       "      <td>3</td>\n",
       "    </tr>\n",
       "    <tr>\n",
       "      <th>3</th>\n",
       "      <td>wheat grain processing, dry milling</td>\n",
       "      <td>market for wheat flour</td>\n",
       "      <td>others</td>\n",
       "      <td>2</td>\n",
       "    </tr>\n",
       "    <tr>\n",
       "      <th>4</th>\n",
       "      <td>market for electricity, medium voltage</td>\n",
       "      <td>baking banana bread</td>\n",
       "      <td>electricity</td>\n",
       "      <td>2</td>\n",
       "    </tr>\n",
       "    <tr>\n",
       "      <th>5</th>\n",
       "      <td>electricity voltage transformation from high t...</td>\n",
       "      <td>market for electricity, medium voltage</td>\n",
       "      <td>electricity</td>\n",
       "      <td>2</td>\n",
       "    </tr>\n",
       "    <tr>\n",
       "      <th>...</th>\n",
       "      <td>...</td>\n",
       "      <td>...</td>\n",
       "      <td>...</td>\n",
       "      <td>...</td>\n",
       "    </tr>\n",
       "    <tr>\n",
       "      <th>8</th>\n",
       "      <td>coconut oil production, crude</td>\n",
       "      <td>baking banana bread</td>\n",
       "      <td>others</td>\n",
       "      <td>1</td>\n",
       "    </tr>\n",
       "    <tr>\n",
       "      <th>9</th>\n",
       "      <td>market for coconut, dehusked</td>\n",
       "      <td>coconut oil production, crude</td>\n",
       "      <td>others</td>\n",
       "      <td>1</td>\n",
       "    </tr>\n",
       "    <tr>\n",
       "      <th>10</th>\n",
       "      <td>transport, freight, aircraft, belly-freight, l...</td>\n",
       "      <td>baking banana bread</td>\n",
       "      <td>transport</td>\n",
       "      <td>1</td>\n",
       "    </tr>\n",
       "    <tr>\n",
       "      <th>11</th>\n",
       "      <td>Zinc</td>\n",
       "      <td>almond production</td>\n",
       "      <td>others</td>\n",
       "      <td>1</td>\n",
       "    </tr>\n",
       "    <tr>\n",
       "      <th>12</th>\n",
       "      <td>Water</td>\n",
       "      <td>almond production</td>\n",
       "      <td>others</td>\n",
       "      <td>1</td>\n",
       "    </tr>\n",
       "  </tbody>\n",
       "</table>\n",
       "<p>12 rows × 4 columns</p>\n",
       "</div>"
      ],
      "text/plain": [
       "                                                 from  \\\n",
       "1                           milk production, from cow   \n",
       "2                                   almond production   \n",
       "3                 wheat grain processing, dry milling   \n",
       "4              market for electricity, medium voltage   \n",
       "5   electricity voltage transformation from high t...   \n",
       "..                                                ...   \n",
       "8                       coconut oil production, crude   \n",
       "9                        market for coconut, dehusked   \n",
       "10  transport, freight, aircraft, belly-freight, l...   \n",
       "11                                               Zinc   \n",
       "12                                              Water   \n",
       "\n",
       "                                        to     category  \\\n",
       "1                      baking banana bread       others   \n",
       "2                      baking banana bread       others   \n",
       "3                   market for wheat flour       others   \n",
       "4                      baking banana bread  electricity   \n",
       "5   market for electricity, medium voltage  electricity   \n",
       "..                                     ...          ...   \n",
       "8                      baking banana bread       others   \n",
       "9            coconut oil production, crude       others   \n",
       "10                     baking banana bread    transport   \n",
       "11                       almond production       others   \n",
       "12                       almond production       others   \n",
       "\n",
       "   frequency in top results  \n",
       "1                         5  \n",
       "2                         3  \n",
       "3                         2  \n",
       "4                         2  \n",
       "5                         2  \n",
       "..                      ...  \n",
       "8                         1  \n",
       "9                         1  \n",
       "10                        1  \n",
       "11                        1  \n",
       "12                        1  \n",
       "\n",
       "[12 rows x 4 columns]"
      ]
     },
     "execution_count": 47,
     "metadata": {},
     "output_type": "execute_result"
    },
    {
     "data": {
      "image/png": "[encoded data removed]",
      "text/plain": [
       "<Figure size 864x576 with 2 Axes>"
      ]
     },
     "metadata": {},
     "output_type": "display_data"
    }
   ],
   "source": [
    "pa.plot_sensitivity_ratios_with_hist_absolute_with_legend(sensitivity_ratio_df_2,\n",
    "                                                          LCIA_methods,LCIA_method_names=LCIA_method_names,\n",
    "                                                          hist_IC=0, top=None, SR_min=0.3)"
   ]
  },
  {
   "cell_type": "code",
   "execution_count": 48,
   "id": "6c0e2a19",
   "metadata": {},
   "outputs": [
    {
     "data": {
      "image/png": "[encoded data removed]",
      "text/plain": [
       "<Figure size 864x576 with 2 Axes>"
      ]
     },
     "metadata": {},
     "output_type": "display_data"
    }
   ],
   "source": [
    "pa.plot_sensitivity_ratios_with_hist_absolute(sensitivity_ratio_df_2,\n",
    "                                                          LCIA_methods,LCIA_method_names=LCIA_method_names,\n",
    "                                                          hist_IC=0)"
   ]
  },
  {
   "cell_type": "code",
   "execution_count": 49,
   "id": "a6f746a4",
   "metadata": {},
   "outputs": [
    {
     "data": {
      "text/html": [
       "<div>\n",
       "<style scoped>\n",
       "    .dataframe tbody tr th:only-of-type {\n",
       "        vertical-align: middle;\n",
       "    }\n",
       "\n",
       "    .dataframe tbody tr th {\n",
       "        vertical-align: top;\n",
       "    }\n",
       "\n",
       "    .dataframe thead th {\n",
       "        text-align: right;\n",
       "    }\n",
       "</style>\n",
       "<table border=\"1\" class=\"dataframe\">\n",
       "  <thead>\n",
       "    <tr style=\"text-align: right;\">\n",
       "      <th></th>\n",
       "      <th>from</th>\n",
       "      <th>from - code</th>\n",
       "      <th>from - location</th>\n",
       "      <th>to</th>\n",
       "      <th>to - code</th>\n",
       "      <th>type</th>\n",
       "      <th>category</th>\n",
       "      <th>('ILCD 2.0 2018 midpoint no LT', 'climate change', 'climate change total')</th>\n",
       "      <th>('ILCD 2.0 2018 midpoint no LT', 'human health', 'ozone layer depletion')</th>\n",
       "      <th>('ILCD 2.0 2018 midpoint no LT', 'human health', 'carcinogenic effects')</th>\n",
       "      <th>...</th>\n",
       "      <th>('ILCD 2.0 2018 midpoint no LT', 'human health', 'photochemical ozone creation')</th>\n",
       "      <th>('ILCD 2.0 2018 midpoint no LT', 'ecosystem quality', 'freshwater and terrestrial acidification')</th>\n",
       "      <th>('ILCD 2.0 2018 midpoint no LT', 'ecosystem quality', 'terrestrial eutrophication')</th>\n",
       "      <th>('ILCD 2.0 2018 midpoint no LT', 'ecosystem quality', 'freshwater eutrophication')</th>\n",
       "      <th>('ILCD 2.0 2018 midpoint no LT', 'ecosystem quality', 'marine eutrophication')</th>\n",
       "      <th>('ILCD 2.0 2018 midpoint no LT', 'ecosystem quality', 'freshwater ecotoxicity')</th>\n",
       "      <th>('ILCD 2.0 2018 midpoint no LT', 'resources', 'land use')</th>\n",
       "      <th>('ILCD 2.0 2018 midpoint no LT', 'resources', 'dissipated water')</th>\n",
       "      <th>('ILCD 2.0 2018 midpoint no LT', 'resources', 'minerals and metals')</th>\n",
       "      <th>('ILCD 2.0 2018 midpoint no LT', 'resources', 'fossils')</th>\n",
       "    </tr>\n",
       "  </thead>\n",
       "  <tbody>\n",
       "    <tr>\n",
       "      <th>512</th>\n",
       "      <td>wheat grain processing, dry milling</td>\n",
       "      <td>bfe319e9fff71ed8b7a9bf4794036971</td>\n",
       "      <td>RoW</td>\n",
       "      <td>market for wheat flour</td>\n",
       "      <td>72297801f1495a317939b37d37bf8a9e</td>\n",
       "      <td>technosphere</td>\n",
       "      <td>others</td>\n",
       "      <td>0.109278</td>\n",
       "      <td>0.126149</td>\n",
       "      <td>0.311451</td>\n",
       "      <td>...</td>\n",
       "      <td>0.143853</td>\n",
       "      <td>0.193774</td>\n",
       "      <td>0.206172</td>\n",
       "      <td>0.384442</td>\n",
       "      <td>0.226769</td>\n",
       "      <td>0.041691</td>\n",
       "      <td>0.189968</td>\n",
       "      <td>0.158504</td>\n",
       "      <td>0.207372</td>\n",
       "      <td>0.084732</td>\n",
       "    </tr>\n",
       "    <tr>\n",
       "      <th>771</th>\n",
       "      <td>Ammonia</td>\n",
       "      <td>0f440cc0-0f74-446d-99d6-8ff0e97a2444</td>\n",
       "      <td>('air', 'non-urban air or from high stacks')</td>\n",
       "      <td>milk production, from cow</td>\n",
       "      <td>30983ca593f5379869b9b7e3f6ccbf65</td>\n",
       "      <td>biosphere</td>\n",
       "      <td>others</td>\n",
       "      <td>0.000000</td>\n",
       "      <td>0.000000</td>\n",
       "      <td>0.000000</td>\n",
       "      <td>...</td>\n",
       "      <td>0.000000</td>\n",
       "      <td>0.213472</td>\n",
       "      <td>0.240247</td>\n",
       "      <td>0.000000</td>\n",
       "      <td>0.012115</td>\n",
       "      <td>0.000000</td>\n",
       "      <td>0.000000</td>\n",
       "      <td>0.000000</td>\n",
       "      <td>0.000000</td>\n",
       "      <td>0.000000</td>\n",
       "    </tr>\n",
       "    <tr>\n",
       "      <th>774</th>\n",
       "      <td>Occupation, pasture, man made</td>\n",
       "      <td>59ded913-17fe-4b3e-80cb-79b97cdbef9a</td>\n",
       "      <td>('natural resource', 'land')</td>\n",
       "      <td>milk production, from cow</td>\n",
       "      <td>30983ca593f5379869b9b7e3f6ccbf65</td>\n",
       "      <td>biosphere</td>\n",
       "      <td>others</td>\n",
       "      <td>0.000000</td>\n",
       "      <td>0.000000</td>\n",
       "      <td>0.000000</td>\n",
       "      <td>...</td>\n",
       "      <td>0.000000</td>\n",
       "      <td>0.000000</td>\n",
       "      <td>0.000000</td>\n",
       "      <td>0.000000</td>\n",
       "      <td>0.000000</td>\n",
       "      <td>0.000000</td>\n",
       "      <td>0.569821</td>\n",
       "      <td>0.000000</td>\n",
       "      <td>0.000000</td>\n",
       "      <td>0.000000</td>\n",
       "    </tr>\n",
       "    <tr>\n",
       "      <th>616</th>\n",
       "      <td>milk production, from cow</td>\n",
       "      <td>30983ca593f5379869b9b7e3f6ccbf65</td>\n",
       "      <td>RoW</td>\n",
       "      <td>baking banana bread</td>\n",
       "      <td>bakingbananabread</td>\n",
       "      <td>technosphere</td>\n",
       "      <td>others</td>\n",
       "      <td>0.300395</td>\n",
       "      <td>0.133804</td>\n",
       "      <td>0.240155</td>\n",
       "      <td>...</td>\n",
       "      <td>0.167373</td>\n",
       "      <td>0.331298</td>\n",
       "      <td>0.351468</td>\n",
       "      <td>0.187628</td>\n",
       "      <td>0.254833</td>\n",
       "      <td>0.095074</td>\n",
       "      <td>0.649810</td>\n",
       "      <td>0.037369</td>\n",
       "      <td>0.275071</td>\n",
       "      <td>0.118005</td>\n",
       "    </tr>\n",
       "    <tr>\n",
       "      <th>204</th>\n",
       "      <td>coconut oil production, crude</td>\n",
       "      <td>e7e518b52017a50bbbbac1098c11f5f5</td>\n",
       "      <td>RoW</td>\n",
       "      <td>baking banana bread</td>\n",
       "      <td>bakingbananabread</td>\n",
       "      <td>technosphere</td>\n",
       "      <td>others</td>\n",
       "      <td>0.091678</td>\n",
       "      <td>0.079429</td>\n",
       "      <td>0.195368</td>\n",
       "      <td>...</td>\n",
       "      <td>0.140581</td>\n",
       "      <td>0.124125</td>\n",
       "      <td>0.129333</td>\n",
       "      <td>0.071740</td>\n",
       "      <td>0.265003</td>\n",
       "      <td>0.412226</td>\n",
       "      <td>0.087333</td>\n",
       "      <td>0.089686</td>\n",
       "      <td>0.186455</td>\n",
       "      <td>0.062660</td>\n",
       "    </tr>\n",
       "    <tr>\n",
       "      <th>...</th>\n",
       "      <td>...</td>\n",
       "      <td>...</td>\n",
       "      <td>...</td>\n",
       "      <td>...</td>\n",
       "      <td>...</td>\n",
       "      <td>...</td>\n",
       "      <td>...</td>\n",
       "      <td>...</td>\n",
       "      <td>...</td>\n",
       "      <td>...</td>\n",
       "      <td>...</td>\n",
       "      <td>...</td>\n",
       "      <td>...</td>\n",
       "      <td>...</td>\n",
       "      <td>...</td>\n",
       "      <td>...</td>\n",
       "      <td>...</td>\n",
       "      <td>...</td>\n",
       "      <td>...</td>\n",
       "      <td>...</td>\n",
       "      <td>...</td>\n",
       "    </tr>\n",
       "    <tr>\n",
       "      <th>438</th>\n",
       "      <td>Zinc</td>\n",
       "      <td>84aa799e-9d98-4d34-85e0-516d28ab1be9</td>\n",
       "      <td>('soil', 'agricultural')</td>\n",
       "      <td>almond production</td>\n",
       "      <td>a9b66be975b737b12705f3366d31bd1e</td>\n",
       "      <td>biosphere</td>\n",
       "      <td>others</td>\n",
       "      <td>0.000000</td>\n",
       "      <td>0.000000</td>\n",
       "      <td>0.000000</td>\n",
       "      <td>...</td>\n",
       "      <td>0.000000</td>\n",
       "      <td>0.000000</td>\n",
       "      <td>0.000000</td>\n",
       "      <td>0.000000</td>\n",
       "      <td>0.000000</td>\n",
       "      <td>0.153109</td>\n",
       "      <td>0.000000</td>\n",
       "      <td>0.000000</td>\n",
       "      <td>0.000000</td>\n",
       "      <td>0.000000</td>\n",
       "    </tr>\n",
       "    <tr>\n",
       "      <th>442</th>\n",
       "      <td>Water</td>\n",
       "      <td>09872080-d143-4fb1-a3a5-647b077107ff</td>\n",
       "      <td>('air', 'non-urban air or from high stacks')</td>\n",
       "      <td>almond production</td>\n",
       "      <td>a9b66be975b737b12705f3366d31bd1e</td>\n",
       "      <td>biosphere</td>\n",
       "      <td>others</td>\n",
       "      <td>0.000000</td>\n",
       "      <td>0.000000</td>\n",
       "      <td>0.000000</td>\n",
       "      <td>...</td>\n",
       "      <td>0.000000</td>\n",
       "      <td>0.000000</td>\n",
       "      <td>0.000000</td>\n",
       "      <td>0.000000</td>\n",
       "      <td>0.000000</td>\n",
       "      <td>0.000000</td>\n",
       "      <td>0.000000</td>\n",
       "      <td>0.302071</td>\n",
       "      <td>0.000000</td>\n",
       "      <td>0.000000</td>\n",
       "    </tr>\n",
       "    <tr>\n",
       "      <th>509</th>\n",
       "      <td>market for wheat flour</td>\n",
       "      <td>72297801f1495a317939b37d37bf8a9e</td>\n",
       "      <td>RoW</td>\n",
       "      <td>baking banana bread</td>\n",
       "      <td>bakingbananabread</td>\n",
       "      <td>technosphere</td>\n",
       "      <td>others</td>\n",
       "      <td>0.114128</td>\n",
       "      <td>0.143586</td>\n",
       "      <td>0.316771</td>\n",
       "      <td>...</td>\n",
       "      <td>0.154477</td>\n",
       "      <td>0.196829</td>\n",
       "      <td>0.209119</td>\n",
       "      <td>0.384778</td>\n",
       "      <td>0.228743</td>\n",
       "      <td>0.043359</td>\n",
       "      <td>0.190241</td>\n",
       "      <td>0.158552</td>\n",
       "      <td>0.213784</td>\n",
       "      <td>0.092117</td>\n",
       "    </tr>\n",
       "    <tr>\n",
       "      <th>478</th>\n",
       "      <td>market for kerosene</td>\n",
       "      <td>1c6db7d522c5e7835f4ea46027672305</td>\n",
       "      <td>RoW</td>\n",
       "      <td>transport, freight, aircraft, belly-freight, l...</td>\n",
       "      <td>034bbdcaaf672de1e7a1fe4c26372892</td>\n",
       "      <td>technosphere</td>\n",
       "      <td>others</td>\n",
       "      <td>0.009187</td>\n",
       "      <td>0.263037</td>\n",
       "      <td>0.006647</td>\n",
       "      <td>...</td>\n",
       "      <td>0.021395</td>\n",
       "      <td>0.011985</td>\n",
       "      <td>0.004211</td>\n",
       "      <td>0.000506</td>\n",
       "      <td>0.002834</td>\n",
       "      <td>0.001811</td>\n",
       "      <td>0.000126</td>\n",
       "      <td>0.000147</td>\n",
       "      <td>0.002086</td>\n",
       "      <td>0.094646</td>\n",
       "    </tr>\n",
       "    <tr>\n",
       "      <th>319</th>\n",
       "      <td>almond production</td>\n",
       "      <td>a9b66be975b737b12705f3366d31bd1e</td>\n",
       "      <td>RoW</td>\n",
       "      <td>baking banana bread</td>\n",
       "      <td>bakingbananabread</td>\n",
       "      <td>technosphere</td>\n",
       "      <td>others</td>\n",
       "      <td>0.041794</td>\n",
       "      <td>0.048245</td>\n",
       "      <td>0.048100</td>\n",
       "      <td>...</td>\n",
       "      <td>0.061911</td>\n",
       "      <td>0.074183</td>\n",
       "      <td>0.076214</td>\n",
       "      <td>0.024714</td>\n",
       "      <td>0.059938</td>\n",
       "      <td>0.427576</td>\n",
       "      <td>0.039746</td>\n",
       "      <td>0.303822</td>\n",
       "      <td>0.127361</td>\n",
       "      <td>0.040152</td>\n",
       "    </tr>\n",
       "  </tbody>\n",
       "</table>\n",
       "<p>13 rows × 23 columns</p>\n",
       "</div>"
      ],
      "text/plain": [
       "                                    from  \\\n",
       "512  wheat grain processing, dry milling   \n",
       "771                              Ammonia   \n",
       "774        Occupation, pasture, man made   \n",
       "616            milk production, from cow   \n",
       "204        coconut oil production, crude   \n",
       "..                                   ...   \n",
       "438                                 Zinc   \n",
       "442                                Water   \n",
       "509               market for wheat flour   \n",
       "478                  market for kerosene   \n",
       "319                    almond production   \n",
       "\n",
       "                              from - code  \\\n",
       "512      bfe319e9fff71ed8b7a9bf4794036971   \n",
       "771  0f440cc0-0f74-446d-99d6-8ff0e97a2444   \n",
       "774  59ded913-17fe-4b3e-80cb-79b97cdbef9a   \n",
       "616      30983ca593f5379869b9b7e3f6ccbf65   \n",
       "204      e7e518b52017a50bbbbac1098c11f5f5   \n",
       "..                                    ...   \n",
       "438  84aa799e-9d98-4d34-85e0-516d28ab1be9   \n",
       "442  09872080-d143-4fb1-a3a5-647b077107ff   \n",
       "509      72297801f1495a317939b37d37bf8a9e   \n",
       "478      1c6db7d522c5e7835f4ea46027672305   \n",
       "319      a9b66be975b737b12705f3366d31bd1e   \n",
       "\n",
       "                                  from - location  \\\n",
       "512                                           RoW   \n",
       "771  ('air', 'non-urban air or from high stacks')   \n",
       "774                  ('natural resource', 'land')   \n",
       "616                                           RoW   \n",
       "204                                           RoW   \n",
       "..                                            ...   \n",
       "438                      ('soil', 'agricultural')   \n",
       "442  ('air', 'non-urban air or from high stacks')   \n",
       "509                                           RoW   \n",
       "478                                           RoW   \n",
       "319                                           RoW   \n",
       "\n",
       "                                                    to  \\\n",
       "512                             market for wheat flour   \n",
       "771                          milk production, from cow   \n",
       "774                          milk production, from cow   \n",
       "616                                baking banana bread   \n",
       "204                                baking banana bread   \n",
       "..                                                 ...   \n",
       "438                                  almond production   \n",
       "442                                  almond production   \n",
       "509                                baking banana bread   \n",
       "478  transport, freight, aircraft, belly-freight, l...   \n",
       "319                                baking banana bread   \n",
       "\n",
       "                            to - code          type category  \\\n",
       "512  72297801f1495a317939b37d37bf8a9e  technosphere   others   \n",
       "771  30983ca593f5379869b9b7e3f6ccbf65     biosphere   others   \n",
       "774  30983ca593f5379869b9b7e3f6ccbf65     biosphere   others   \n",
       "616                 bakingbananabread  technosphere   others   \n",
       "204                 bakingbananabread  technosphere   others   \n",
       "..                                ...           ...      ...   \n",
       "438  a9b66be975b737b12705f3366d31bd1e     biosphere   others   \n",
       "442  a9b66be975b737b12705f3366d31bd1e     biosphere   others   \n",
       "509                 bakingbananabread  technosphere   others   \n",
       "478  034bbdcaaf672de1e7a1fe4c26372892  technosphere   others   \n",
       "319                 bakingbananabread  technosphere   others   \n",
       "\n",
       "     ('ILCD 2.0 2018 midpoint no LT', 'climate change', 'climate change total')  \\\n",
       "512                                           0.109278                            \n",
       "771                                           0.000000                            \n",
       "774                                           0.000000                            \n",
       "616                                           0.300395                            \n",
       "204                                           0.091678                            \n",
       "..                                                 ...                            \n",
       "438                                           0.000000                            \n",
       "442                                           0.000000                            \n",
       "509                                           0.114128                            \n",
       "478                                           0.009187                            \n",
       "319                                           0.041794                            \n",
       "\n",
       "     ('ILCD 2.0 2018 midpoint no LT', 'human health', 'ozone layer depletion')  \\\n",
       "512                                           0.126149                           \n",
       "771                                           0.000000                           \n",
       "774                                           0.000000                           \n",
       "616                                           0.133804                           \n",
       "204                                           0.079429                           \n",
       "..                                                 ...                           \n",
       "438                                           0.000000                           \n",
       "442                                           0.000000                           \n",
       "509                                           0.143586                           \n",
       "478                                           0.263037                           \n",
       "319                                           0.048245                           \n",
       "\n",
       "     ('ILCD 2.0 2018 midpoint no LT', 'human health', 'carcinogenic effects')  \\\n",
       "512                                           0.311451                          \n",
       "771                                           0.000000                          \n",
       "774                                           0.000000                          \n",
       "616                                           0.240155                          \n",
       "204                                           0.195368                          \n",
       "..                                                 ...                          \n",
       "438                                           0.000000                          \n",
       "442                                           0.000000                          \n",
       "509                                           0.316771                          \n",
       "478                                           0.006647                          \n",
       "319                                           0.048100                          \n",
       "\n",
       "     ...  \\\n",
       "512  ...   \n",
       "771  ...   \n",
       "774  ...   \n",
       "616  ...   \n",
       "204  ...   \n",
       "..   ...   \n",
       "438  ...   \n",
       "442  ...   \n",
       "509  ...   \n",
       "478  ...   \n",
       "319  ...   \n",
       "\n",
       "     ('ILCD 2.0 2018 midpoint no LT', 'human health', 'photochemical ozone creation')  \\\n",
       "512                                           0.143853                                  \n",
       "771                                           0.000000                                  \n",
       "774                                           0.000000                                  \n",
       "616                                           0.167373                                  \n",
       "204                                           0.140581                                  \n",
       "..                                                 ...                                  \n",
       "438                                           0.000000                                  \n",
       "442                                           0.000000                                  \n",
       "509                                           0.154477                                  \n",
       "478                                           0.021395                                  \n",
       "319                                           0.061911                                  \n",
       "\n",
       "     ('ILCD 2.0 2018 midpoint no LT', 'ecosystem quality', 'freshwater and terrestrial acidification')  \\\n",
       "512                                           0.193774                                                   \n",
       "771                                           0.213472                                                   \n",
       "774                                           0.000000                                                   \n",
       "616                                           0.331298                                                   \n",
       "204                                           0.124125                                                   \n",
       "..                                                 ...                                                   \n",
       "438                                           0.000000                                                   \n",
       "442                                           0.000000                                                   \n",
       "509                                           0.196829                                                   \n",
       "478                                           0.011985                                                   \n",
       "319                                           0.074183                                                   \n",
       "\n",
       "     ('ILCD 2.0 2018 midpoint no LT', 'ecosystem quality', 'terrestrial eutrophication')  \\\n",
       "512                                           0.206172                                     \n",
       "771                                           0.240247                                     \n",
       "774                                           0.000000                                     \n",
       "616                                           0.351468                                     \n",
       "204                                           0.129333                                     \n",
       "..                                                 ...                                     \n",
       "438                                           0.000000                                     \n",
       "442                                           0.000000                                     \n",
       "509                                           0.209119                                     \n",
       "478                                           0.004211                                     \n",
       "319                                           0.076214                                     \n",
       "\n",
       "     ('ILCD 2.0 2018 midpoint no LT', 'ecosystem quality', 'freshwater eutrophication')  \\\n",
       "512                                           0.384442                                    \n",
       "771                                           0.000000                                    \n",
       "774                                           0.000000                                    \n",
       "616                                           0.187628                                    \n",
       "204                                           0.071740                                    \n",
       "..                                                 ...                                    \n",
       "438                                           0.000000                                    \n",
       "442                                           0.000000                                    \n",
       "509                                           0.384778                                    \n",
       "478                                           0.000506                                    \n",
       "319                                           0.024714                                    \n",
       "\n",
       "     ('ILCD 2.0 2018 midpoint no LT', 'ecosystem quality', 'marine eutrophication')  \\\n",
       "512                                           0.226769                                \n",
       "771                                           0.012115                                \n",
       "774                                           0.000000                                \n",
       "616                                           0.254833                                \n",
       "204                                           0.265003                                \n",
       "..                                                 ...                                \n",
       "438                                           0.000000                                \n",
       "442                                           0.000000                                \n",
       "509                                           0.228743                                \n",
       "478                                           0.002834                                \n",
       "319                                           0.059938                                \n",
       "\n",
       "     ('ILCD 2.0 2018 midpoint no LT', 'ecosystem quality', 'freshwater ecotoxicity')  \\\n",
       "512                                           0.041691                                 \n",
       "771                                           0.000000                                 \n",
       "774                                           0.000000                                 \n",
       "616                                           0.095074                                 \n",
       "204                                           0.412226                                 \n",
       "..                                                 ...                                 \n",
       "438                                           0.153109                                 \n",
       "442                                           0.000000                                 \n",
       "509                                           0.043359                                 \n",
       "478                                           0.001811                                 \n",
       "319                                           0.427576                                 \n",
       "\n",
       "     ('ILCD 2.0 2018 midpoint no LT', 'resources', 'land use')  \\\n",
       "512                                           0.189968           \n",
       "771                                           0.000000           \n",
       "774                                           0.569821           \n",
       "616                                           0.649810           \n",
       "204                                           0.087333           \n",
       "..                                                 ...           \n",
       "438                                           0.000000           \n",
       "442                                           0.000000           \n",
       "509                                           0.190241           \n",
       "478                                           0.000126           \n",
       "319                                           0.039746           \n",
       "\n",
       "     ('ILCD 2.0 2018 midpoint no LT', 'resources', 'dissipated water')  \\\n",
       "512                                           0.158504                   \n",
       "771                                           0.000000                   \n",
       "774                                           0.000000                   \n",
       "616                                           0.037369                   \n",
       "204                                           0.089686                   \n",
       "..                                                 ...                   \n",
       "438                                           0.000000                   \n",
       "442                                           0.302071                   \n",
       "509                                           0.158552                   \n",
       "478                                           0.000147                   \n",
       "319                                           0.303822                   \n",
       "\n",
       "     ('ILCD 2.0 2018 midpoint no LT', 'resources', 'minerals and metals')  \\\n",
       "512                                           0.207372                      \n",
       "771                                           0.000000                      \n",
       "774                                           0.000000                      \n",
       "616                                           0.275071                      \n",
       "204                                           0.186455                      \n",
       "..                                                 ...                      \n",
       "438                                           0.000000                      \n",
       "442                                           0.000000                      \n",
       "509                                           0.213784                      \n",
       "478                                           0.002086                      \n",
       "319                                           0.127361                      \n",
       "\n",
       "     ('ILCD 2.0 2018 midpoint no LT', 'resources', 'fossils')  \n",
       "512                                           0.084732         \n",
       "771                                           0.000000         \n",
       "774                                           0.000000         \n",
       "616                                           0.118005         \n",
       "204                                           0.062660         \n",
       "..                                                 ...         \n",
       "438                                           0.000000         \n",
       "442                                           0.000000         \n",
       "509                                           0.092117         \n",
       "478                                           0.094646         \n",
       "319                                           0.040152         \n",
       "\n",
       "[13 rows x 23 columns]"
      ]
     },
     "execution_count": 49,
     "metadata": {},
     "output_type": "execute_result"
    }
   ],
   "source": [
    "pa.top_sensitivity_ratios(sensitivity_ratio_df_2,top=2)"
   ]
  }
 ],
 "metadata": {
  "kernelspec": {
   "display_name": "Python 3 (ipykernel)",
   "language": "python",
   "name": "python3"
  },
  "language_info": {
   "codemirror_mode": {
    "name": "ipython",
    "version": 3
   },
   "file_extension": ".py",
   "mimetype": "text/x-python",
   "name": "python",
   "nbconvert_exporter": "python",
   "pygments_lexer": "ipython3",
   "version": "3.8.12"
  },
  "toc": {
   "base_numbering": 1,
   "nav_menu": {},
   "number_sections": false,
   "sideBar": true,
   "skip_h1_title": true,
   "title_cell": "Table of Contents",
   "title_sidebar": "Contents",
   "toc_cell": true,
   "toc_position": {
    "height": "calc(100% - 180px)",
    "left": "10px",
    "top": "150px",
    "width": "165px"
   },
   "toc_section_display": true,
   "toc_window_display": true
  }
 },
 "nbformat": 4,
 "nbformat_minor": 5
}
